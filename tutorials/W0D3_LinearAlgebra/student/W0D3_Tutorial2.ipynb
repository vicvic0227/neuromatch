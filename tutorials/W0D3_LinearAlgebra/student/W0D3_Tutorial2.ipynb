{
  "cells": [
    {
      "cell_type": "markdown",
      "metadata": {
        "id": "view-in-github",
        "colab_type": "text"
      },
      "source": [
        "<a href=\"https://colab.research.google.com/github/vicvic0227/neuromatch/blob/main/tutorials/W0D3_LinearAlgebra/student/W0D3_Tutorial2.ipynb\" target=\"_parent\"><img src=\"https://colab.research.google.com/assets/colab-badge.svg\" alt=\"Open In Colab\"/></a>"
      ]
    },
    {
      "cell_type": "markdown",
      "metadata": {
        "execution": {},
        "id": "PzU3VYSXodoi"
      },
      "source": [
        "# Tutorial 2: Matrices\n",
        "\n",
        "**Week 0, Day 3: Linear Algebra**\n",
        "\n",
        "**By Neuromatch Academy**\n",
        "\n",
        "__Content creators:__ Ella Batty\n",
        "\n",
        "__Content reviewers:__ Keith van Antwerp, Aderogba Bayo, Anoop Kulkarni, Pooya Pakarian\n",
        "\n",
        "__Production editors:__ Siddharth Suresh, Ella Batty  "
      ]
    },
    {
      "cell_type": "markdown",
      "metadata": {
        "execution": {},
        "id": "YmNdq8q5odol"
      },
      "source": [
        "---\n",
        "# Tutorial Objectives\n",
        "\n",
        "*Estimated timing of tutorial: 1 hour, 35 minutes*\n",
        "\n",
        "During today, we will learn the basics of linear algebra, focusing on the topics that underlie the material on future days in the NMA Computational Neuroscience course. In this tutorial, we focus on matrices: their definition, their properties & operations, and especially on a geometrical intuition of them.\n",
        "\n",
        "By the end of this tutorial, you will be able to :\n",
        "* Explain matrices as a linear transformation and relate matrix properties to properties of that linear transformation\n",
        "*  Perform matrix multiplication by hand\n",
        "*  Define what eigenvalues/eigenvectors are\n",
        "\n",
        "\n"
      ]
    },
    {
      "cell_type": "markdown",
      "metadata": {
        "execution": {},
        "id": "T9o0vdR-odon"
      },
      "source": [
        "**Code Credit:**\n",
        "\n",
        "Some elements of this problem set are from or inspired by https://openedx.seas.gwu.edu/courses/course-v1:GW+EngComp4+2019/about. In particular, we are using their `plot_linear_transformation` and `plot_linear_transformations` functions.\n",
        "\n",
        "**License**:\n",
        "\n",
        "Code under BSD 3-Clause License © 2019 Lorena A. Barba, Tingyu Wang. THIS SOFTWARE IS PROVIDED BY THE COPYRIGHT HOLDERS AND CONTRIBUTORS \"AS IS\" AND ANY EXPRESS OR IMPLIED WARRANTIES, INCLUDING, BUT NOT LIMITED TO, THE IMPLIED WARRANTIES OF MERCHANTABILITY AND FITNESS FOR A PARTICULAR PURPOSE ARE DISCLAIMED. IN NO EVENT SHALL THE COPYRIGHT HOLDER OR CONTRIBUTORS BE LIABLE FOR ANY DIRECT, INDIRECT, INCIDENTAL, SPECIAL, EXEMPLARY, OR CONSEQUENTIAL DAMAGES (INCLUDING, BUT NOT LIMITED TO, PROCUREMENT OF SUBSTITUTE GOODS OR SERVICES; LOSS OF USE, DATA, OR PROFITS; OR BUSINESS INTERRUPTION) HOWEVER CAUSED AND ON ANY THEORY OF LIABILITY, WHETHER IN CONTRACT, STRICT LIABILITY, OR TORT (INCLUDING NEGLIGENCE OR OTHERWISE) ARISING IN ANY WAY OUT OF THE USE OF THIS SOFTWARE, EVEN IF ADVISED OF THE POSSIBILITY OF SUCH DAMAGE."
      ]
    },
    {
      "cell_type": "markdown",
      "metadata": {
        "execution": {},
        "id": "W6Pu3qNModop"
      },
      "source": [
        "---\n",
        "# Setup"
      ]
    },
    {
      "cell_type": "code",
      "execution_count": 9,
      "metadata": {
        "cellView": "form",
        "execution": {},
        "colab": {
          "base_uri": "https://localhost:8080/"
        },
        "id": "jefQ3394odoq",
        "outputId": "3fc2edb6-e702-41c7-dba4-1fca62b8f7a7"
      },
      "outputs": [
        {
          "output_type": "stream",
          "name": "stdout",
          "text": [
            "  Preparing metadata (setup.py) ... \u001b[?25l\u001b[?25hdone\n",
            "  Preparing metadata (setup.py) ... \u001b[?25l\u001b[?25hdone\n",
            "\u001b[2K   \u001b[90m━━━━━━━━━━━━━━━━━━━━━━━━━━━━━━━━━━━━━━━━\u001b[0m \u001b[32m1.6/1.6 MB\u001b[0m \u001b[31m20.5 MB/s\u001b[0m eta \u001b[36m0:00:00\u001b[0m\n",
            "\u001b[?25h  Building wheel for vibecheck (setup.py) ... \u001b[?25l\u001b[?25hdone\n",
            "  Building wheel for datatops (setup.py) ... \u001b[?25l\u001b[?25hdone\n"
          ]
        }
      ],
      "source": [
        "# @title Install and import feedback gadget\n",
        "\n",
        "!pip3 install vibecheck datatops --quiet\n",
        "\n",
        "from vibecheck import DatatopsContentReviewContainer\n",
        "def content_review(notebook_section: str):\n",
        "    return DatatopsContentReviewContainer(\n",
        "        \"\",  # No text prompt\n",
        "        notebook_section,\n",
        "        {\n",
        "            \"url\": \"https://pmyvdlilci.execute-api.us-east-1.amazonaws.com/klab\",\n",
        "            \"name\": \"neuromatch-precourse\",\n",
        "            \"user_key\": \"8zxfvwxw\",\n",
        "        },\n",
        "    ).render()\n",
        "\n",
        "\n",
        "feedback_prefix = \"W0D3_T2\""
      ]
    },
    {
      "cell_type": "code",
      "execution_count": 1,
      "metadata": {
        "execution": {},
        "id": "wysIxhtyodos"
      },
      "outputs": [],
      "source": [
        "# Imports\n",
        "import numpy as np\n",
        "import matplotlib.pyplot as plt"
      ]
    },
    {
      "cell_type": "code",
      "execution_count": 2,
      "metadata": {
        "cellView": "form",
        "execution": {},
        "id": "OoAjI2BKodot"
      },
      "outputs": [],
      "source": [
        "# @title Figure settings\n",
        "import logging\n",
        "logging.getLogger('matplotlib.font_manager').disabled = True\n",
        "import ipywidgets as widgets  # interactive display\n",
        "from ipywidgets import fixed\n",
        "%config InlineBackend.figure_format = 'retina'\n",
        "plt.style.use(\"https://raw.githubusercontent.com/NeuromatchAcademy/content-creation/main/nma.mplstyle\")"
      ]
    },
    {
      "cell_type": "code",
      "execution_count": 3,
      "metadata": {
        "cellView": "form",
        "execution": {},
        "id": "YUeaKK3rodow"
      },
      "outputs": [],
      "source": [
        "# @title Plotting functions\n",
        "import numpy\n",
        "from numpy.linalg import inv, eig\n",
        "from math import ceil\n",
        "from matplotlib import pyplot, ticker, get_backend, rc\n",
        "from mpl_toolkits.mplot3d import Axes3D\n",
        "from itertools import cycle\n",
        "\n",
        "_int_backends = ['GTK3Agg', 'GTK3Cairo', 'MacOSX', 'nbAgg',\n",
        "                 'Qt4Agg', 'Qt4Cairo', 'Qt5Agg', 'Qt5Cairo',\n",
        "                 'TkAgg', 'TkCairo', 'WebAgg', 'WX', 'WXAgg', 'WXCairo']\n",
        "_backend = get_backend()   # get current backend name\n",
        "\n",
        "# shrink figsize and fontsize when using %matplotlib notebook\n",
        "if _backend in _int_backends:\n",
        "  fontsize = 4\n",
        "  fig_scale = 0.75\n",
        "else:\n",
        "  fontsize = 5\n",
        "  fig_scale = 1\n",
        "\n",
        "grey = '#808080'\n",
        "gold = '#cab18c'        # x-axis grid\n",
        "lightblue = '#0096d6'   # y-axis grid\n",
        "green = '#008367'       # x-axis basis vector\n",
        "red = '#E31937'         # y-axis basis vector\n",
        "darkblue = '#004065'\n",
        "\n",
        "pink, yellow, orange, purple, brown = '#ef7b9d', '#fbd349', '#ffa500', '#a35cff', '#731d1d'\n",
        "\n",
        "quiver_params = {'angles': 'xy',\n",
        "                 'scale_units': 'xy',\n",
        "                 'scale': 1,\n",
        "                 'width': 0.012}\n",
        "\n",
        "grid_params = {'linewidth': 0.5,\n",
        "               'alpha': 0.8}\n",
        "\n",
        "def set_rc(func):\n",
        "  def wrapper(*args, **kwargs):\n",
        "    rc('font', family='serif', size=fontsize)\n",
        "    rc('figure', dpi=200)\n",
        "    rc('axes', axisbelow=True, titlesize=5)\n",
        "    rc('lines', linewidth=1)\n",
        "    func(*args, **kwargs)\n",
        "  return wrapper\n",
        "\n",
        "@set_rc\n",
        "def plot_vector(vectors, tails=None):\n",
        "  ''' Draw 2d vectors based on the values of the vectors and the position of their tails.\n",
        "\n",
        "  Parameters\n",
        "  ----------\n",
        "  vectors : list.\n",
        "    List of 2-element array-like structures, each represents a 2d vector.\n",
        "\n",
        "  tails : list, optional.\n",
        "    List of 2-element array-like structures, each represents the coordinates of the tail\n",
        "    of the corresponding vector in vectors. If None (default), all tails are set at the\n",
        "    origin (0,0). If len(tails) is 1, all tails are set at the same position. Otherwise,\n",
        "    vectors and tails must have the same length.\n",
        "\n",
        "  Examples\n",
        "  --------\n",
        "  >>> v = [(1, 3), (3, 3), (4, 6)]\n",
        "  >>> plot_vector(v)      # draw 3 vectors with their tails at origin\n",
        "  >>> t = [numpy.array((2, 2))]\n",
        "  >>> plot_vector(v, t)   # draw 3 vectors with their tails at (2,2)\n",
        "  >>> t = [[3, 2], [-1, -2], [3, 5]]\n",
        "  >>> plot_vector(v, t)   # draw 3 vectors with 3 different tails\n",
        "\n",
        "  '''\n",
        "  vectors = numpy.array(vectors)\n",
        "  assert vectors.shape[1] == 2, \"Each vector should have 2 elements.\"\n",
        "  if tails is not None:\n",
        "    tails = numpy.array(tails)\n",
        "    assert tails.shape[1] == 2, \"Each tail should have 2 elements.\"\n",
        "  else:\n",
        "    tails = numpy.zeros_like(vectors)\n",
        "\n",
        "  # tile vectors or tails array if needed\n",
        "  nvectors = vectors.shape[0]\n",
        "  ntails = tails.shape[0]\n",
        "  if nvectors == 1 and ntails > 1:\n",
        "    vectors = numpy.tile(vectors, (ntails, 1))\n",
        "  elif ntails == 1 and nvectors > 1:\n",
        "    tails = numpy.tile(tails, (nvectors, 1))\n",
        "  else:\n",
        "    assert tails.shape == vectors.shape, \"vectors and tail must have a same shape\"\n",
        "\n",
        "  # calculate xlimit & ylimit\n",
        "  heads = tails + vectors\n",
        "  limit = numpy.max(numpy.abs(numpy.hstack((tails, heads))))\n",
        "  limit = numpy.ceil(limit * 1.2)   # add some margins\n",
        "\n",
        "  figsize = numpy.array([2,2]) * fig_scale\n",
        "  figure, axis = pyplot.subplots(figsize=figsize)\n",
        "  axis.quiver(tails[:,0], tails[:,1], vectors[:,0], vectors[:,1], color=darkblue,\n",
        "                  angles='xy', scale_units='xy', scale=1)\n",
        "  axis.set_xlim([-limit, limit])\n",
        "  axis.set_ylim([-limit, limit])\n",
        "  axis.set_aspect('equal')\n",
        "\n",
        "  # if xticks and yticks of grid do not match, choose the finer one\n",
        "  xticks = axis.get_xticks()\n",
        "  yticks = axis.get_yticks()\n",
        "  dx = xticks[1] - xticks[0]\n",
        "  dy = yticks[1] - yticks[0]\n",
        "  base = max(int(min(dx, dy)), 1)   # grid interval is always an integer\n",
        "  loc = ticker.MultipleLocator(base=base)\n",
        "  axis.xaxis.set_major_locator(loc)\n",
        "  axis.yaxis.set_major_locator(loc)\n",
        "  axis.grid(True, **grid_params)\n",
        "\n",
        "  # show x-y axis in the center, hide frames\n",
        "  axis.spines['left'].set_position('center')\n",
        "  axis.spines['bottom'].set_position('center')\n",
        "  axis.spines['right'].set_color('none')\n",
        "  axis.spines['top'].set_color('none')\n",
        "\n",
        "@set_rc\n",
        "def plot_transformation_helper(axis, matrix, *vectors, unit_vector=True, unit_circle=False, title=None):\n",
        "  \"\"\" A helper function to plot the linear transformation defined by a 2x2 matrix.\n",
        "\n",
        "  Parameters\n",
        "  ----------\n",
        "  axis : class matplotlib.axes.Axes.\n",
        "    The axes to plot on.\n",
        "\n",
        "  matrix : class numpy.ndarray.\n",
        "    The 2x2 matrix to visualize.\n",
        "\n",
        "  *vectors : class numpy.ndarray.\n",
        "    The vector(s) to plot along with the linear transformation. Each array denotes a vector's\n",
        "    coordinates before the transformation and must have a shape of (2,). Accept any number of vectors.\n",
        "\n",
        "  unit_vector : bool, optional.\n",
        "    Whether to plot unit vectors of the standard basis, default to True.\n",
        "\n",
        "  unit_circle: bool, optional.\n",
        "    Whether to plot unit circle, default to False.\n",
        "\n",
        "  title: str, optional.\n",
        "    Title of the plot.\n",
        "\n",
        "  \"\"\"\n",
        "  assert matrix.shape == (2,2), \"the input matrix must have a shape of (2,2)\"\n",
        "  grid_range = 20\n",
        "  x = numpy.arange(-grid_range, grid_range+1)\n",
        "  X_, Y_ = numpy.meshgrid(x,x)\n",
        "  I = matrix[:,0]\n",
        "  J = matrix[:,1]\n",
        "  X = I[0]*X_ + J[0]*Y_\n",
        "  Y = I[1]*X_ + J[1]*Y_\n",
        "  origin = numpy.zeros(1)\n",
        "\n",
        "  # draw grid lines\n",
        "  for i in range(x.size):\n",
        "    axis.plot(X[i,:], Y[i,:], c=gold, **grid_params)\n",
        "    axis.plot(X[:,i], Y[:,i], c=lightblue, **grid_params)\n",
        "\n",
        "  # draw (transformed) unit vectors\n",
        "  if unit_vector:\n",
        "    axis.quiver(origin, origin, [I[0]], [I[1]], color=green, **quiver_params)\n",
        "    axis.quiver(origin, origin, [J[0]], [J[1]], color=red, **quiver_params)\n",
        "\n",
        "  # draw optional vectors\n",
        "  color_cycle = cycle([pink, darkblue, orange, purple, brown])\n",
        "  if vectors:\n",
        "    for vector in vectors:\n",
        "      color = next(color_cycle)\n",
        "      vector_ = matrix @ vector.reshape(-1,1)\n",
        "      axis.quiver(origin, origin, [vector_[0]], [vector_[1]], color=color, **quiver_params)\n",
        "\n",
        "  # draw optional unit circle\n",
        "  if unit_circle:\n",
        "    alpha =  numpy.linspace(0, 2*numpy.pi, 41)\n",
        "    circle = numpy.vstack((numpy.cos(alpha), numpy.sin(alpha)))\n",
        "    circle_trans = matrix @ circle\n",
        "    axis.plot(circle_trans[0], circle_trans[1], color=red, lw=0.8)\n",
        "\n",
        "  # hide frames, set xlimit & ylimit, set title\n",
        "  limit = 4\n",
        "  axis.spines['left'].set_position('center')\n",
        "  axis.spines['bottom'].set_position('center')\n",
        "  axis.spines['left'].set_linewidth(0.3)\n",
        "  axis.spines['bottom'].set_linewidth(0.3)\n",
        "  axis.spines['right'].set_color('none')\n",
        "  axis.spines['top'].set_color('none')\n",
        "  axis.set_xlim([-limit, limit])\n",
        "  axis.set_ylim([-limit, limit])\n",
        "  if title is not None:\n",
        "    axis.set_title(title)\n",
        "\n",
        "@set_rc\n",
        "def plot_linear_transformation(matrix, *vectors, name = None, unit_vector=True, unit_circle=False):\n",
        "  \"\"\" Plot the linear transformation defined by a 2x2 matrix using the helper\n",
        "  function plot_transformation_helper(). It will create 2 subplots to visualize some\n",
        "  vectors before and after the transformation.\n",
        "\n",
        "  Parameters\n",
        "  ----------\n",
        "  matrix : class numpy.ndarray.\n",
        "    The 2x2 matrix to visualize.\n",
        "\n",
        "  *vectors : class numpy.ndarray.\n",
        "    The vector(s) to plot along with the linear transformation. Each array denotes a vector's\n",
        "    coordinates before the transformation and must have a shape of (2,). Accept any number of vectors.\n",
        "\n",
        "  unit_vector : bool, optional.\n",
        "    Whether to plot unit vectors of the standard basis, default to True.\n",
        "\n",
        "  unit_circle: bool, optional.\n",
        "    Whether to plot unit circle, default to False.\n",
        "\n",
        "  \"\"\"\n",
        "  figsize = numpy.array([4,2]) * fig_scale\n",
        "  figure, (axis1, axis2) = pyplot.subplots(1, 2, figsize=figsize)\n",
        "  plot_transformation_helper(axis1, numpy.identity(2), *vectors, unit_vector=unit_vector, unit_circle=unit_circle, title='Before transformation')\n",
        "  plot_transformation_helper(axis2, matrix, *vectors, unit_vector=unit_vector, unit_circle=unit_circle, title='After transformation')\n",
        "  if name is not None:\n",
        "    figure.suptitle(f'Population {name}')\n",
        "\n",
        "\n",
        "def plot_eig_vec_transform(W):\n",
        "  classic = 'k'\n",
        "  vec_names = ['a', 'b','c','d','e','f','g', 'h']\n",
        "\n",
        "  _, vecs = np.linalg.eig(W)\n",
        "  vecs = vecs.T\n",
        "\n",
        "  fig, axes = plt.subplots(1, 2, figsize=(2, 1))\n",
        "  colors = plt.rcParams['axes.prop_cycle'].by_key()['color']\n",
        "\n",
        "  for i in range(2):\n",
        "    axes[i].set(xlim=[-3.5, 3.5], ylim=[-3.5,3.5])\n",
        "    axes[i].axis('Off')\n",
        "    axes[i].plot([0, 0], [-3.5, 3.5], classic, alpha=.4)\n",
        "    axes[i].plot([-3.5, 3.5], [0, 0], classic, alpha=.4)\n",
        "\n",
        "  for i_vec, vec in enumerate(vecs):\n",
        "    axes[0].arrow(0, 0, vec[0], vec[1], head_width=.2, facecolor=colors[i_vec], edgecolor=colors[i_vec], length_includes_head=True)\n",
        "    axes[0].annotate(vec_names[i_vec], xy=(vec[0]+np.sign(vec[0])*.15, vec[1]+np.sign(vec[1])*.15), color=colors[i_vec])\n",
        "\n",
        "    transformed_vec = np.matmul(W, vec)\n",
        "    axes[1].arrow(0, 0, transformed_vec[0], transformed_vec[1], head_width=.2, facecolor=colors[i_vec], edgecolor=colors[i_vec], length_includes_head=True)\n",
        "    axes[1].annotate(vec_names[i_vec], xy=(transformed_vec[0]+np.sign(transformed_vec[0])*.15, transformed_vec[1]+np.sign(transformed_vec[1])*.15), color=colors[i_vec])\n",
        "\n",
        "  axes[0].set_title('Before')\n",
        "  axes[1].set_title('After')"
      ]
    },
    {
      "cell_type": "markdown",
      "metadata": {
        "execution": {},
        "id": "zN37VuF2odoy"
      },
      "source": [
        "---\n",
        "\n",
        "# Section 1: Intro to matrices"
      ]
    },
    {
      "cell_type": "markdown",
      "metadata": {
        "execution": {},
        "id": "-VunWR8Wodoz"
      },
      "source": [
        "## Section 1.1: Matrices to solve systems of equations"
      ]
    },
    {
      "cell_type": "code",
      "execution_count": 5,
      "metadata": {
        "cellView": "form",
        "execution": {},
        "colab": {
          "base_uri": "https://localhost:8080/",
          "height": 580,
          "referenced_widgets": [
            "83dae341a53a4c5fb8c55c17ed31b23f",
            "af3fd3b9b4ad469f9cc8ee2b9484b525",
            "2c6aecb9b1ac44e896cd0d95f3be873d",
            "0d1cc4bbfb47483cad7c5f3088f6998f",
            "273e578bb7764406837727a8500e51f6",
            "a6b08eb224194d52bc085992afd9bf74"
          ]
        },
        "id": "pR2mOs6wodo0",
        "outputId": "50b38c9a-ca07-4fbc-d1cd-7228f0828923"
      },
      "outputs": [
        {
          "output_type": "display_data",
          "data": {
            "text/plain": [
              "Tab(children=(Output(), Output()), _titles={'0': 'Youtube', '1': 'Bilibili'})"
            ],
            "application/vnd.jupyter.widget-view+json": {
              "version_major": 2,
              "version_minor": 0,
              "model_id": "83dae341a53a4c5fb8c55c17ed31b23f"
            }
          },
          "metadata": {}
        }
      ],
      "source": [
        "# @title Video 1: Systems of Equations\n",
        "from ipywidgets import widgets\n",
        "from IPython.display import YouTubeVideo\n",
        "from IPython.display import IFrame\n",
        "from IPython.display import display\n",
        "\n",
        "\n",
        "class PlayVideo(IFrame):\n",
        "  def __init__(self, id, source, page=1, width=400, height=300, **kwargs):\n",
        "    self.id = id\n",
        "    if source == 'Bilibili':\n",
        "      src = f'https://player.bilibili.com/player.html?bvid={id}&page={page}'\n",
        "    elif source == 'Osf':\n",
        "      src = f'https://mfr.ca-1.osf.io/render?url=https://osf.io/download/{id}/?direct%26mode=render'\n",
        "    super(PlayVideo, self).__init__(src, width, height, **kwargs)\n",
        "\n",
        "\n",
        "def display_videos(video_ids, W=400, H=300, fs=1):\n",
        "  tab_contents = []\n",
        "  for i, video_id in enumerate(video_ids):\n",
        "    out = widgets.Output()\n",
        "    with out:\n",
        "      if video_ids[i][0] == 'Youtube':\n",
        "        video = YouTubeVideo(id=video_ids[i][1], width=W,\n",
        "                             height=H, fs=fs, rel=0)\n",
        "        print(f'Video available at https://youtube.com/watch?v={video.id}')\n",
        "      else:\n",
        "        video = PlayVideo(id=video_ids[i][1], source=video_ids[i][0], width=W,\n",
        "                          height=H, fs=fs, autoplay=False)\n",
        "        if video_ids[i][0] == 'Bilibili':\n",
        "          print(f'Video available at https://www.bilibili.com/video/{video.id}')\n",
        "        elif video_ids[i][0] == 'Osf':\n",
        "          print(f'Video available at https://osf.io/{video.id}')\n",
        "      display(video)\n",
        "    tab_contents.append(out)\n",
        "  return tab_contents\n",
        "\n",
        "\n",
        "video_ids = [('Youtube', '3ecnOrMEh00'), ('Bilibili', 'BV1Aq4y1x7hf')]\n",
        "tab_contents = display_videos(video_ids, W=854, H=480)\n",
        "tabs = widgets.Tab()\n",
        "tabs.children = tab_contents\n",
        "for i in range(len(tab_contents)):\n",
        "  tabs.set_title(i, video_ids[i][0])\n",
        "display(tabs)"
      ]
    },
    {
      "cell_type": "code",
      "execution_count": null,
      "metadata": {
        "cellView": "form",
        "execution": {},
        "id": "6h4FvlA9odo1"
      },
      "outputs": [],
      "source": [
        "# @title Submit your feedback\n",
        "content_review(f\"{feedback_prefix}_Systems_of_Equations_Video\")"
      ]
    },
    {
      "cell_type": "markdown",
      "metadata": {
        "execution": {},
        "id": "y_zhU1Kjodo1"
      },
      "source": [
        "This video covers using a matrix to solve a linear system of equations.\n",
        "\n",
        "<details>\n",
        "<summary> <font color='blue'>Click here for text recap of video </font></summary>\n",
        "\n",
        "In a variety of contexts, we may encounter systems of linear equations like this one:\n",
        "\n",
        "\\begin{align}\n",
        "3x_1 + 2x_2 + x_3 &= y_1 \\\\\n",
        "7x_1 + x_2 + 2x_3 &= y_2 \\\\\n",
        "x_1 - x_2  - 2x_3 &= y_3\n",
        "\\end{align}\n",
        "\n",
        "We may know all the $x$'s and want to solve for $y$'s, or we may know the $y$'s and want to solve for the $x$'s. We can solve this in several different ways but one especially appealing way is to cast it as a matrix-vector equation:\n",
        "\n",
        "\\begin{equation}\n",
        "\\mathbf{W}\\mathbf{x} = \\mathbf{y}\n",
        "\\end{equation}\n",
        "\n",
        "where\n",
        "\n",
        "\\begin{equation}\n",
        "\\mathbf{W} = \\begin{bmatrix} 3 & 2 & 1 \\\\ 7 & 1 & 2 \\\\ 1 &-1 &-2 \\end{bmatrix},\n",
        "\\mathbf{x} = \\begin{bmatrix} x_1 \\\\ x_2 \\\\ x_3 \\end{bmatrix},\n",
        "\\mathbf{y} = \\begin{bmatrix} y_1 \\\\ y_2 \\\\ y_3 \\end{bmatrix}\\\\\n",
        "\\end{equation}\n",
        "\n",
        "If we know $\\mathbf{W}$ and $\\mathbf{x}$, we can solve for $\\mathbf{y}$ using matrix-vector multiplication. Each row of $\\mathbf{y}$ is computed as the dot product of the equivalent row of $\\mathbf{W}$ and $\\mathbf{x}$.\n",
        "\n",
        "If we know $\\mathbf{W}$ and $\\mathbf{y}$, we can sometimes solve for $\\mathbf{x}$ by using the inverse of $\\mathbf{W}$:\n",
        "\n",
        "\\begin{equation}\n",
        "\\mathbf{x} = W^{-1}\\mathbf{y}\n",
        "\\end{equation}\n",
        "\n",
        "The reason this only sometimes works will be dived into later in this tutorial!\n",
        "</details>"
      ]
    },
    {
      "cell_type": "markdown",
      "metadata": {
        "execution": {},
        "id": "V8bVfRH9odo2"
      },
      "source": [
        "### Coding Exercise 1.1: Understanding neural transformations\n",
        "\n",
        "We will look at a group of 2 LGN neurons which get input from 2 retinal neurons: we will call the population of LGN neurons population $p$. Below, we have the system of linear equations that dictates the neuron models for each population. $r_1$ and $r_2$ correspond to the retinal neural activities (of neuron 1 and 2). $g_{p_1}$ and  $g_{p_2}$ correspond to the responses of the LGN neurons 1 and 2 in population $p$.\n",
        "\n",
        "\\begin{align}\n",
        "r_1 + 3r_2 &= g_{p_1} \\\\\n",
        "2r_1 + r_2 &= g_{p_2}\n",
        "\\end{align}\n",
        "\n",
        "<br>\n",
        "\n",
        "1) Cast each equation (i.e., $g_{p_1}$ and $g_{p_2}$) as a matrix-vector multiplication:\n",
        "\n",
        "\\begin{equation}\n",
        "\\mathbf{g}_p = \\mathbf{P}\\mathbf{r}\n",
        "\\end{equation}\n",
        "\n",
        "where $P$ is the weight matrix to population $p$.\n",
        "\n",
        "2) Let's say we only recorded from the LGN cells (and know the weight matrix) and are trying to figure out how the retinal cells responded. Solve the matrix equation for the given LGN activities:\n",
        "\n",
        "\\begin{equation}\n",
        "\\mathbf{g}_p =\n",
        "\\begin{bmatrix}\n",
        "16 \\\\\n",
        "7\n",
        "\\end{bmatrix}\n",
        "\\end{equation}\n",
        "\n",
        "<br>\n",
        "\n",
        "**Note:** In Python, we can use the `@` operator for matrix/vector multiplications. We can also use the NumPy [`np.dot`](https://numpy.org/doc/stable/reference/generated/numpy.dot.html#numpy.dot), [`np.matmul`](https://numpy.org/doc/stable/reference/generated/numpy.matmul.html). See the documentation for their differences."
      ]
    },
    {
      "cell_type": "code",
      "execution_count": 10,
      "metadata": {
        "execution": {},
        "colab": {
          "base_uri": "https://localhost:8080/"
        },
        "id": "8Vwo7lGpodo3",
        "outputId": "bc93d752-fe42-4c5f-b2e9-71f79d3d091b"
      },
      "outputs": [
        {
          "output_type": "stream",
          "name": "stdout",
          "text": [
            "[1. 5.]\n"
          ]
        }
      ],
      "source": [
        "# Create P (using np array)\n",
        "P = np.array([[1,3],\n",
        " [2,1]])\n",
        "\n",
        "# Create g_p (using np array)\n",
        "g_p = np.array([16,7])\n",
        "\n",
        "# Solve for r (using np.linalg.inv)\n",
        "r = np.linalg.inv(P)@g_p\n",
        "\n",
        "# Print r\n",
        "print(r)"
      ]
    },
    {
      "cell_type": "markdown",
      "metadata": {
        "execution": {},
        "id": "w_I2QAkhodo3"
      },
      "source": [
        "You should see the output `[1, 5]`."
      ]
    },
    {
      "cell_type": "markdown",
      "metadata": {
        "execution": {},
        "id": "MK_4n0KJodo4"
      },
      "source": [
        "[*Click for solution*](https://github.com/NeuromatchAcademy/precourse/tree/main/tutorials/W0D3_LinearAlgebra/solutions/W0D3_Tutorial2_Solution_2fa7cf85.py)\n",
        "\n"
      ]
    },
    {
      "cell_type": "markdown",
      "metadata": {
        "execution": {},
        "id": "x2hEUNOQodo4"
      },
      "source": [
        "**You** can recover how the retinal neurons respond given the weight matrix and LGN responses! You have solved the system of equations using matrices. We can't always do this though: let's say we have a different group of 2 LGN neurons -  population q - with the following weight matrix from the retinal neurons.\n",
        "\n",
        "\\begin{equation}Q =\n",
        "\\begin{bmatrix}\n",
        "4 & 1 \\\\\n",
        "8 & 2\n",
        "\\end{bmatrix}\n",
        "\\end{equation}\n",
        "\n",
        "As you can see if you uncomment and run the next code cell, we get an error if we try to invert this matrix to solve the equation. We'll find out more about this in the next sections."
      ]
    },
    {
      "cell_type": "code",
      "execution_count": 10,
      "metadata": {
        "execution": {},
        "colab": {
          "base_uri": "https://localhost:8080/",
          "height": 321
        },
        "id": "QScWuyg6odo4",
        "outputId": "d30689d2-df44-4820-8d9f-49de2033bc74"
      },
      "outputs": [
        {
          "output_type": "error",
          "ename": "LinAlgError",
          "evalue": "Singular matrix",
          "traceback": [
            "\u001b[0;31m---------------------------------------------------------------------------\u001b[0m",
            "\u001b[0;31mLinAlgError\u001b[0m                               Traceback (most recent call last)",
            "\u001b[0;32m/tmp/ipython-input-10-3439701016.py\u001b[0m in \u001b[0;36m<cell line: 0>\u001b[0;34m()\u001b[0m\n\u001b[1;32m      2\u001b[0m \u001b[0mQ\u001b[0m \u001b[0;34m=\u001b[0m \u001b[0mnp\u001b[0m\u001b[0;34m.\u001b[0m\u001b[0marray\u001b[0m\u001b[0;34m(\u001b[0m\u001b[0;34m[\u001b[0m\u001b[0;34m[\u001b[0m\u001b[0;36m4\u001b[0m\u001b[0;34m,\u001b[0m \u001b[0;36m1\u001b[0m\u001b[0;34m]\u001b[0m\u001b[0;34m,\u001b[0m \u001b[0;34m[\u001b[0m\u001b[0;36m8\u001b[0m\u001b[0;34m,\u001b[0m \u001b[0;36m2\u001b[0m\u001b[0;34m]\u001b[0m\u001b[0;34m]\u001b[0m\u001b[0;34m)\u001b[0m\u001b[0;34m\u001b[0m\u001b[0;34m\u001b[0m\u001b[0m\n\u001b[1;32m      3\u001b[0m \u001b[0;34m\u001b[0m\u001b[0m\n\u001b[0;32m----> 4\u001b[0;31m \u001b[0mprint\u001b[0m\u001b[0;34m(\u001b[0m\u001b[0mnp\u001b[0m\u001b[0;34m.\u001b[0m\u001b[0mlinalg\u001b[0m\u001b[0;34m.\u001b[0m\u001b[0minv\u001b[0m\u001b[0;34m(\u001b[0m\u001b[0mQ\u001b[0m\u001b[0;34m)\u001b[0m \u001b[0;34m@\u001b[0m \u001b[0mg_q\u001b[0m\u001b[0;34m)\u001b[0m\u001b[0;34m\u001b[0m\u001b[0;34m\u001b[0m\u001b[0m\n\u001b[0m",
            "\u001b[0;32m/usr/local/lib/python3.11/dist-packages/numpy/linalg/_linalg.py\u001b[0m in \u001b[0;36minv\u001b[0;34m(a)\u001b[0m\n\u001b[1;32m    606\u001b[0m     with errstate(call=_raise_linalgerror_singular, invalid='call',\n\u001b[1;32m    607\u001b[0m                   over='ignore', divide='ignore', under='ignore'):\n\u001b[0;32m--> 608\u001b[0;31m         \u001b[0mainv\u001b[0m \u001b[0;34m=\u001b[0m \u001b[0m_umath_linalg\u001b[0m\u001b[0;34m.\u001b[0m\u001b[0minv\u001b[0m\u001b[0;34m(\u001b[0m\u001b[0ma\u001b[0m\u001b[0;34m,\u001b[0m \u001b[0msignature\u001b[0m\u001b[0;34m=\u001b[0m\u001b[0msignature\u001b[0m\u001b[0;34m)\u001b[0m\u001b[0;34m\u001b[0m\u001b[0;34m\u001b[0m\u001b[0m\n\u001b[0m\u001b[1;32m    609\u001b[0m     \u001b[0;32mreturn\u001b[0m \u001b[0mwrap\u001b[0m\u001b[0;34m(\u001b[0m\u001b[0mainv\u001b[0m\u001b[0;34m.\u001b[0m\u001b[0mastype\u001b[0m\u001b[0;34m(\u001b[0m\u001b[0mresult_t\u001b[0m\u001b[0;34m,\u001b[0m \u001b[0mcopy\u001b[0m\u001b[0;34m=\u001b[0m\u001b[0;32mFalse\u001b[0m\u001b[0;34m)\u001b[0m\u001b[0;34m)\u001b[0m\u001b[0;34m\u001b[0m\u001b[0;34m\u001b[0m\u001b[0m\n\u001b[1;32m    610\u001b[0m \u001b[0;34m\u001b[0m\u001b[0m\n",
            "\u001b[0;32m/usr/local/lib/python3.11/dist-packages/numpy/linalg/_linalg.py\u001b[0m in \u001b[0;36m_raise_linalgerror_singular\u001b[0;34m(err, flag)\u001b[0m\n\u001b[1;32m    102\u001b[0m \u001b[0;34m\u001b[0m\u001b[0m\n\u001b[1;32m    103\u001b[0m \u001b[0;32mdef\u001b[0m \u001b[0m_raise_linalgerror_singular\u001b[0m\u001b[0;34m(\u001b[0m\u001b[0merr\u001b[0m\u001b[0;34m,\u001b[0m \u001b[0mflag\u001b[0m\u001b[0;34m)\u001b[0m\u001b[0;34m:\u001b[0m\u001b[0;34m\u001b[0m\u001b[0;34m\u001b[0m\u001b[0m\n\u001b[0;32m--> 104\u001b[0;31m     \u001b[0;32mraise\u001b[0m \u001b[0mLinAlgError\u001b[0m\u001b[0;34m(\u001b[0m\u001b[0;34m\"Singular matrix\"\u001b[0m\u001b[0;34m)\u001b[0m\u001b[0;34m\u001b[0m\u001b[0;34m\u001b[0m\u001b[0m\n\u001b[0m\u001b[1;32m    105\u001b[0m \u001b[0;34m\u001b[0m\u001b[0m\n\u001b[1;32m    106\u001b[0m \u001b[0;32mdef\u001b[0m \u001b[0m_raise_linalgerror_nonposdef\u001b[0m\u001b[0;34m(\u001b[0m\u001b[0merr\u001b[0m\u001b[0;34m,\u001b[0m \u001b[0mflag\u001b[0m\u001b[0;34m)\u001b[0m\u001b[0;34m:\u001b[0m\u001b[0;34m\u001b[0m\u001b[0;34m\u001b[0m\u001b[0m\n",
            "\u001b[0;31mLinAlgError\u001b[0m: Singular matrix"
          ]
        }
      ],
      "source": [
        "g_q = np.array([16, 7])\n",
        "Q = np.array([[4, 1], [8, 2]])\n",
        "\n",
        "print(np.linalg.inv(Q) @ g_q)"
      ]
    },
    {
      "cell_type": "code",
      "execution_count": null,
      "metadata": {
        "cellView": "form",
        "execution": {},
        "id": "B-bDqId5odo5"
      },
      "outputs": [],
      "source": [
        "# @title Submit your feedback\n",
        "content_review(f\"{feedback_prefix}_Understanding_neural_transformations_exercise\")"
      ]
    },
    {
      "cell_type": "markdown",
      "metadata": {
        "execution": {},
        "id": "rVpnXPeyodo5"
      },
      "source": [
        "## Section 1.2: Matrices as linear transformations\n",
        "\n",
        "*Estimated timing to here from start of tutorial: 20 min*"
      ]
    },
    {
      "cell_type": "code",
      "execution_count": 11,
      "metadata": {
        "cellView": "form",
        "execution": {},
        "colab": {
          "base_uri": "https://localhost:8080/",
          "height": 580,
          "referenced_widgets": [
            "9bbd92fcedaa49bba94ca1c2e90d2230",
            "112394bcc4d24226a788c034db46f0bb",
            "882a0c68abd74fe6904e742826e9babf",
            "01aa8b54ad7d4c9585f2921db8475b7d",
            "0d666efca9e144edbddecb94dbd0f164",
            "6e6d82b5ad5f4f3d868ad4abfde6b4df"
          ]
        },
        "id": "WRtA0_Qdodo6",
        "outputId": "321c4ff4-b1f0-408e-8094-06c2793bbd95"
      },
      "outputs": [
        {
          "output_type": "display_data",
          "data": {
            "text/plain": [
              "Tab(children=(Output(), Output()), _titles={'0': 'Youtube', '1': 'Bilibili'})"
            ],
            "application/vnd.jupyter.widget-view+json": {
              "version_major": 2,
              "version_minor": 0,
              "model_id": "9bbd92fcedaa49bba94ca1c2e90d2230"
            }
          },
          "metadata": {}
        }
      ],
      "source": [
        "# @title Video 2: Linear Transformations\n",
        "from ipywidgets import widgets\n",
        "from IPython.display import YouTubeVideo\n",
        "from IPython.display import IFrame\n",
        "from IPython.display import display\n",
        "\n",
        "\n",
        "class PlayVideo(IFrame):\n",
        "  def __init__(self, id, source, page=1, width=400, height=300, **kwargs):\n",
        "    self.id = id\n",
        "    if source == 'Bilibili':\n",
        "      src = f'https://player.bilibili.com/player.html?bvid={id}&page={page}'\n",
        "    elif source == 'Osf':\n",
        "      src = f'https://mfr.ca-1.osf.io/render?url=https://osf.io/download/{id}/?direct%26mode=render'\n",
        "    super(PlayVideo, self).__init__(src, width, height, **kwargs)\n",
        "\n",
        "\n",
        "def display_videos(video_ids, W=400, H=300, fs=1):\n",
        "  tab_contents = []\n",
        "  for i, video_id in enumerate(video_ids):\n",
        "    out = widgets.Output()\n",
        "    with out:\n",
        "      if video_ids[i][0] == 'Youtube':\n",
        "        video = YouTubeVideo(id=video_ids[i][1], width=W,\n",
        "                             height=H, fs=fs, rel=0)\n",
        "        print(f'Video available at https://youtube.com/watch?v={video.id}')\n",
        "      else:\n",
        "        video = PlayVideo(id=video_ids[i][1], source=video_ids[i][0], width=W,\n",
        "                          height=H, fs=fs, autoplay=False)\n",
        "        if video_ids[i][0] == 'Bilibili':\n",
        "          print(f'Video available at https://www.bilibili.com/video/{video.id}')\n",
        "        elif video_ids[i][0] == 'Osf':\n",
        "          print(f'Video available at https://osf.io/{video.id}')\n",
        "      display(video)\n",
        "    tab_contents.append(out)\n",
        "  return tab_contents\n",
        "\n",
        "\n",
        "video_ids = [('Youtube', 'N6UUV9tVIr8'), ('Bilibili', 'BV1KB4y1T7zM')]\n",
        "tab_contents = display_videos(video_ids, W=854, H=480)\n",
        "tabs = widgets.Tab()\n",
        "tabs.children = tab_contents\n",
        "for i in range(len(tab_contents)):\n",
        "  tabs.set_title(i, video_ids[i][0])\n",
        "display(tabs)"
      ]
    },
    {
      "cell_type": "code",
      "execution_count": null,
      "metadata": {
        "cellView": "form",
        "execution": {},
        "id": "qRF-mLZModo7"
      },
      "outputs": [],
      "source": [
        "# @title Submit your feedback\n",
        "content_review(f\"{feedback_prefix}_Linear_transformations_Video\")"
      ]
    },
    {
      "cell_type": "markdown",
      "metadata": {
        "execution": {},
        "id": "3GouH9Awodo7"
      },
      "source": [
        "Matrices can be thought of as enacting linear transformations. When multiplied with a vector, they transform it into another vector. In fact, they are transforming a grid of space in a linear manner: the origin stays in place and grid lines remain straight, parallel, and evenly spaced.\n"
      ]
    },
    {
      "cell_type": "markdown",
      "metadata": {
        "execution": {},
        "id": "i7ipJ2fjodo8"
      },
      "source": [
        "### Coding Exercise 1.2: Creating matrices for transformations\n",
        "\n",
        "Come up with a matrix $A$ for which the corresponding linear transformation is reflection through the $y$ axis (flipping across the $y$ axis). For example, $\\mathbf{x} = \\begin{bmatrix}\n",
        "2 \\\\\n",
        "6  \\\\\n",
        "\\end{bmatrix}$ should become $\\mathbf{b} = \\begin{bmatrix}\n",
        "-2 \\\\\n",
        "6  \\\\\n",
        "\\end{bmatrix}$ when multiplied with $A$.\n",
        "\n",
        "\n",
        "**Remember to think about where your basis vectors should end up! Then your matrix consists of the transformed basis vectors. Drawing out what you want to happen can help**"
      ]
    },
    {
      "cell_type": "code",
      "execution_count": null,
      "metadata": {
        "execution": {},
        "id": "crfON3Orodo8"
      },
      "outputs": [],
      "source": [
        "A = ...\n",
        "\n",
        "# Uncomment to visualize transformation\n",
        "# plot_linear_transformation(A)"
      ]
    },
    {
      "cell_type": "markdown",
      "metadata": {
        "execution": {},
        "id": "Z-KN9WEvodo9"
      },
      "source": [
        "[*Click for solution*](https://github.com/NeuromatchAcademy/precourse/tree/main/tutorials/W0D3_LinearAlgebra/solutions/W0D3_Tutorial2_Solution_a86560cc.py)\n",
        "\n",
        "*Example output:*\n",
        "\n",
        "<img alt='Solution hint' align='left' width=324.0 height=164.0 src=https://raw.githubusercontent.com/NeuromatchAcademy/precourse/main/tutorials/W0D3_LinearAlgebra/static/W0D3_Tutorial2_Solution_a86560cc_0.png>\n",
        "\n"
      ]
    },
    {
      "cell_type": "markdown",
      "metadata": {
        "execution": {},
        "id": "oZ0NvoVlodo9"
      },
      "source": [
        "Come up with a matrix $A$ for which the corresponding linear transformation is projecting onto the $x$ axis. For example, $\\bar{x} = \\begin{bmatrix}\n",
        "2 \\\\\n",
        "3  \\\\\n",
        "\\end{bmatrix}$ should become $\\bar{b} = \\begin{bmatrix}\n",
        "2 \\\\\n",
        "0  \\\\\n",
        "\\end{bmatrix}$ when multiplied with $A$."
      ]
    },
    {
      "cell_type": "code",
      "execution_count": null,
      "metadata": {
        "execution": {},
        "id": "zTyVuwuxodo9"
      },
      "outputs": [],
      "source": [
        "A = ...\n",
        "\n",
        "# Uncomment to visualize transformation\n",
        "# plot_linear_transformation(A)"
      ]
    },
    {
      "cell_type": "markdown",
      "metadata": {
        "execution": {},
        "id": "kQX8IiIfodo9"
      },
      "source": [
        "[*Click for solution*](https://github.com/NeuromatchAcademy/precourse/tree/main/tutorials/W0D3_LinearAlgebra/solutions/W0D3_Tutorial2_Solution_8d909295.py)\n",
        "\n",
        "*Example output:*\n",
        "\n",
        "<img alt='Solution hint' align='left' width=324.0 height=164.0 src=https://raw.githubusercontent.com/NeuromatchAcademy/precourse/main/tutorials/W0D3_LinearAlgebra/static/W0D3_Tutorial2_Solution_8d909295_0.png>\n",
        "\n"
      ]
    },
    {
      "cell_type": "code",
      "execution_count": null,
      "metadata": {
        "cellView": "form",
        "execution": {},
        "id": "cgWaMjzQodo-"
      },
      "outputs": [],
      "source": [
        "# @title Submit your feedback\n",
        "content_review(f\"{feedback_prefix}_Creating_matrices_for_transformations_Exercise\")"
      ]
    },
    {
      "cell_type": "markdown",
      "metadata": {
        "execution": {},
        "id": "arc6AvRRodo-"
      },
      "source": [
        "## Section 1.3: Rank & Null Space\n",
        "\n",
        "*Estimated timing to here from start of tutorial: 35 min*"
      ]
    },
    {
      "cell_type": "code",
      "execution_count": null,
      "metadata": {
        "cellView": "form",
        "execution": {},
        "id": "3EF1v64sodo-"
      },
      "outputs": [],
      "source": [
        "# @title Video 3: Rank & Null Space\n",
        "from ipywidgets import widgets\n",
        "from IPython.display import YouTubeVideo\n",
        "from IPython.display import IFrame\n",
        "from IPython.display import display\n",
        "\n",
        "\n",
        "class PlayVideo(IFrame):\n",
        "  def __init__(self, id, source, page=1, width=400, height=300, **kwargs):\n",
        "    self.id = id\n",
        "    if source == 'Bilibili':\n",
        "      src = f'https://player.bilibili.com/player.html?bvid={id}&page={page}'\n",
        "    elif source == 'Osf':\n",
        "      src = f'https://mfr.ca-1.osf.io/render?url=https://osf.io/download/{id}/?direct%26mode=render'\n",
        "    super(PlayVideo, self).__init__(src, width, height, **kwargs)\n",
        "\n",
        "\n",
        "def display_videos(video_ids, W=400, H=300, fs=1):\n",
        "  tab_contents = []\n",
        "  for i, video_id in enumerate(video_ids):\n",
        "    out = widgets.Output()\n",
        "    with out:\n",
        "      if video_ids[i][0] == 'Youtube':\n",
        "        video = YouTubeVideo(id=video_ids[i][1], width=W,\n",
        "                             height=H, fs=fs, rel=0)\n",
        "        print(f'Video available at https://youtube.com/watch?v={video.id}')\n",
        "      else:\n",
        "        video = PlayVideo(id=video_ids[i][1], source=video_ids[i][0], width=W,\n",
        "                          height=H, fs=fs, autoplay=False)\n",
        "        if video_ids[i][0] == 'Bilibili':\n",
        "          print(f'Video available at https://www.bilibili.com/video/{video.id}')\n",
        "        elif video_ids[i][0] == 'Osf':\n",
        "          print(f'Video available at https://osf.io/{video.id}')\n",
        "      display(video)\n",
        "    tab_contents.append(out)\n",
        "  return tab_contents\n",
        "\n",
        "\n",
        "video_ids = [('Youtube', 'ay2p5rgkMcY'), ('Bilibili', 'BV1vw411R7eA')]\n",
        "tab_contents = display_videos(video_ids, W=854, H=480)\n",
        "tabs = widgets.Tab()\n",
        "tabs.children = tab_contents\n",
        "for i in range(len(tab_contents)):\n",
        "  tabs.set_title(i, video_ids[i][0])\n",
        "display(tabs)"
      ]
    },
    {
      "cell_type": "code",
      "execution_count": null,
      "metadata": {
        "cellView": "form",
        "execution": {},
        "id": "aF64ARs2odo_"
      },
      "outputs": [],
      "source": [
        "# @title Submit your feedback\n",
        "content_review(f\"{feedback_prefix}_Rank_&_Null_Space_Video\")"
      ]
    },
    {
      "cell_type": "markdown",
      "metadata": {
        "execution": {},
        "id": "YxJth9iPodo_"
      },
      "source": [
        "This video covers properties of matrices, such as range, rank, and null space, in the context of matrices enacting a linear transformation.\n",
        "\n",
        "<details>\n",
        "<summary> <font color='blue'>Click here for text recap of video </font></summary>\n",
        "\n",
        "Square matrices always result in vectors with the same dimensions (number of components) but can alter the dimensionality of the transformed space. Let's say you have a $3 \\times 3$ matrix. You will transform from 3-dimensional vectors to 3-dimensional vectors. You will often be transforming from all of 3D space to all of 3D space. However, this isn't always the case! You could have a $3 \\times 3$ matrix that always results in a vector that lies along a 2D plane through 3D space. This matrix would be transforming from a 3 dimensional vector space (all of $\\mathbb{R}^3$) to a 2 dimensional vector space (the 2D plane).\n",
        "\n",
        "Matrices that aren't square are enacting transformations that change the dimensionality of the vectors. If you have a $4 \\times 5$ matrix, you are transforming 5-dimensional vectors to 4-dimensional vectors. Similarly, if you have a $4 \\times 2$ matrix, you are transforming from 4-dimensional vectors to 2-dimensional vectors.\n",
        "\n",
        "The **range of a matrix** is the set of all possible vectors it can lead to after a transformation. The **rank of a matrix** is the dimensionality of the range.\n",
        "\n",
        "Sometimes, a matrix will transform a non-zero vector into a zero vector (the origin). The **null space** of a matrix is the set of all vectors that will be transformed into the origin.\n",
        "</details>"
      ]
    },
    {
      "cell_type": "markdown",
      "metadata": {
        "execution": {},
        "id": "QA-nf_EiodpA"
      },
      "source": [
        "### Think! 1.3: Neural coding\n",
        "\n",
        "Let's return to the setup of the previous coding exercise: we have two populations of LGN neurons, p and q, responding to retinal neurons. Visualize the linear transformations of these matrices by running the next code cell. Then discuss the following questions:\n",
        "\n",
        "1) What are the ranks of weight matrix $P$ and $Q$?\n",
        "\n",
        "2) What does the null space of these matrices correspond to in our neuroscience setting? **Advanced:** What do you think the dimensionality of the null space is for $P$ and $Q$?\n",
        "\n",
        "3) What is the intrinsic dimensionality of the population of neural responses in population p? How about in q? The intrinsic dimensionality is the minimal number of dimensions required for a complete representation of the data.\n",
        "\n",
        "4) If we wanted to decode retinal neural activity from the LGN activities, would we always be able to completely recover the retinal activity when looking at population p? How about population q? What does this tell us about the information loss of the neural processing?"
      ]
    },
    {
      "cell_type": "code",
      "execution_count": null,
      "metadata": {
        "cellView": "form",
        "execution": {},
        "id": "y_rpbxJhodpA"
      },
      "outputs": [],
      "source": [
        "# @markdown Execute to visualize linear transformations\n",
        "P = np.array([[1, 3], [2, 1]])\n",
        "plot_linear_transformation(P, name = 'p')\n",
        "\n",
        "Q = np.array([[4, 1], [8, 2]])\n",
        "plot_linear_transformation(Q, name = 'q')"
      ]
    },
    {
      "cell_type": "markdown",
      "metadata": {
        "execution": {},
        "id": "IXK0-BpoodpA"
      },
      "source": [
        "[*Click for solution*](https://github.com/NeuromatchAcademy/precourse/tree/main/tutorials/W0D3_LinearAlgebra/solutions/W0D3_Tutorial2_Solution_4135b6b6.py)\n",
        "\n"
      ]
    },
    {
      "cell_type": "code",
      "execution_count": null,
      "metadata": {
        "cellView": "form",
        "execution": {},
        "id": "t28KnQtkodpA"
      },
      "outputs": [],
      "source": [
        "# @title Submit your feedback\n",
        "content_review(f\"{feedback_prefix}_Neural_coding_Discussion\")"
      ]
    },
    {
      "cell_type": "markdown",
      "metadata": {
        "execution": {},
        "id": "mx1bj2JTodpH"
      },
      "source": [
        "---\n",
        "# Section 2: Eigenvalues & Eigenvectors\n",
        "\n",
        "*Estimated timing to here from start of tutorial: 65 min*"
      ]
    },
    {
      "cell_type": "code",
      "execution_count": null,
      "metadata": {
        "cellView": "form",
        "execution": {},
        "id": "kAnEH5m6odpI"
      },
      "outputs": [],
      "source": [
        "# @title Video 4: Eigenstuff\n",
        "from ipywidgets import widgets\n",
        "from IPython.display import YouTubeVideo\n",
        "from IPython.display import IFrame\n",
        "from IPython.display import display\n",
        "\n",
        "\n",
        "class PlayVideo(IFrame):\n",
        "  def __init__(self, id, source, page=1, width=400, height=300, **kwargs):\n",
        "    self.id = id\n",
        "    if source == 'Bilibili':\n",
        "      src = f'https://player.bilibili.com/player.html?bvid={id}&page={page}'\n",
        "    elif source == 'Osf':\n",
        "      src = f'https://mfr.ca-1.osf.io/render?url=https://osf.io/download/{id}/?direct%26mode=render'\n",
        "    super(PlayVideo, self).__init__(src, width, height, **kwargs)\n",
        "\n",
        "\n",
        "def display_videos(video_ids, W=400, H=300, fs=1):\n",
        "  tab_contents = []\n",
        "  for i, video_id in enumerate(video_ids):\n",
        "    out = widgets.Output()\n",
        "    with out:\n",
        "      if video_ids[i][0] == 'Youtube':\n",
        "        video = YouTubeVideo(id=video_ids[i][1], width=W,\n",
        "                             height=H, fs=fs, rel=0)\n",
        "        print(f'Video available at https://youtube.com/watch?v={video.id}')\n",
        "      else:\n",
        "        video = PlayVideo(id=video_ids[i][1], source=video_ids[i][0], width=W,\n",
        "                          height=H, fs=fs, autoplay=False)\n",
        "        if video_ids[i][0] == 'Bilibili':\n",
        "          print(f'Video available at https://www.bilibili.com/video/{video.id}')\n",
        "        elif video_ids[i][0] == 'Osf':\n",
        "          print(f'Video available at https://osf.io/{video.id}')\n",
        "      display(video)\n",
        "    tab_contents.append(out)\n",
        "  return tab_contents\n",
        "\n",
        "\n",
        "video_ids = [('Youtube', 'l-c7ptT7znM'), ('Bilibili', 'BV1KK4y1M7Ez')]\n",
        "tab_contents = display_videos(video_ids, W=854, H=480)\n",
        "tabs = widgets.Tab()\n",
        "tabs.children = tab_contents\n",
        "for i in range(len(tab_contents)):\n",
        "  tabs.set_title(i, video_ids[i][0])\n",
        "display(tabs)"
      ]
    },
    {
      "cell_type": "code",
      "execution_count": null,
      "metadata": {
        "cellView": "form",
        "execution": {},
        "id": "tEnqCWGtodpJ"
      },
      "outputs": [],
      "source": [
        "# @title Submit your feedback\n",
        "content_review(f\"{feedback_prefix}_Eigenstuff_Video\")"
      ]
    },
    {
      "cell_type": "markdown",
      "metadata": {
        "execution": {},
        "id": "-FisVaWEodpJ"
      },
      "source": [
        "This video covers eigenvalues and eigenvectors.\n",
        "\n",
        "Eigenvectors $\\mathbf{v}$ of a matrix $\\mathbf{W}$ are vectors that, when multipled by the matrix, equal a scalar multiple of themselves. That scalar multiple is the corresponding eigenvalue $\\lambda$.\n",
        "\n",
        "\\begin{equation}\n",
        "\\mathbf{W}\\mathbf{v} = \\lambda\\mathbf{v}\n",
        "\\end{equation}\n",
        "\n",
        "If we have one eigenvector for a matrix, we technically have an infinite amount: every vector along the span of that eigenvector is also an eigenvector. So, we often use the unit vector in that direction to summarize all the eigenvectors along that line.\n",
        "\n",
        "We can find the eigenvalues and eigenvectors of a matrix in numpy using `np.linalg.eig`."
      ]
    },
    {
      "cell_type": "markdown",
      "metadata": {
        "execution": {},
        "id": "0pLF2XokodpJ"
      },
      "source": [
        "## Think! 2: Identifying transformations from eigenvectors\n",
        "\n",
        "Earlier, we learned how to think about linear transformations in terms of where the standard basis vectors end up. We can also think about them in terms of eigenvectors.\n",
        "\n",
        "Just by looking at eigenvectors before and after a transformation, can you describe what the transformation is in words? Try for each of the two plots below.\n",
        "\n",
        "Note that I show an eigenvector for every eigenvalue. The $x/y$ limits do not change in before vs after (so eigenvectors are showed scaled by the eigenvalues).\n",
        "\n",
        "Here are some transformation words to jog your memory and guide discussion: contraction, expansion, horizontal vs vertical, projection onto an axis, reflection, and rotation."
      ]
    },
    {
      "cell_type": "code",
      "execution_count": null,
      "metadata": {
        "cellView": "form",
        "execution": {},
        "id": "aqwazyKYodpJ"
      },
      "outputs": [],
      "source": [
        "# @title\n",
        "# @markdown Execute this cell to visualize vectors\n",
        "\n",
        "W = np.array([[3, 0], [0, 1]])\n",
        "plot_eig_vec_transform(W)"
      ]
    },
    {
      "cell_type": "code",
      "execution_count": null,
      "metadata": {
        "cellView": "form",
        "execution": {},
        "id": "c6LST2pNodpJ"
      },
      "outputs": [],
      "source": [
        "# @title\n",
        "# @markdown Execute this cell to visualize vectors\n",
        "\n",
        "W = np.array([[0, 1], [1, 0]])\n",
        "plot_eig_vec_transform(W)"
      ]
    },
    {
      "cell_type": "markdown",
      "metadata": {
        "execution": {},
        "id": "kcTmqw-DodpK"
      },
      "source": [
        "[*Click for solution*](https://github.com/NeuromatchAcademy/precourse/tree/main/tutorials/W0D3_LinearAlgebra/solutions/W0D3_Tutorial2_Solution_f946adb3.py)\n",
        "\n"
      ]
    },
    {
      "cell_type": "markdown",
      "metadata": {
        "execution": {},
        "id": "xkJeGB5bodpK"
      },
      "source": [
        "As we saw above, looking at how just the eigenvectors change after a transformation can be very informative about what that transformation was."
      ]
    },
    {
      "cell_type": "code",
      "execution_count": null,
      "metadata": {
        "cellView": "form",
        "execution": {},
        "id": "83N6QTqRodpK"
      },
      "outputs": [],
      "source": [
        "# @title Submit your feedback\n",
        "content_review(f\"{feedback_prefix}_Identifying_transformations_from_eigenvectors_Discussion\")"
      ]
    },
    {
      "cell_type": "markdown",
      "metadata": {
        "execution": {},
        "id": "5rCVI6WaodpK"
      },
      "source": [
        "---\n",
        "# Section 3: Matrix multiplication\n",
        "\n",
        "*Estimated timing to here from start of tutorial: 80 min*\n",
        "\n",
        "\n"
      ]
    },
    {
      "cell_type": "code",
      "execution_count": null,
      "metadata": {
        "cellView": "form",
        "execution": {},
        "id": "wR-XOOoyodpL"
      },
      "outputs": [],
      "source": [
        "# @title Video 5: Matrix Multiplication\n",
        "from ipywidgets import widgets\n",
        "from IPython.display import YouTubeVideo\n",
        "from IPython.display import IFrame\n",
        "from IPython.display import display\n",
        "\n",
        "\n",
        "class PlayVideo(IFrame):\n",
        "  def __init__(self, id, source, page=1, width=400, height=300, **kwargs):\n",
        "    self.id = id\n",
        "    if source == 'Bilibili':\n",
        "      src = f'https://player.bilibili.com/player.html?bvid={id}&page={page}'\n",
        "    elif source == 'Osf':\n",
        "      src = f'https://mfr.ca-1.osf.io/render?url=https://osf.io/download/{id}/?direct%26mode=render'\n",
        "    super(PlayVideo, self).__init__(src, width, height, **kwargs)\n",
        "\n",
        "\n",
        "def display_videos(video_ids, W=400, H=300, fs=1):\n",
        "  tab_contents = []\n",
        "  for i, video_id in enumerate(video_ids):\n",
        "    out = widgets.Output()\n",
        "    with out:\n",
        "      if video_ids[i][0] == 'Youtube':\n",
        "        video = YouTubeVideo(id=video_ids[i][1], width=W,\n",
        "                             height=H, fs=fs, rel=0)\n",
        "        print(f'Video available at https://youtube.com/watch?v={video.id}')\n",
        "      else:\n",
        "        video = PlayVideo(id=video_ids[i][1], source=video_ids[i][0], width=W,\n",
        "                          height=H, fs=fs, autoplay=False)\n",
        "        if video_ids[i][0] == 'Bilibili':\n",
        "          print(f'Video available at https://www.bilibili.com/video/{video.id}')\n",
        "        elif video_ids[i][0] == 'Osf':\n",
        "          print(f'Video available at https://osf.io/{video.id}')\n",
        "      display(video)\n",
        "    tab_contents.append(out)\n",
        "  return tab_contents\n",
        "\n",
        "\n",
        "video_ids = [('Youtube', 'OFyWfegC9Cs'), ('Bilibili', 'BV1Rb4y1C7cE')]\n",
        "tab_contents = display_videos(video_ids, W=854, H=480)\n",
        "tabs = widgets.Tab()\n",
        "tabs.children = tab_contents\n",
        "for i in range(len(tab_contents)):\n",
        "  tabs.set_title(i, video_ids[i][0])\n",
        "display(tabs)"
      ]
    },
    {
      "cell_type": "code",
      "execution_count": null,
      "metadata": {
        "cellView": "form",
        "execution": {},
        "id": "cULs4jtNodpL"
      },
      "outputs": [],
      "source": [
        "# @title Submit your feedback\n",
        "content_review(f\"{feedback_prefix}_Matrix_Multiplication_Video\")"
      ]
    },
    {
      "cell_type": "markdown",
      "metadata": {
        "execution": {},
        "id": "ZG9WQb7dodpL"
      },
      "source": [
        "We sometimes want to multiple two matrices together, instead of a matrix with a vector. Let's say we're multiplying matrices $\\mathbf{A}$ and $\\mathbf{B}$ to get $\\mathbf{C}$:\n",
        "\n",
        "\\begin{equation}\n",
        "\\mathbf{C} = \\mathbf{A}\\mathbf{B}\\text{.}\n",
        "\\end{equation}\n",
        "\n",
        "We take the dot product of each row of A with each column of B. The resulting scalar is placed in the element of $\\mathbf{C}$ that is the same row (as the row in A) and column (as the column in B). So the element of $\\mathbf{C}$ at row 4 and column 2 is the dot product of the 4th row of $\\mathbf{A}$ and the 2nd column of $\\mathbf{B}$. We can write this in a formula as:\n",
        "\n",
        "\\begin{equation}\n",
        "\\mathbf{C}_{\\text{row i, column j}} = \\mathbf{A}_{\\text{row i}} \\cdot \\mathbf{B}_{\\text{column j}}\n",
        "\\end{equation}"
      ]
    },
    {
      "cell_type": "markdown",
      "metadata": {
        "execution": {},
        "id": "1b4SSUECodpM"
      },
      "source": [
        "## Exercise 2: Computation corner\n",
        "\n",
        "Break out the pen and paper - it's critical to implement matrix multiplication yourself to fully understand how it works.\n",
        "\n",
        "Let's say we have 3 retina neurons and 2 LGN neurons. The weight matrix, $W$, between the retina and LGN neurons is:\n",
        "\n",
        "\\begin{equation}\n",
        "W =\n",
        "\\begin{bmatrix}\n",
        "3 &  2 & 1 \\\\\n",
        "1 & 2 & 7\n",
        "\\end{bmatrix}\n",
        "\\end{equation}\n",
        "\n",
        "We are going to look at the activity at two time steps (each time step is a column). Our retina activity matrix, $R$, is:\n",
        "\n",
        "\\begin{equation}\n",
        "R =\n",
        "\\begin{bmatrix}\n",
        "0 &  1  \\\\\n",
        "2 & 4 \\\\\n",
        "5 & 1\n",
        "\\end{bmatrix}\n",
        "\\end{equation}\n",
        "\n",
        "Please compute the LGN neural activity, $G$, according to our linear model:\n",
        "\n",
        "\\begin{equation}\n",
        "G = WR.\n",
        "\\end{equation}\n",
        "\n",
        "Please calculate it 1) by-hand and then 2) using code. Check that the answers match!"
      ]
    },
    {
      "cell_type": "code",
      "execution_count": null,
      "metadata": {
        "execution": {},
        "id": "CiRyJTwpodpN"
      },
      "outputs": [],
      "source": [
        "# Compute by hand first!"
      ]
    },
    {
      "cell_type": "code",
      "execution_count": null,
      "metadata": {
        "execution": {},
        "id": "U6E-BuRZodpN"
      },
      "outputs": [],
      "source": [
        "# Define R\n",
        "R = ...\n",
        "\n",
        "# Define W\n",
        "W = ...\n",
        "\n",
        "# Compute G\n",
        "# in Python, we can use @ for matrix multiplication: matrix1 @ matrix2\n",
        "G = ...\n",
        "\n",
        "# Print values of G\n",
        "print(G)"
      ]
    },
    {
      "cell_type": "markdown",
      "metadata": {
        "execution": {},
        "id": "2G6BrymYodpN"
      },
      "source": [
        "[*Click for solution*](https://github.com/NeuromatchAcademy/precourse/tree/main/tutorials/W0D3_LinearAlgebra/solutions/W0D3_Tutorial2_Solution_4b71ea28.py)\n",
        "\n"
      ]
    },
    {
      "cell_type": "code",
      "execution_count": null,
      "metadata": {
        "cellView": "form",
        "execution": {},
        "id": "IKA-uww1odpO"
      },
      "outputs": [],
      "source": [
        "# @title Submit your feedback\n",
        "content_review(f\"{feedback_prefix}_Computation_corner_Exercise\")"
      ]
    },
    {
      "cell_type": "markdown",
      "metadata": {
        "execution": {},
        "id": "_lbLeqM2odpP"
      },
      "source": [
        "---\n",
        "# Summary\n",
        "\n",
        "*Estimated timing of tutorial: 1 hour, 35 minutes*\n",
        "\n",
        "In this tutorial, you have learned how to think about matrices from the perspective of solving a system of equations and as a linear transformation of space. You have learned:\n",
        "- Properties of a matrix, such as rank & null space\n",
        "- How the invertibility of matrices relates to the linear transform they enact\n",
        "- What eigenvalues/eigenvectors are and why they might be useful\n",
        "\n",
        "We will be using this knowledge in many of the days in the NMA computational neuroscience course."
      ]
    }
  ],
  "metadata": {
    "colab": {
      "name": "W0D3_Tutorial2",
      "provenance": [],
      "include_colab_link": true
    },
    "kernel": {
      "display_name": "Python 3",
      "language": "python",
      "name": "python3"
    },
    "kernelspec": {
      "display_name": "Python 3",
      "name": "python3"
    },
    "language_info": {
      "codemirror_mode": {
        "name": "ipython",
        "version": 3
      },
      "file_extension": ".py",
      "mimetype": "text/x-python",
      "name": "python",
      "nbconvert_exporter": "python",
      "pygments_lexer": "ipython3",
      "version": "3.9.17"
    },
    "widgets": {
      "application/vnd.jupyter.widget-state+json": {
        "83dae341a53a4c5fb8c55c17ed31b23f": {
          "model_module": "@jupyter-widgets/controls",
          "model_name": "TabModel",
          "model_module_version": "1.5.0",
          "state": {
            "_dom_classes": [],
            "_model_module": "@jupyter-widgets/controls",
            "_model_module_version": "1.5.0",
            "_model_name": "TabModel",
            "_titles": {
              "0": "Youtube",
              "1": "Bilibili"
            },
            "_view_count": null,
            "_view_module": "@jupyter-widgets/controls",
            "_view_module_version": "1.5.0",
            "_view_name": "TabView",
            "box_style": "",
            "children": [
              "IPY_MODEL_af3fd3b9b4ad469f9cc8ee2b9484b525",
              "IPY_MODEL_2c6aecb9b1ac44e896cd0d95f3be873d"
            ],
            "layout": "IPY_MODEL_0d1cc4bbfb47483cad7c5f3088f6998f",
            "selected_index": 0
          }
        },
        "af3fd3b9b4ad469f9cc8ee2b9484b525": {
          "model_module": "@jupyter-widgets/output",
          "model_name": "OutputModel",
          "model_module_version": "1.0.0",
          "state": {
            "_dom_classes": [],
            "_model_module": "@jupyter-widgets/output",
            "_model_module_version": "1.0.0",
            "_model_name": "OutputModel",
            "_view_count": null,
            "_view_module": "@jupyter-widgets/output",
            "_view_module_version": "1.0.0",
            "_view_name": "OutputView",
            "layout": "IPY_MODEL_273e578bb7764406837727a8500e51f6",
            "msg_id": "",
            "outputs": [
              {
                "output_type": "stream",
                "name": "stdout",
                "text": [
                  "Video available at https://youtube.com/watch?v=3ecnOrMEh00\n"
                ]
              },
              {
                "output_type": "display_data",
                "data": {
                  "text/plain": "<IPython.lib.display.YouTubeVideo at 0x7bf1cafc6610>",
                  "text/html": "\n        <iframe\n            width=\"854\"\n            height=\"480\"\n            src=\"https://www.youtube.com/embed/3ecnOrMEh00?fs=1&rel=0\"\n            frameborder=\"0\"\n            allowfullscreen\n            \n        ></iframe>\n        ",
                  "image/jpeg": "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\n"
                },
                "metadata": {}
              }
            ]
          }
        },
        "2c6aecb9b1ac44e896cd0d95f3be873d": {
          "model_module": "@jupyter-widgets/output",
          "model_name": "OutputModel",
          "model_module_version": "1.0.0",
          "state": {
            "_dom_classes": [],
            "_model_module": "@jupyter-widgets/output",
            "_model_module_version": "1.0.0",
            "_model_name": "OutputModel",
            "_view_count": null,
            "_view_module": "@jupyter-widgets/output",
            "_view_module_version": "1.0.0",
            "_view_name": "OutputView",
            "layout": "IPY_MODEL_a6b08eb224194d52bc085992afd9bf74",
            "msg_id": "",
            "outputs": [
              {
                "output_type": "stream",
                "name": "stdout",
                "text": [
                  "Video available at https://www.bilibili.com/video/BV1Aq4y1x7hf\n"
                ]
              },
              {
                "output_type": "display_data",
                "data": {
                  "text/plain": "<__main__.PlayVideo at 0x7bf1caff45d0>",
                  "text/html": "\n        <iframe\n            width=\"854\"\n            height=\"480\"\n            src=\"https://player.bilibili.com/player.html?bvid=BV1Aq4y1x7hf&page=1?fs=1&autoplay=False\"\n            frameborder=\"0\"\n            allowfullscreen\n            \n        ></iframe>\n        "
                },
                "metadata": {}
              }
            ]
          }
        },
        "0d1cc4bbfb47483cad7c5f3088f6998f": {
          "model_module": "@jupyter-widgets/base",
          "model_name": "LayoutModel",
          "model_module_version": "1.2.0",
          "state": {
            "_model_module": "@jupyter-widgets/base",
            "_model_module_version": "1.2.0",
            "_model_name": "LayoutModel",
            "_view_count": null,
            "_view_module": "@jupyter-widgets/base",
            "_view_module_version": "1.2.0",
            "_view_name": "LayoutView",
            "align_content": null,
            "align_items": null,
            "align_self": null,
            "border": null,
            "bottom": null,
            "display": null,
            "flex": null,
            "flex_flow": null,
            "grid_area": null,
            "grid_auto_columns": null,
            "grid_auto_flow": null,
            "grid_auto_rows": null,
            "grid_column": null,
            "grid_gap": null,
            "grid_row": null,
            "grid_template_areas": null,
            "grid_template_columns": null,
            "grid_template_rows": null,
            "height": null,
            "justify_content": null,
            "justify_items": null,
            "left": null,
            "margin": null,
            "max_height": null,
            "max_width": null,
            "min_height": null,
            "min_width": null,
            "object_fit": null,
            "object_position": null,
            "order": null,
            "overflow": null,
            "overflow_x": null,
            "overflow_y": null,
            "padding": null,
            "right": null,
            "top": null,
            "visibility": null,
            "width": null
          }
        },
        "273e578bb7764406837727a8500e51f6": {
          "model_module": "@jupyter-widgets/base",
          "model_name": "LayoutModel",
          "model_module_version": "1.2.0",
          "state": {
            "_model_module": "@jupyter-widgets/base",
            "_model_module_version": "1.2.0",
            "_model_name": "LayoutModel",
            "_view_count": null,
            "_view_module": "@jupyter-widgets/base",
            "_view_module_version": "1.2.0",
            "_view_name": "LayoutView",
            "align_content": null,
            "align_items": null,
            "align_self": null,
            "border": null,
            "bottom": null,
            "display": null,
            "flex": null,
            "flex_flow": null,
            "grid_area": null,
            "grid_auto_columns": null,
            "grid_auto_flow": null,
            "grid_auto_rows": null,
            "grid_column": null,
            "grid_gap": null,
            "grid_row": null,
            "grid_template_areas": null,
            "grid_template_columns": null,
            "grid_template_rows": null,
            "height": null,
            "justify_content": null,
            "justify_items": null,
            "left": null,
            "margin": null,
            "max_height": null,
            "max_width": null,
            "min_height": null,
            "min_width": null,
            "object_fit": null,
            "object_position": null,
            "order": null,
            "overflow": null,
            "overflow_x": null,
            "overflow_y": null,
            "padding": null,
            "right": null,
            "top": null,
            "visibility": null,
            "width": null
          }
        },
        "a6b08eb224194d52bc085992afd9bf74": {
          "model_module": "@jupyter-widgets/base",
          "model_name": "LayoutModel",
          "model_module_version": "1.2.0",
          "state": {
            "_model_module": "@jupyter-widgets/base",
            "_model_module_version": "1.2.0",
            "_model_name": "LayoutModel",
            "_view_count": null,
            "_view_module": "@jupyter-widgets/base",
            "_view_module_version": "1.2.0",
            "_view_name": "LayoutView",
            "align_content": null,
            "align_items": null,
            "align_self": null,
            "border": null,
            "bottom": null,
            "display": null,
            "flex": null,
            "flex_flow": null,
            "grid_area": null,
            "grid_auto_columns": null,
            "grid_auto_flow": null,
            "grid_auto_rows": null,
            "grid_column": null,
            "grid_gap": null,
            "grid_row": null,
            "grid_template_areas": null,
            "grid_template_columns": null,
            "grid_template_rows": null,
            "height": null,
            "justify_content": null,
            "justify_items": null,
            "left": null,
            "margin": null,
            "max_height": null,
            "max_width": null,
            "min_height": null,
            "min_width": null,
            "object_fit": null,
            "object_position": null,
            "order": null,
            "overflow": null,
            "overflow_x": null,
            "overflow_y": null,
            "padding": null,
            "right": null,
            "top": null,
            "visibility": null,
            "width": null
          }
        },
        "9bbd92fcedaa49bba94ca1c2e90d2230": {
          "model_module": "@jupyter-widgets/controls",
          "model_name": "TabModel",
          "model_module_version": "1.5.0",
          "state": {
            "_dom_classes": [],
            "_model_module": "@jupyter-widgets/controls",
            "_model_module_version": "1.5.0",
            "_model_name": "TabModel",
            "_titles": {
              "0": "Youtube",
              "1": "Bilibili"
            },
            "_view_count": null,
            "_view_module": "@jupyter-widgets/controls",
            "_view_module_version": "1.5.0",
            "_view_name": "TabView",
            "box_style": "",
            "children": [
              "IPY_MODEL_112394bcc4d24226a788c034db46f0bb",
              "IPY_MODEL_882a0c68abd74fe6904e742826e9babf"
            ],
            "layout": "IPY_MODEL_01aa8b54ad7d4c9585f2921db8475b7d",
            "selected_index": 0
          }
        },
        "112394bcc4d24226a788c034db46f0bb": {
          "model_module": "@jupyter-widgets/output",
          "model_name": "OutputModel",
          "model_module_version": "1.0.0",
          "state": {
            "_dom_classes": [],
            "_model_module": "@jupyter-widgets/output",
            "_model_module_version": "1.0.0",
            "_model_name": "OutputModel",
            "_view_count": null,
            "_view_module": "@jupyter-widgets/output",
            "_view_module_version": "1.0.0",
            "_view_name": "OutputView",
            "layout": "IPY_MODEL_0d666efca9e144edbddecb94dbd0f164",
            "msg_id": "",
            "outputs": [
              {
                "output_type": "stream",
                "name": "stdout",
                "text": [
                  "Video available at https://youtube.com/watch?v=N6UUV9tVIr8\n"
                ]
              },
              {
                "output_type": "display_data",
                "data": {
                  "text/plain": "<IPython.lib.display.YouTubeVideo at 0x7878a8c28c10>",
                  "text/html": "\n        <iframe\n            width=\"854\"\n            height=\"480\"\n            src=\"https://www.youtube.com/embed/N6UUV9tVIr8?fs=1&rel=0\"\n            frameborder=\"0\"\n            allowfullscreen\n            \n        ></iframe>\n        ",
                  "image/jpeg": "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\n"
                },
                "metadata": {}
              }
            ]
          }
        },
        "882a0c68abd74fe6904e742826e9babf": {
          "model_module": "@jupyter-widgets/output",
          "model_name": "OutputModel",
          "model_module_version": "1.0.0",
          "state": {
            "_dom_classes": [],
            "_model_module": "@jupyter-widgets/output",
            "_model_module_version": "1.0.0",
            "_model_name": "OutputModel",
            "_view_count": null,
            "_view_module": "@jupyter-widgets/output",
            "_view_module_version": "1.0.0",
            "_view_name": "OutputView",
            "layout": "IPY_MODEL_6e6d82b5ad5f4f3d868ad4abfde6b4df",
            "msg_id": "",
            "outputs": [
              {
                "output_type": "stream",
                "name": "stdout",
                "text": [
                  "Video available at https://www.bilibili.com/video/BV1KB4y1T7zM\n"
                ]
              },
              {
                "output_type": "display_data",
                "data": {
                  "text/plain": "<__main__.PlayVideo at 0x7878a8c46dd0>",
                  "text/html": "\n        <iframe\n            width=\"854\"\n            height=\"480\"\n            src=\"https://player.bilibili.com/player.html?bvid=BV1KB4y1T7zM&page=1?fs=1&autoplay=False\"\n            frameborder=\"0\"\n            allowfullscreen\n            \n        ></iframe>\n        "
                },
                "metadata": {}
              }
            ]
          }
        },
        "01aa8b54ad7d4c9585f2921db8475b7d": {
          "model_module": "@jupyter-widgets/base",
          "model_name": "LayoutModel",
          "model_module_version": "1.2.0",
          "state": {
            "_model_module": "@jupyter-widgets/base",
            "_model_module_version": "1.2.0",
            "_model_name": "LayoutModel",
            "_view_count": null,
            "_view_module": "@jupyter-widgets/base",
            "_view_module_version": "1.2.0",
            "_view_name": "LayoutView",
            "align_content": null,
            "align_items": null,
            "align_self": null,
            "border": null,
            "bottom": null,
            "display": null,
            "flex": null,
            "flex_flow": null,
            "grid_area": null,
            "grid_auto_columns": null,
            "grid_auto_flow": null,
            "grid_auto_rows": null,
            "grid_column": null,
            "grid_gap": null,
            "grid_row": null,
            "grid_template_areas": null,
            "grid_template_columns": null,
            "grid_template_rows": null,
            "height": null,
            "justify_content": null,
            "justify_items": null,
            "left": null,
            "margin": null,
            "max_height": null,
            "max_width": null,
            "min_height": null,
            "min_width": null,
            "object_fit": null,
            "object_position": null,
            "order": null,
            "overflow": null,
            "overflow_x": null,
            "overflow_y": null,
            "padding": null,
            "right": null,
            "top": null,
            "visibility": null,
            "width": null
          }
        },
        "0d666efca9e144edbddecb94dbd0f164": {
          "model_module": "@jupyter-widgets/base",
          "model_name": "LayoutModel",
          "model_module_version": "1.2.0",
          "state": {
            "_model_module": "@jupyter-widgets/base",
            "_model_module_version": "1.2.0",
            "_model_name": "LayoutModel",
            "_view_count": null,
            "_view_module": "@jupyter-widgets/base",
            "_view_module_version": "1.2.0",
            "_view_name": "LayoutView",
            "align_content": null,
            "align_items": null,
            "align_self": null,
            "border": null,
            "bottom": null,
            "display": null,
            "flex": null,
            "flex_flow": null,
            "grid_area": null,
            "grid_auto_columns": null,
            "grid_auto_flow": null,
            "grid_auto_rows": null,
            "grid_column": null,
            "grid_gap": null,
            "grid_row": null,
            "grid_template_areas": null,
            "grid_template_columns": null,
            "grid_template_rows": null,
            "height": null,
            "justify_content": null,
            "justify_items": null,
            "left": null,
            "margin": null,
            "max_height": null,
            "max_width": null,
            "min_height": null,
            "min_width": null,
            "object_fit": null,
            "object_position": null,
            "order": null,
            "overflow": null,
            "overflow_x": null,
            "overflow_y": null,
            "padding": null,
            "right": null,
            "top": null,
            "visibility": null,
            "width": null
          }
        },
        "6e6d82b5ad5f4f3d868ad4abfde6b4df": {
          "model_module": "@jupyter-widgets/base",
          "model_name": "LayoutModel",
          "model_module_version": "1.2.0",
          "state": {
            "_model_module": "@jupyter-widgets/base",
            "_model_module_version": "1.2.0",
            "_model_name": "LayoutModel",
            "_view_count": null,
            "_view_module": "@jupyter-widgets/base",
            "_view_module_version": "1.2.0",
            "_view_name": "LayoutView",
            "align_content": null,
            "align_items": null,
            "align_self": null,
            "border": null,
            "bottom": null,
            "display": null,
            "flex": null,
            "flex_flow": null,
            "grid_area": null,
            "grid_auto_columns": null,
            "grid_auto_flow": null,
            "grid_auto_rows": null,
            "grid_column": null,
            "grid_gap": null,
            "grid_row": null,
            "grid_template_areas": null,
            "grid_template_columns": null,
            "grid_template_rows": null,
            "height": null,
            "justify_content": null,
            "justify_items": null,
            "left": null,
            "margin": null,
            "max_height": null,
            "max_width": null,
            "min_height": null,
            "min_width": null,
            "object_fit": null,
            "object_position": null,
            "order": null,
            "overflow": null,
            "overflow_x": null,
            "overflow_y": null,
            "padding": null,
            "right": null,
            "top": null,
            "visibility": null,
            "width": null
          }
        }
      }
    }
  },
  "nbformat": 4,
  "nbformat_minor": 0
}