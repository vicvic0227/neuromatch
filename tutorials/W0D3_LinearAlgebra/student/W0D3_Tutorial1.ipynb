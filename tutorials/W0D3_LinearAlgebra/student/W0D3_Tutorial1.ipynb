{
  "cells": [
    {
      "cell_type": "markdown",
      "metadata": {
        "id": "view-in-github",
        "colab_type": "text"
      },
      "source": [
        "<a href=\"https://colab.research.google.com/github/vicvic0227/neuromatch/blob/main/tutorials/W0D3_LinearAlgebra/student/W0D3_Tutorial1.ipynb\" target=\"_parent\"><img src=\"https://colab.research.google.com/assets/colab-badge.svg\" alt=\"Open In Colab\"/></a>"
      ]
    },
    {
      "cell_type": "markdown",
      "metadata": {
        "execution": {},
        "id": "EP0AYizkhtNa"
      },
      "source": [
        "# Tutorial 1: Vectors\n",
        "\n",
        "**Week 0, Day 3: Linear Algebra**\n",
        "\n",
        "**By Neuromatch Academy**\n",
        "\n",
        "__Content creators:__ Ella Batty\n",
        "\n",
        "__Content reviewers:__ Keith van Antwerp, Pooya Pakarian, Anoop Kulkarni\n",
        "\n",
        "__Production editors:__ Siddharth Suresh, Ella Batty"
      ]
    },
    {
      "cell_type": "markdown",
      "metadata": {
        "execution": {},
        "id": "tfzgw0S3htNc"
      },
      "source": [
        "---\n",
        "# Tutorial Objectives\n",
        "*Estimated timing of tutorial: 1 hour, 25 minutes*\n",
        "\n",
        "During today, we will learn the basics of linear algebra, focusing on the topics that underlie the material on future days in the NMA Computational Neuroscience course. In this tutorial, we focus on vectors: their definition, their properties & operations, and how we can use them to define our coordinate system.\n",
        "\n",
        "By the end of this tutorial, you will:\n",
        "* Be able to provide an example of how linear algebra is used in computational neuroscience\n",
        "* Be able to describe vectors, their properties (dimensionality/length), and their operations (scalar multiplication, vector addition, dot product) geometrically\n",
        "* Be able to determine and explain the number of basis vectors necessary for a given vector space\n"
      ]
    },
    {
      "cell_type": "markdown",
      "metadata": {
        "execution": {},
        "id": "QDxiBWikhtNe"
      },
      "source": [
        "---\n",
        "# Setup\n",
        "\n",
        "Execute the following cells to set up the notebook environment"
      ]
    },
    {
      "cell_type": "code",
      "execution_count": null,
      "metadata": {
        "cellView": "form",
        "execution": {},
        "id": "sGJOtAuuhtNe"
      },
      "outputs": [],
      "source": [
        "# @title Install and import feedback gadget\n",
        "\n",
        "!pip3 install vibecheck datatops --quiet\n",
        "\n",
        "from vibecheck import DatatopsContentReviewContainer\n",
        "def content_review(notebook_section: str):\n",
        "    return DatatopsContentReviewContainer(\n",
        "        \"\",  # No text prompt\n",
        "        notebook_section,\n",
        "        {\n",
        "            \"url\": \"https://pmyvdlilci.execute-api.us-east-1.amazonaws.com/klab\",\n",
        "            \"name\": \"neuromatch-precourse\",\n",
        "            \"user_key\": \"8zxfvwxw\",\n",
        "        },\n",
        "    ).render()\n",
        "\n",
        "\n",
        "feedback_prefix = \"W0D3_T1\""
      ]
    },
    {
      "cell_type": "code",
      "execution_count": 1,
      "metadata": {
        "execution": {},
        "id": "YNi7y6fLhtNf"
      },
      "outputs": [],
      "source": [
        "# Imports\n",
        "import numpy as np\n",
        "import matplotlib.pyplot as plt"
      ]
    },
    {
      "cell_type": "code",
      "execution_count": 2,
      "metadata": {
        "cellView": "form",
        "execution": {},
        "id": "EwHn6iQ3htNg"
      },
      "outputs": [],
      "source": [
        "#@title Figure settings\n",
        "import ipywidgets as widgets  # interactive display\n",
        "from ipywidgets import fixed\n",
        "%config InlineBackend.figure_format = 'retina'\n",
        "plt.style.use(\"https://raw.githubusercontent.com/NeuromatchAcademy/course-content/master/nma.mplstyle\")"
      ]
    },
    {
      "cell_type": "code",
      "execution_count": 3,
      "metadata": {
        "cellView": "form",
        "execution": {},
        "id": "L5XbVPDUhtNh"
      },
      "outputs": [],
      "source": [
        "# @title Plotting functions\n",
        "from matplotlib.patches import FancyArrowPatch\n",
        "from mpl_toolkits.mplot3d import proj3d\n",
        "\n",
        "\n",
        "def visualize_vectors(v, v_unit):\n",
        "  \"\"\" Plots a 2D vector and the corresponding unit vector\n",
        "\n",
        "  Args:\n",
        "    v (ndarray): array of size (2,) with the vector coordinates\n",
        "    v_unit (ndarray): array of size (2, ) with the unit vector coordinates\n",
        "\n",
        "  \"\"\"\n",
        "  fig, ax = plt.subplots()\n",
        "\n",
        "  # Set up plot aesthetics\n",
        "  ax.spines['top'].set_color('none')\n",
        "  ax.spines['bottom'].set_position('zero')\n",
        "  ax.spines['left'].set_position('zero')\n",
        "  ax.spines['right'].set_color('none')\n",
        "  ax.set(xlim = [-6, 6], ylim = [-6, 6])\n",
        "  ax.grid(True, alpha=.4, linewidth=1, zorder=0)\n",
        "\n",
        "  # Plot vectors\n",
        "  v_arr = ax.arrow(0, 0, v[0], v[1], width=0.08, color='#648FFF',\n",
        "                   length_includes_head=True, zorder=2);\n",
        "  v_unit_arr = ax.arrow(0, 0, v_unit[0], v_unit[1], width=0.08,\n",
        "                        color='#DC267F',\n",
        "                        length_includes_head=True, zorder=3);\n",
        "  ax.set(xlim = [-4, 4], ylim = [-4, 4]);\n",
        "\n",
        "  # Add legend\n",
        "  leg = ax.legend([v_arr, v_unit_arr],\n",
        "                  [r\"Vector $\\mathbf{v}$\",\n",
        "                   r\"Normalized vector $\\tilde{\\mathbf{v}}$\"],\n",
        "                  handlelength=0, fontsize=20, loc='upper left')\n",
        "  for handle, label in zip(leg.legendHandles, leg.texts):\n",
        "    label.set_color(handle.get_facecolor())\n",
        "    handle.set_visible(False)\n",
        "\n",
        "class Arrow3D(FancyArrowPatch):\n",
        "    def __init__(self, xs, ys, zs, *args, **kwargs):\n",
        "      FancyArrowPatch.__init__(self, (0,0), (0,0), *args, **kwargs)\n",
        "      self._verts3d = xs, ys, zs\n",
        "\n",
        "    def draw(self, renderer):\n",
        "      xs3d, ys3d, zs3d = self._verts3d\n",
        "      xs, ys, zs = proj3d.proj_transform(xs3d, ys3d, zs3d, renderer.M)\n",
        "      self.set_positions((xs[0],ys[0]),(xs[1],ys[1]))\n",
        "      FancyArrowPatch.draw(self, renderer)\n",
        "\n",
        "    def do_3d_projection(self, renderer=None):\n",
        "      xs3d, ys3d, zs3d = self._verts3d\n",
        "      xs, ys, zs = proj3d.proj_transform(xs3d, ys3d, zs3d, self.axes.M)\n",
        "      self.set_positions((xs[0], ys[0]), (xs[1], ys[1]))"
      ]
    },
    {
      "cell_type": "markdown",
      "metadata": {
        "execution": {},
        "id": "AQ34mBPRhtNi"
      },
      "source": [
        "---\n",
        "# Section 0: Introduction"
      ]
    },
    {
      "cell_type": "code",
      "execution_count": null,
      "metadata": {
        "cellView": "form",
        "execution": {},
        "id": "c7js8819htNi"
      },
      "outputs": [],
      "source": [
        "# @title Video 1: Why do we care about linear algebra?\n",
        "from ipywidgets import widgets\n",
        "from IPython.display import YouTubeVideo\n",
        "from IPython.display import IFrame\n",
        "from IPython.display import display\n",
        "\n",
        "\n",
        "class PlayVideo(IFrame):\n",
        "  def __init__(self, id, source, page=1, width=400, height=300, **kwargs):\n",
        "    self.id = id\n",
        "    if source == 'Bilibili':\n",
        "      src = f'https://player.bilibili.com/player.html?bvid={id}&page={page}'\n",
        "    elif source == 'Osf':\n",
        "      src = f'https://mfr.ca-1.osf.io/render?url=https://osf.io/download/{id}/?direct%26mode=render'\n",
        "    super(PlayVideo, self).__init__(src, width, height, **kwargs)\n",
        "\n",
        "\n",
        "def display_videos(video_ids, W=400, H=300, fs=1):\n",
        "  tab_contents = []\n",
        "  for i, video_id in enumerate(video_ids):\n",
        "    out = widgets.Output()\n",
        "    with out:\n",
        "      if video_ids[i][0] == 'Youtube':\n",
        "        video = YouTubeVideo(id=video_ids[i][1], width=W,\n",
        "                             height=H, fs=fs, rel=0)\n",
        "        print(f'Video available at https://youtube.com/watch?v={video.id}')\n",
        "      else:\n",
        "        video = PlayVideo(id=video_ids[i][1], source=video_ids[i][0], width=W,\n",
        "                          height=H, fs=fs, autoplay=False)\n",
        "        if video_ids[i][0] == 'Bilibili':\n",
        "          print(f'Video available at https://www.bilibili.com/video/{video.id}')\n",
        "        elif video_ids[i][0] == 'Osf':\n",
        "          print(f'Video available at https://osf.io/{video.id}')\n",
        "      display(video)\n",
        "    tab_contents.append(out)\n",
        "  return tab_contents\n",
        "\n",
        "\n",
        "video_ids = [('Youtube', 'qsK7pHrJU5M'), ('Bilibili', 'BV1vf4y1b7mr')]\n",
        "tab_contents = display_videos(video_ids, W=854, H=480)\n",
        "tabs = widgets.Tab()\n",
        "tabs.children = tab_contents\n",
        "for i in range(len(tab_contents)):\n",
        "  tabs.set_title(i, video_ids[i][0])\n",
        "display(tabs)"
      ]
    },
    {
      "cell_type": "code",
      "execution_count": null,
      "metadata": {
        "cellView": "form",
        "execution": {},
        "id": "g-fFD5VhhtNj"
      },
      "outputs": [],
      "source": [
        "# @title Submit your feedback\n",
        "content_review(f\"{feedback_prefix}_Why_do_we_care_about_linear_algebra_Video\")"
      ]
    },
    {
      "cell_type": "markdown",
      "metadata": {
        "execution": {},
        "id": "c2DXS8HQhtNj"
      },
      "source": [
        "---\n",
        "\n",
        "# Section 1: Intro to vectors"
      ]
    },
    {
      "cell_type": "markdown",
      "metadata": {
        "execution": {},
        "id": "mfMHh_rYhtNk"
      },
      "source": [
        "## Section 1.1: What is a vector?\n",
        "\n"
      ]
    },
    {
      "cell_type": "code",
      "execution_count": 7,
      "metadata": {
        "cellView": "form",
        "execution": {},
        "id": "MRk9hi5OhtNk",
        "outputId": "a351fc2a-9caa-4ec9-a6b8-62157508c412",
        "colab": {
          "base_uri": "https://localhost:8080/",
          "height": 595,
          "referenced_widgets": [
            "bac2e220a466470b82902e53893aa586",
            "e2c5ac7f64cd44d98d9fa7c62878013a",
            "c12271991b814340af372572efa5f8f2",
            "504152a626ab4acbbcd3d277fd8d0425",
            "e0c868b96f984f598f2e46797e7fa234",
            "c5bf8e5b9da04a4a91ad549a4049e1d5"
          ]
        }
      },
      "outputs": [
        {
          "output_type": "display_data",
          "data": {
            "text/plain": [
              "Tab(children=(Output(), Output()), _titles={'0': 'Youtube', '1': 'Bilibili'})"
            ],
            "application/vnd.jupyter.widget-view+json": {
              "version_major": 2,
              "version_minor": 0,
              "model_id": "bac2e220a466470b82902e53893aa586"
            }
          },
          "metadata": {}
        }
      ],
      "source": [
        "# @title Video 2: Vector Definition & Properties\n",
        "from ipywidgets import widgets\n",
        "from IPython.display import YouTubeVideo\n",
        "from IPython.display import IFrame\n",
        "from IPython.display import display\n",
        "\n",
        "\n",
        "class PlayVideo(IFrame):\n",
        "  def __init__(self, id, source, page=1, width=400, height=300, **kwargs):\n",
        "    self.id = id\n",
        "    if source == 'Bilibili':\n",
        "      src = f'https://player.bilibili.com/player.html?bvid={id}&page={page}'\n",
        "    elif source == 'Osf':\n",
        "      src = f'https://mfr.ca-1.osf.io/render?url=https://osf.io/download/{id}/?direct%26mode=render'\n",
        "    super(PlayVideo, self).__init__(src, width, height, **kwargs)\n",
        "\n",
        "\n",
        "def display_videos(video_ids, W=400, H=300, fs=1):\n",
        "  tab_contents = []\n",
        "  for i, video_id in enumerate(video_ids):\n",
        "    out = widgets.Output()\n",
        "    with out:\n",
        "      if video_ids[i][0] == 'Youtube':\n",
        "        video = YouTubeVideo(id=video_ids[i][1], width=W,\n",
        "                             height=H, fs=fs, rel=0)\n",
        "        print(f'Video available at https://youtube.com/watch?v={video.id}')\n",
        "      else:\n",
        "        video = PlayVideo(id=video_ids[i][1], source=video_ids[i][0], width=W,\n",
        "                          height=H, fs=fs, autoplay=False)\n",
        "        if video_ids[i][0] == 'Bilibili':\n",
        "          print(f'Video available at https://www.bilibili.com/video/{video.id}')\n",
        "        elif video_ids[i][0] == 'Osf':\n",
        "          print(f'Video available at https://osf.io/{video.id}')\n",
        "      display(video)\n",
        "    tab_contents.append(out)\n",
        "  return tab_contents\n",
        "\n",
        "\n",
        "video_ids = [('Youtube', 'Vi6L9fBk2Uc'), ('Bilibili', 'BV1sX4y1P7wT')]\n",
        "tab_contents = display_videos(video_ids, W=854, H=480)\n",
        "tabs = widgets.Tab()\n",
        "tabs.children = tab_contents\n",
        "for i in range(len(tab_contents)):\n",
        "  tabs.set_title(i, video_ids[i][0])\n",
        "display(tabs)"
      ]
    },
    {
      "cell_type": "code",
      "execution_count": null,
      "metadata": {
        "cellView": "form",
        "execution": {},
        "id": "8q_CaxHAhtNk"
      },
      "outputs": [],
      "source": [
        "# @title Submit your feedback\n",
        "content_review(f\"{feedback_prefix}_Vector_Definition_&_Properties_Video\")"
      ]
    },
    {
      "cell_type": "markdown",
      "metadata": {
        "execution": {},
        "id": "ECszfIx5htNl"
      },
      "source": [
        "This video covers the definition of vectors, the dimensionality and length of vectors, and zero/unit vectors.\n",
        "\n",
        "<details>\n",
        "<summary> <font color='blue'>Click here for text recap of video </font></summary>\n",
        "\n",
        "A vector $\\mathbf{x}$ can be considered from at least two perspectives: as an ordered list of numbers or as an arrow with the base at the origin of a coordinate system. These are two ways of looking at a single thing: in the arrow case, the tip of the arrow is defined by a coordinate (which can be represented by the ordered list).\n",
        "<br/><br/>\n",
        "\n",
        "The **dimensionality of a vector** is determined by the number of components in the ordered list (or the dimensionality of the space in which the arrow exists). For example, $\\mathbf{x} = \\begin{bmatrix} 4 \\\\ 2 \\\\ 1 \\end{bmatrix}$ is a 3 dimensional vector. We can refer to components by $\\mathbf{x}_i$ where i indicates the position of the component. In this vector, $\\mathbf{x_1} = 4$, $\\mathbf{x_2} = 2$, and $\\mathbf{x_3} = 1$.\n",
        "\n",
        "<br/><br/>\n",
        "One defining property of a vector is its length: $||\\mathbf{x}||$. This is the length of the arrow and can be computed as the square root of the sum of all components squared:\n",
        "\n",
        "\\begin{equation}\n",
        "||\\mathbf{x}|| = \\sqrt{\\sum_{i=1}^N \\mathbf{x}_i^2}\n",
        "\\end{equation}\n",
        "\n",
        "<br/><br/>\n",
        "We have two special types of vectors with specific names. **Zero vectors** have length 0 (and all components equal 0). **Unit vectors** have length 1. You can normalize a vector and create a unit vector, $\\tilde{\\mathbf{x}}$, by dividing by its length,$||\\mathbf{x}||$ :\n",
        "\n",
        "\\begin{equation}\n",
        "\\tilde{\\mathbf{x}} = \\frac{\\mathbf{x}}{||\\mathbf{x}||}\n",
        "\\end{equation}"
      ]
    },
    {
      "cell_type": "markdown",
      "metadata": {
        "execution": {},
        "id": "pSbQQoq2htNl"
      },
      "source": [
        "### Coding Exercise 1.1: Normalizing vectors\n",
        "\n",
        "In this exercise, you will first create the below vector, $\\mathbf{v}$, using a numpy array. You will then implement a function, `normalize_vector`, that outputs a normalized version of the input vector (by dividing each component by the vector length).  You will then visualize both the original vector and the unit vector.\n",
        "\n",
        "First think: how do you think the normalized unit vector will compare to the original vector in terms of direction and length?\n",
        "\n",
        "\n",
        "\\begin{equation}\n",
        "\\mathbf{v} =\n",
        "\\begin{bmatrix}\n",
        "4 \\\\\n",
        "1\n",
        "\\end{bmatrix}\n",
        "\\end{equation}"
      ]
    },
    {
      "cell_type": "code",
      "execution_count": 10,
      "metadata": {
        "execution": {},
        "id": "BWh0T01KhtNl",
        "outputId": "36951cd1-7566-4b53-a2cc-a2d2325c6a71",
        "colab": {
          "base_uri": "https://localhost:8080/",
          "height": 872
        }
      },
      "outputs": [
        {
          "output_type": "error",
          "ename": "AttributeError",
          "evalue": "'Legend' object has no attribute 'legendHandles'",
          "traceback": [
            "\u001b[0;31m---------------------------------------------------------------------------\u001b[0m",
            "\u001b[0;31mAttributeError\u001b[0m                            Traceback (most recent call last)",
            "\u001b[0;32m/tmp/ipython-input-10-146626064.py\u001b[0m in \u001b[0;36m<cell line: 0>\u001b[0;34m()\u001b[0m\n\u001b[1;32m     31\u001b[0m \u001b[0;34m\u001b[0m\u001b[0m\n\u001b[1;32m     32\u001b[0m \u001b[0;31m# Visualize the vectors\u001b[0m\u001b[0;34m\u001b[0m\u001b[0;34m\u001b[0m\u001b[0m\n\u001b[0;32m---> 33\u001b[0;31m \u001b[0mvisualize_vectors\u001b[0m\u001b[0;34m(\u001b[0m\u001b[0mv\u001b[0m\u001b[0;34m,\u001b[0m \u001b[0mv_unit\u001b[0m\u001b[0;34m)\u001b[0m\u001b[0;34m\u001b[0m\u001b[0;34m\u001b[0m\u001b[0m\n\u001b[0m",
            "\u001b[0;32m/tmp/ipython-input-3-981831466.py\u001b[0m in \u001b[0;36mvisualize_vectors\u001b[0;34m(v, v_unit)\u001b[0m\n\u001b[1;32m     35\u001b[0m                    r\"Normalized vector $\\tilde{\\mathbf{v}}$\"],\n\u001b[1;32m     36\u001b[0m                   handlelength=0, fontsize=20, loc='upper left')\n\u001b[0;32m---> 37\u001b[0;31m   \u001b[0;32mfor\u001b[0m \u001b[0mhandle\u001b[0m\u001b[0;34m,\u001b[0m \u001b[0mlabel\u001b[0m \u001b[0;32min\u001b[0m \u001b[0mzip\u001b[0m\u001b[0;34m(\u001b[0m\u001b[0mleg\u001b[0m\u001b[0;34m.\u001b[0m\u001b[0mlegendHandles\u001b[0m\u001b[0;34m,\u001b[0m \u001b[0mleg\u001b[0m\u001b[0;34m.\u001b[0m\u001b[0mtexts\u001b[0m\u001b[0;34m)\u001b[0m\u001b[0;34m:\u001b[0m\u001b[0;34m\u001b[0m\u001b[0;34m\u001b[0m\u001b[0m\n\u001b[0m\u001b[1;32m     38\u001b[0m     \u001b[0mlabel\u001b[0m\u001b[0;34m.\u001b[0m\u001b[0mset_color\u001b[0m\u001b[0;34m(\u001b[0m\u001b[0mhandle\u001b[0m\u001b[0;34m.\u001b[0m\u001b[0mget_facecolor\u001b[0m\u001b[0;34m(\u001b[0m\u001b[0;34m)\u001b[0m\u001b[0;34m)\u001b[0m\u001b[0;34m\u001b[0m\u001b[0;34m\u001b[0m\u001b[0m\n\u001b[1;32m     39\u001b[0m     \u001b[0mhandle\u001b[0m\u001b[0;34m.\u001b[0m\u001b[0mset_visible\u001b[0m\u001b[0;34m(\u001b[0m\u001b[0;32mFalse\u001b[0m\u001b[0;34m)\u001b[0m\u001b[0;34m\u001b[0m\u001b[0;34m\u001b[0m\u001b[0m\n",
            "\u001b[0;31mAttributeError\u001b[0m: 'Legend' object has no attribute 'legendHandles'"
          ]
        },
        {
          "output_type": "display_data",
          "data": {
            "text/plain": [
              "<Figure size 800x600 with 1 Axes>"
            ],
            "image/png": "[encoded data removed]"
          },
          "metadata": {
            "image/png": {
              "width": 775,
              "height": 575
            }
          }
        }
      ],
      "source": [
        "def normalize_vector(input_vector):\n",
        "  \"\"\" Normalizes a vector to length 1\n",
        "\n",
        "  Inputs:\n",
        "    input_vector (ndarray): array of shape (n_dim, ) where n_dim is the\n",
        "        dimensionality of the vector\n",
        "\n",
        "  Outputs:\n",
        "    (ndarray): normalized vector of length 1\n",
        "  \"\"\"\n",
        "\n",
        "  #################################################################################\n",
        "  ## TODO for students: complete normalize_vector function ##\n",
        "  # Fill out function and remove\n",
        "\n",
        "  #################################################################################\n",
        "\n",
        "  # Compute vector length (use np.linalg.norm)\n",
        "  vector_length = np.linalg.norm(input_vector)\n",
        "\n",
        "  # Create normalized vector\n",
        "  normalized_vector = input_vector / vector_length\n",
        "\n",
        "  return normalized_vector\n",
        "\n",
        "# Create vector v from above (use np.array)\n",
        "v = np.array([4,1])\n",
        "\n",
        "# Call the function\n",
        "v_unit = normalize_vector(v)\n",
        "\n",
        "# Visualize the vectors\n",
        "visualize_vectors(v, v_unit)"
      ]
    },
    {
      "cell_type": "markdown",
      "metadata": {
        "execution": {},
        "id": "wmE7YYEzhtNl"
      },
      "source": [
        "[*Click for solution*](https://github.com/NeuromatchAcademy/precourse/tree/main/tutorials/W0D3_LinearAlgebra/solutions/W0D3_Tutorial1_Solution_121dde78.py)\n",
        "\n",
        "*Example output:*\n",
        "\n",
        "<img alt='Solution hint' align='left' width=775.0 height=575.0 src=https://raw.githubusercontent.com/NeuromatchAcademy/precourse/main/tutorials/W0D3_LinearAlgebra/static/W0D3_Tutorial1_Solution_121dde78_352.png>\n",
        "\n"
      ]
    },
    {
      "cell_type": "markdown",
      "metadata": {
        "execution": {},
        "id": "6TYTPylrhtNm"
      },
      "source": [
        "\n",
        "\n",
        "Note that the unit vector still points in the same direction as the original (it overlays it). Dividing each component by a constant (the length) does not change the direction. The only change is the length - the normalized vector has a length of 1."
      ]
    },
    {
      "cell_type": "code",
      "execution_count": null,
      "metadata": {
        "cellView": "form",
        "execution": {},
        "id": "tW_WwN-5htNm"
      },
      "outputs": [],
      "source": [
        "# @title Submit your feedback\n",
        "content_review(f\"{feedback_prefix}_Normalizing_vectors_Exercise\")"
      ]
    },
    {
      "cell_type": "markdown",
      "metadata": {
        "execution": {},
        "id": "yYxaYH8mhtNm"
      },
      "source": [
        "## Section 1.2: Vector operations\n",
        "\n",
        "*Estimated timing to here from start of tutorial: 20 min*"
      ]
    },
    {
      "cell_type": "code",
      "execution_count": null,
      "metadata": {
        "cellView": "form",
        "execution": {},
        "id": "T2UeQNm6htNm"
      },
      "outputs": [],
      "source": [
        "# @title Video 3: Linear Combinations of Vectors\n",
        "from ipywidgets import widgets\n",
        "from IPython.display import YouTubeVideo\n",
        "from IPython.display import IFrame\n",
        "from IPython.display import display\n",
        "\n",
        "\n",
        "class PlayVideo(IFrame):\n",
        "  def __init__(self, id, source, page=1, width=400, height=300, **kwargs):\n",
        "    self.id = id\n",
        "    if source == 'Bilibili':\n",
        "      src = f'https://player.bilibili.com/player.html?bvid={id}&page={page}'\n",
        "    elif source == 'Osf':\n",
        "      src = f'https://mfr.ca-1.osf.io/render?url=https://osf.io/download/{id}/?direct%26mode=render'\n",
        "    super(PlayVideo, self).__init__(src, width, height, **kwargs)\n",
        "\n",
        "\n",
        "def display_videos(video_ids, W=400, H=300, fs=1):\n",
        "  tab_contents = []\n",
        "  for i, video_id in enumerate(video_ids):\n",
        "    out = widgets.Output()\n",
        "    with out:\n",
        "      if video_ids[i][0] == 'Youtube':\n",
        "        video = YouTubeVideo(id=video_ids[i][1], width=W,\n",
        "                             height=H, fs=fs, rel=0)\n",
        "        print(f'Video available at https://youtube.com/watch?v={video.id}')\n",
        "      else:\n",
        "        video = PlayVideo(id=video_ids[i][1], source=video_ids[i][0], width=W,\n",
        "                          height=H, fs=fs, autoplay=False)\n",
        "        if video_ids[i][0] == 'Bilibili':\n",
        "          print(f'Video available at https://www.bilibili.com/video/{video.id}')\n",
        "        elif video_ids[i][0] == 'Osf':\n",
        "          print(f'Video available at https://osf.io/{video.id}')\n",
        "      display(video)\n",
        "    tab_contents.append(out)\n",
        "  return tab_contents\n",
        "\n",
        "\n",
        "video_ids = [('Youtube', 'e8Y6kNICH-8'), ('Bilibili', 'BV1rL411p7iR')]\n",
        "tab_contents = display_videos(video_ids, W=854, H=480)\n",
        "tabs = widgets.Tab()\n",
        "tabs.children = tab_contents\n",
        "for i in range(len(tab_contents)):\n",
        "  tabs.set_title(i, video_ids[i][0])\n",
        "display(tabs)"
      ]
    },
    {
      "cell_type": "code",
      "execution_count": null,
      "metadata": {
        "cellView": "form",
        "execution": {},
        "id": "KYoKe3T8htNn"
      },
      "outputs": [],
      "source": [
        "# @title Submit your feedback\n",
        "content_review(f\"{feedback_prefix}_Linear_combinations_of_vectors_Video\")"
      ]
    },
    {
      "cell_type": "markdown",
      "metadata": {
        "execution": {},
        "id": "O6yfkiMJhtNn"
      },
      "source": [
        "This video covers vector operations: scalar multiplication, vector addition, and linear combinations.\n",
        "\n",
        "<details>\n",
        "<summary> <font color='blue'>Click here for text recap of video </font></summary>\n",
        "\n",
        "We have several mathematical operations we perform on or with vectors. **Scalar multiplication** of a vector changes its length but not its direction (except for sometimes reversing by 180 degrees as we'll see in the next demo). When we multiply a vector, $\\mathbf{x}$,  by a scalar, $a$, we multiply each individual component by the scalar:\n",
        "\n",
        "$$ a\\mathbf{x} = \\begin{bmatrix}\n",
        "    a\\mathbf{x}_1 \\\\ a\\mathbf{x}_2 \\\\ \\vdots \\\\ a\\mathbf{x}_N\n",
        "\\end{bmatrix}$$\n",
        "\n",
        "You can visualize **vector addition** as the stacking of the two arrows head to tail. In essence, you are moving the second vector so its base is at the tip of the first, without changing its direction. The tip of this stacked second vector is the new added vector's tip. In order words, if you visualize two vectors as sides of a parallelogram, adding them will create a vector with the 4th vertex of that parallelogram as its tip. Numerically, this means that we add the corresponding components of each vector:\n",
        "\n",
        "\n",
        " $$\\mathbf{x} + \\mathbf{y} = \\begin{bmatrix}\n",
        "           \\mathbf{x}_{1} + \\mathbf{y}_1 \\\\ \\mathbf{x}_{2} + \\mathbf{y}_2\\\\ \\vdots \\\\ \\mathbf{x}_{N} + \\mathbf{y}_N\n",
        "\\end{bmatrix}$$\n",
        "\n",
        "\n",
        "We call a group of 2 or more vectors a **set of vectors**. A **linear combination** of a set of vectors is a combination of the set using scalar multiplication and vector addition. Essentially, we are multiplying each vector in the set by a scalar and then adding all the scalar multiplied vectors together: the output of this (another vector) is a linear combination of the set. More formally defined, a vector, $\\mathbf{u}$, is a linear combination of a set of vectors $\\mathbf{v}^1, \\mathbf{v}^2, ..., \\mathbf{v}^N$ with (scalar) weights $c_1, c_2, ...c_N$ if:\n",
        "\n",
        "$$\\mathbf{u} = c_1\\mathbf{v}^1 + c_2\\mathbf{v}^2 + ... + c_n\\mathbf{v}^N $$.\n",
        "</details>\n"
      ]
    },
    {
      "cell_type": "markdown",
      "metadata": {
        "execution": {},
        "id": "bWLxa7q1htNn"
      },
      "source": [
        "### Interactive Demo: Linear combination of vectors\n",
        "In the following demo, we will demonstrate a linear combination of two vectors, $\\mathbf{x}$ and $\\mathbf{y}$.\n",
        "\n",
        "\\begin{equation}\n",
        "\\mathbf{z} = a\\mathbf{x} + b\\mathbf{y}\n",
        "\\end{equation}\n",
        "\n",
        "where $\\mathbf{x} = \\begin{bmatrix}3 \\\\ 1 \\end{bmatrix}$ and $\\mathbf{y} = \\begin{bmatrix}-1 \\\\ 2 \\end{bmatrix}$.\n",
        "\n",
        "You will play with the scalar multiples $a$ and $b$ to visualize both scalar multiplication and vector addition. Think and talk through the following questions:\n",
        "\n",
        "1. How does $a\\mathbf{x}$ compare to $\\mathbf{x}$ when $a$ is negative?\n",
        "2. How does $a\\mathbf{x}$ compare to $\\mathbf{x}$ when $a$ is a fraction?\n",
        "3. Can you get $\\mathbf{z}$ to point to anywhere in the 2D space with combinations of $a$ and $b$?\n",
        "4. Would this be the case no matter what $\\mathbf{x}$ and $\\mathbf{y}$ are, as long as they are both 2D vectors?"
      ]
    },
    {
      "cell_type": "code",
      "execution_count": null,
      "metadata": {
        "cellView": "form",
        "execution": {},
        "id": "ku0MLkDxhtNn"
      },
      "outputs": [],
      "source": [
        " #@markdown Make sure you execute this cell to enable the widget! Move the sliders for “a” and “b”. After releasing the slider, be patient for a couple of seconds to see the desired change.\n",
        "\n",
        "\n",
        "def plot_arrows(x, y, a_times_x, b_times_y):\n",
        "  fig, ax = plt.subplots(figsize=(10, 7))\n",
        "\n",
        "  ax.spines['top'].set_color('none')\n",
        "  ax.spines['bottom'].set_position('zero')\n",
        "  ax.spines['left'].set_position('zero')\n",
        "  ax.spines['right'].set_color('none')\n",
        "\n",
        "  ax.set_aspect('equal', adjustable='box')\n",
        "  ax.set(xlim = [-10, 10], ylim = [-10, 10], xticks = np.arange(-10, 10), yticks = np.arange(-10, 10), xticklabels = [], yticklabels = [])\n",
        "\n",
        "  ax.grid(alpha=.4)\n",
        "\n",
        "  z = a_times_x + b_times_y\n",
        "  z_arr = ax.arrow(0, 0, z[0], z[1], width=.08, color='k', length_includes_head = True);\n",
        "\n",
        "  x_orig, = ax.plot([0, x[0]], [0, x[1]], '--', color='#648FFF')\n",
        "  y_orig, = ax.plot([0, y[0]], [0, y[1]], '--',  color='#DC267F')\n",
        "\n",
        "  ax_arr = ax.arrow(0, 0, a_times_x[0], a_times_x[1], width=.08, color='#648FFF', length_includes_head = True);\n",
        "  by_arr = ax.arrow(0, 0, b_times_y[0], b_times_y[1], width=.08, color='#DC267F', length_includes_head = True);\n",
        "\n",
        "  ax.plot([a_times_x[0], z[0]], [a_times_x[1], z[1]], '--k')\n",
        "  ax.plot([b_times_y[0], z[0]], [b_times_y[1], z[1]], '--k')\n",
        "\n",
        "\n",
        "  leg = ax.legend([x_orig, y_orig, ax_arr, by_arr, z_arr], [r\"$\\mathbf{x}$\", r\"$\\mathbf{y}$\", r\"$a\\mathbf{x}$\", r\"$b\\mathbf{y}$\", r\"$\\mathbf{z} = a\\mathbf{x} + b\\mathbf{y}$\"], handlelength = 2, fontsize = 25, loc = 'center left', bbox_to_anchor=(1.05, .5))\n",
        "  for handle, label in zip(leg.legendHandles, leg.texts):\n",
        "      try:\n",
        "          label.set_color(handle.get_facecolor())\n",
        "      except:\n",
        "          label.set_color(handle.get_color())\n",
        "      #handle.set_visible(False)\n",
        "\n",
        "@widgets.interact(a = widgets.FloatSlider(value=1.0, min=-2, max=2, step=0.1), b = widgets.FloatSlider(value=1.0, min=-2, max=2, step=0.1))\n",
        "def plot_linear_combination(a, b):\n",
        "  x = np.array([3, 1])\n",
        "  y = np.array([-1, 2])\n",
        "\n",
        "  plot_arrows(x, y, a*x, b*y)"
      ]
    },
    {
      "cell_type": "markdown",
      "metadata": {
        "execution": {},
        "id": "VW_ex1CkhtNo"
      },
      "source": [
        "[*Click for solution*](https://github.com/NeuromatchAcademy/precourse/tree/main/tutorials/W0D3_LinearAlgebra/solutions/W0D3_Tutorial1_Solution_a10917f5.py)\n",
        "\n"
      ]
    },
    {
      "cell_type": "code",
      "execution_count": null,
      "metadata": {
        "cellView": "form",
        "execution": {},
        "id": "2GL5y8oRhtNo"
      },
      "outputs": [],
      "source": [
        "# @title Submit your feedback\n",
        "content_review(f\"{feedback_prefix}_Linear_combinations_of_vectors_Interactive_Demo\")"
      ]
    },
    {
      "cell_type": "markdown",
      "metadata": {
        "execution": {},
        "id": "7lN-XVzShtNo"
      },
      "source": [
        "---\n",
        "# Section 2: Defining space through vectors"
      ]
    },
    {
      "cell_type": "markdown",
      "metadata": {
        "execution": {},
        "id": "U1Y1-hkrhtNo"
      },
      "source": [
        "## Section 2.1: Span & Linear Independence\n",
        "\n",
        "*Estimated timing to here from start of tutorial: 35 min*"
      ]
    },
    {
      "cell_type": "code",
      "execution_count": 5,
      "metadata": {
        "cellView": "form",
        "execution": {},
        "id": "yc-KdeQOhtNo",
        "outputId": "7e5979fa-d3fb-417f-f2b3-aa90920dcb19",
        "colab": {
          "base_uri": "https://localhost:8080/",
          "height": 595,
          "referenced_widgets": [
            "b4e0914b2596476c834c93ec672178cc",
            "12b6d76e17e348f8a331d33fa33f1c2e",
            "5cde4e7423f64f30a11aa9ac54f2ad8a",
            "4bd07fa74448450885066f4cae4f01c2",
            "7f0f241dd56445de94b56b7b348ca84d",
            "ee407d06ca1b4aa6b7acd684718c6fca"
          ]
        }
      },
      "outputs": [
        {
          "output_type": "display_data",
          "data": {
            "text/plain": [
              "Tab(children=(Output(), Output()), _titles={'0': 'Youtube', '1': 'Bilibili'})"
            ],
            "application/vnd.jupyter.widget-view+json": {
              "version_major": 2,
              "version_minor": 0,
              "model_id": "b4e0914b2596476c834c93ec672178cc"
            }
          },
          "metadata": {}
        }
      ],
      "source": [
        "# @title Video 4: Span and Linear Independence\n",
        "from ipywidgets import widgets\n",
        "from IPython.display import YouTubeVideo\n",
        "from IPython.display import IFrame\n",
        "from IPython.display import display\n",
        "\n",
        "\n",
        "class PlayVideo(IFrame):\n",
        "  def __init__(self, id, source, page=1, width=400, height=300, **kwargs):\n",
        "    self.id = id\n",
        "    if source == 'Bilibili':\n",
        "      src = f'https://player.bilibili.com/player.html?bvid={id}&page={page}'\n",
        "    elif source == 'Osf':\n",
        "      src = f'https://mfr.ca-1.osf.io/render?url=https://osf.io/download/{id}/?direct%26mode=render'\n",
        "    super(PlayVideo, self).__init__(src, width, height, **kwargs)\n",
        "\n",
        "\n",
        "def display_videos(video_ids, W=400, H=300, fs=1):\n",
        "  tab_contents = []\n",
        "  for i, video_id in enumerate(video_ids):\n",
        "    out = widgets.Output()\n",
        "    with out:\n",
        "      if video_ids[i][0] == 'Youtube':\n",
        "        video = YouTubeVideo(id=video_ids[i][1], width=W,\n",
        "                             height=H, fs=fs, rel=0)\n",
        "        print(f'Video available at https://youtube.com/watch?v={video.id}')\n",
        "      else:\n",
        "        video = PlayVideo(id=video_ids[i][1], source=video_ids[i][0], width=W,\n",
        "                          height=H, fs=fs, autoplay=False)\n",
        "        if video_ids[i][0] == 'Bilibili':\n",
        "          print(f'Video available at https://www.bilibili.com/video/{video.id}')\n",
        "        elif video_ids[i][0] == 'Osf':\n",
        "          print(f'Video available at https://osf.io/{video.id}')\n",
        "      display(video)\n",
        "    tab_contents.append(out)\n",
        "  return tab_contents\n",
        "\n",
        "\n",
        "video_ids = [('Youtube', 'g7DoHnZkUlw'), ('Bilibili', 'BV1iv411H7bK')]\n",
        "tab_contents = display_videos(video_ids, W=854, H=480)\n",
        "tabs = widgets.Tab()\n",
        "tabs.children = tab_contents\n",
        "for i in range(len(tab_contents)):\n",
        "  tabs.set_title(i, video_ids[i][0])\n",
        "display(tabs)"
      ]
    },
    {
      "cell_type": "code",
      "execution_count": 4,
      "metadata": {
        "cellView": "form",
        "execution": {},
        "id": "15kcFeEchtNp",
        "outputId": "4282eb66-75f7-47f1-c805-655cc0bd16cc",
        "colab": {
          "base_uri": "https://localhost:8080/",
          "height": 158
        }
      },
      "outputs": [
        {
          "output_type": "error",
          "ename": "NameError",
          "evalue": "name 'content_review' is not defined",
          "traceback": [
            "\u001b[0;31m---------------------------------------------------------------------------\u001b[0m",
            "\u001b[0;31mNameError\u001b[0m                                 Traceback (most recent call last)",
            "\u001b[0;32m/tmp/ipython-input-4-1662779849.py\u001b[0m in \u001b[0;36m<cell line: 0>\u001b[0;34m()\u001b[0m\n\u001b[1;32m      1\u001b[0m \u001b[0;31m# @title Submit your feedback\u001b[0m\u001b[0;34m\u001b[0m\u001b[0;34m\u001b[0m\u001b[0m\n\u001b[0;32m----> 2\u001b[0;31m \u001b[0mcontent_review\u001b[0m\u001b[0;34m(\u001b[0m\u001b[0;34mf\"{feedback_prefix}_Span_and_Linear_Independence_Video\"\u001b[0m\u001b[0;34m)\u001b[0m\u001b[0;34m\u001b[0m\u001b[0;34m\u001b[0m\u001b[0m\n\u001b[0m",
            "\u001b[0;31mNameError\u001b[0m: name 'content_review' is not defined"
          ]
        }
      ],
      "source": [
        "# @title Submit your feedback\n",
        "content_review(f\"{feedback_prefix}_Span_and_Linear_Independence_Video\")"
      ]
    },
    {
      "cell_type": "markdown",
      "metadata": {
        "execution": {},
        "id": "I_DMuXf1htNp"
      },
      "source": [
        "This video covers the span of a set of vectors and when a set of vectors is linearly independent.\n",
        "\n",
        "<details>\n",
        "<summary> <font color='blue'>Click here for text recap of video </font></summary>\n",
        "\n",
        "The **span of a set of vectors** is the set of all possible linear combinations of those vectors. In the last demo, you saw that the vector $\\mathbf{x}$ and the vector $\\mathbf{y}$ spanned 2D space (${\\rm I\\!R}^2$). This means you can get to any point in 2D space (corresponding to vector $\\mathbf{v}$ with some combination of $a$ and $b$, the scalar multiples in a linear combination of $\\mathbf{x}$ and $\\mathbf{y}$:\n",
        "\n",
        "$$\\mathbf{v} = a\\mathbf{x} + b\\mathbf{y}$$\n",
        "\n",
        "Even more specifically, in this situation, each point in 2D space is identified by a unique and single combination of $a$ and $b$: if you know the point, you know what $a$ and $b$ are.\n",
        "\n",
        "A set of vectors is linearly dependent if one can be written as a linear combination of the others. If this is not the case, the set of vectors is linearly independent.\n",
        "</details>"
      ]
    },
    {
      "cell_type": "markdown",
      "metadata": {
        "execution": {},
        "id": "CReWF27ChtNp"
      },
      "source": [
        "### Think! 2.1: Determing dependence\n",
        "\n",
        "Let's say we have four vectors:\n",
        "\n",
        "\\begin{equation}\n",
        "\\mathbf{a} =\n",
        "\\begin{bmatrix} 4 \\\\ 2 \\\\ 0 \\end{bmatrix},\n",
        "\\mathbf{b} = \\begin{bmatrix} 1 \\\\ 0 \\\\ 3 \\end{bmatrix},\n",
        "\\mathbf{c} = \\begin{bmatrix} 5 \\\\ 2 \\\\ 3 \\end{bmatrix},\n",
        "\\mathbf{d} = \\begin{bmatrix} 3 \\\\ 3 \\\\ 2 \\end{bmatrix}\n",
        "\\end{equation}\n",
        "\n",
        "1. Are these vectors linearly independent or dependent? Why?\n",
        "2. What is the span of the set of vectors $\\{\\mathbf{a}, \\mathbf{b}, \\mathbf{c}, \\mathbf{d}\\}$?\n",
        "3. What is the span of the set of vectors $\\{\\mathbf{a}, \\mathbf{b}, \\mathbf{c}\\}$?\n",
        "4. What is the span of a set just consisting of vector $\\{\\mathbf{a}$} (in general terms)?\n",
        "5. What is the span of the set of vectors $\\{\\mathbf{a}, \\mathbf{b}$} (in general terms)?"
      ]
    },
    {
      "cell_type": "code",
      "execution_count": 6,
      "metadata": {
        "cellView": "form",
        "execution": {},
        "id": "sGd95n1_htNp",
        "outputId": "1abf8825-c82b-4bcf-d13c-4b1fdfd38385",
        "colab": {
          "base_uri": "https://localhost:8080/",
          "height": 941
        }
      },
      "outputs": [
        {
          "output_type": "error",
          "ename": "AttributeError",
          "evalue": "'Legend' object has no attribute 'legendHandles'",
          "traceback": [
            "\u001b[0;31m---------------------------------------------------------------------------\u001b[0m",
            "\u001b[0;31mAttributeError\u001b[0m                            Traceback (most recent call last)",
            "\u001b[0;32m/tmp/ipython-input-6-1921195651.py\u001b[0m in \u001b[0;36m<cell line: 0>\u001b[0;34m()\u001b[0m\n\u001b[1;32m     25\u001b[0m \u001b[0;34m\u001b[0m\u001b[0m\n\u001b[1;32m     26\u001b[0m \u001b[0mleg\u001b[0m \u001b[0;34m=\u001b[0m \u001b[0max\u001b[0m\u001b[0;34m.\u001b[0m\u001b[0mlegend\u001b[0m\u001b[0;34m(\u001b[0m\u001b[0;34m[\u001b[0m\u001b[0ma\u001b[0m\u001b[0;34m,\u001b[0m \u001b[0mb\u001b[0m\u001b[0;34m,\u001b[0m \u001b[0mc\u001b[0m\u001b[0;34m,\u001b[0m \u001b[0md\u001b[0m\u001b[0;34m]\u001b[0m\u001b[0;34m,\u001b[0m \u001b[0;34m[\u001b[0m\u001b[0;34m'a'\u001b[0m\u001b[0;34m,\u001b[0m \u001b[0;34m'b'\u001b[0m\u001b[0;34m,\u001b[0m \u001b[0;34m'c'\u001b[0m\u001b[0;34m,\u001b[0m \u001b[0;34m'd'\u001b[0m\u001b[0;34m]\u001b[0m\u001b[0;34m,\u001b[0m \u001b[0mhandlelength\u001b[0m \u001b[0;34m=\u001b[0m \u001b[0;36m0\u001b[0m\u001b[0;34m,\u001b[0m \u001b[0mfontsize\u001b[0m \u001b[0;34m=\u001b[0m \u001b[0;36m20\u001b[0m\u001b[0;34m,\u001b[0m \u001b[0mloc\u001b[0m \u001b[0;34m=\u001b[0m \u001b[0;34m'upper left'\u001b[0m\u001b[0;34m)\u001b[0m\u001b[0;34m\u001b[0m\u001b[0;34m\u001b[0m\u001b[0m\n\u001b[0;32m---> 27\u001b[0;31m \u001b[0;32mfor\u001b[0m \u001b[0mhandle\u001b[0m\u001b[0;34m,\u001b[0m \u001b[0mlabel\u001b[0m \u001b[0;32min\u001b[0m \u001b[0mzip\u001b[0m\u001b[0;34m(\u001b[0m\u001b[0mleg\u001b[0m\u001b[0;34m.\u001b[0m\u001b[0mlegendHandles\u001b[0m\u001b[0;34m,\u001b[0m \u001b[0mleg\u001b[0m\u001b[0;34m.\u001b[0m\u001b[0mtexts\u001b[0m\u001b[0;34m)\u001b[0m\u001b[0;34m:\u001b[0m\u001b[0;34m\u001b[0m\u001b[0;34m\u001b[0m\u001b[0m\n\u001b[0m\u001b[1;32m     28\u001b[0m   \u001b[0mlabel\u001b[0m\u001b[0;34m.\u001b[0m\u001b[0mset_color\u001b[0m\u001b[0;34m(\u001b[0m\u001b[0mhandle\u001b[0m\u001b[0;34m.\u001b[0m\u001b[0mget_facecolor\u001b[0m\u001b[0;34m(\u001b[0m\u001b[0;34m)\u001b[0m\u001b[0;34m)\u001b[0m\u001b[0;34m\u001b[0m\u001b[0;34m\u001b[0m\u001b[0m\n\u001b[1;32m     29\u001b[0m   \u001b[0mhandle\u001b[0m\u001b[0;34m.\u001b[0m\u001b[0mset_visible\u001b[0m\u001b[0;34m(\u001b[0m\u001b[0;32mFalse\u001b[0m\u001b[0;34m)\u001b[0m\u001b[0;34m\u001b[0m\u001b[0;34m\u001b[0m\u001b[0m\n",
            "\u001b[0;31mAttributeError\u001b[0m: 'Legend' object has no attribute 'legendHandles'"
          ]
        },
        {
          "output_type": "stream",
          "name": "stdout",
          "text": [
            "Error in callback <function _draw_all_if_interactive at 0x7abd90143f60> (for post_execute):\n"
          ]
        },
        {
          "output_type": "error",
          "ename": "TypeError",
          "evalue": "'<' not supported between instances of 'NoneType' and 'NoneType'",
          "traceback": [
            "\u001b[0;31m---------------------------------------------------------------------------\u001b[0m",
            "\u001b[0;31mTypeError\u001b[0m                                 Traceback (most recent call last)",
            "\u001b[0;32m/usr/local/lib/python3.11/dist-packages/matplotlib/pyplot.py\u001b[0m in \u001b[0;36m_draw_all_if_interactive\u001b[0;34m()\u001b[0m\n\u001b[1;32m    277\u001b[0m \u001b[0;32mdef\u001b[0m \u001b[0m_draw_all_if_interactive\u001b[0m\u001b[0;34m(\u001b[0m\u001b[0;34m)\u001b[0m \u001b[0;34m->\u001b[0m \u001b[0;32mNone\u001b[0m\u001b[0;34m:\u001b[0m\u001b[0;34m\u001b[0m\u001b[0;34m\u001b[0m\u001b[0m\n\u001b[1;32m    278\u001b[0m     \u001b[0;32mif\u001b[0m \u001b[0mmatplotlib\u001b[0m\u001b[0;34m.\u001b[0m\u001b[0mis_interactive\u001b[0m\u001b[0;34m(\u001b[0m\u001b[0;34m)\u001b[0m\u001b[0;34m:\u001b[0m\u001b[0;34m\u001b[0m\u001b[0;34m\u001b[0m\u001b[0m\n\u001b[0;32m--> 279\u001b[0;31m         \u001b[0mdraw_all\u001b[0m\u001b[0;34m(\u001b[0m\u001b[0;34m)\u001b[0m\u001b[0;34m\u001b[0m\u001b[0;34m\u001b[0m\u001b[0m\n\u001b[0m\u001b[1;32m    280\u001b[0m \u001b[0;34m\u001b[0m\u001b[0m\n\u001b[1;32m    281\u001b[0m \u001b[0;34m\u001b[0m\u001b[0m\n",
            "\u001b[0;32m/usr/local/lib/python3.11/dist-packages/matplotlib/_pylab_helpers.py\u001b[0m in \u001b[0;36mdraw_all\u001b[0;34m(cls, force)\u001b[0m\n\u001b[1;32m    129\u001b[0m         \u001b[0;32mfor\u001b[0m \u001b[0mmanager\u001b[0m \u001b[0;32min\u001b[0m \u001b[0mcls\u001b[0m\u001b[0;34m.\u001b[0m\u001b[0mget_all_fig_managers\u001b[0m\u001b[0;34m(\u001b[0m\u001b[0;34m)\u001b[0m\u001b[0;34m:\u001b[0m\u001b[0;34m\u001b[0m\u001b[0;34m\u001b[0m\u001b[0m\n\u001b[1;32m    130\u001b[0m             \u001b[0;32mif\u001b[0m \u001b[0mforce\u001b[0m \u001b[0;32mor\u001b[0m \u001b[0mmanager\u001b[0m\u001b[0;34m.\u001b[0m\u001b[0mcanvas\u001b[0m\u001b[0;34m.\u001b[0m\u001b[0mfigure\u001b[0m\u001b[0;34m.\u001b[0m\u001b[0mstale\u001b[0m\u001b[0;34m:\u001b[0m\u001b[0;34m\u001b[0m\u001b[0;34m\u001b[0m\u001b[0m\n\u001b[0;32m--> 131\u001b[0;31m                 \u001b[0mmanager\u001b[0m\u001b[0;34m.\u001b[0m\u001b[0mcanvas\u001b[0m\u001b[0;34m.\u001b[0m\u001b[0mdraw_idle\u001b[0m\u001b[0;34m(\u001b[0m\u001b[0;34m)\u001b[0m\u001b[0;34m\u001b[0m\u001b[0;34m\u001b[0m\u001b[0m\n\u001b[0m\u001b[1;32m    132\u001b[0m \u001b[0;34m\u001b[0m\u001b[0m\n\u001b[1;32m    133\u001b[0m \u001b[0;34m\u001b[0m\u001b[0m\n",
            "\u001b[0;32m/usr/local/lib/python3.11/dist-packages/matplotlib/backend_bases.py\u001b[0m in \u001b[0;36mdraw_idle\u001b[0;34m(self, *args, **kwargs)\u001b[0m\n\u001b[1;32m   1889\u001b[0m         \u001b[0;32mif\u001b[0m \u001b[0;32mnot\u001b[0m \u001b[0mself\u001b[0m\u001b[0;34m.\u001b[0m\u001b[0m_is_idle_drawing\u001b[0m\u001b[0;34m:\u001b[0m\u001b[0;34m\u001b[0m\u001b[0;34m\u001b[0m\u001b[0m\n\u001b[1;32m   1890\u001b[0m             \u001b[0;32mwith\u001b[0m \u001b[0mself\u001b[0m\u001b[0;34m.\u001b[0m\u001b[0m_idle_draw_cntx\u001b[0m\u001b[0;34m(\u001b[0m\u001b[0;34m)\u001b[0m\u001b[0;34m:\u001b[0m\u001b[0;34m\u001b[0m\u001b[0;34m\u001b[0m\u001b[0m\n\u001b[0;32m-> 1891\u001b[0;31m                 \u001b[0mself\u001b[0m\u001b[0;34m.\u001b[0m\u001b[0mdraw\u001b[0m\u001b[0;34m(\u001b[0m\u001b[0;34m*\u001b[0m\u001b[0margs\u001b[0m\u001b[0;34m,\u001b[0m \u001b[0;34m**\u001b[0m\u001b[0mkwargs\u001b[0m\u001b[0;34m)\u001b[0m\u001b[0;34m\u001b[0m\u001b[0;34m\u001b[0m\u001b[0m\n\u001b[0m\u001b[1;32m   1892\u001b[0m \u001b[0;34m\u001b[0m\u001b[0m\n\u001b[1;32m   1893\u001b[0m     \u001b[0;34m@\u001b[0m\u001b[0mproperty\u001b[0m\u001b[0;34m\u001b[0m\u001b[0;34m\u001b[0m\u001b[0m\n",
            "\u001b[0;32m/usr/local/lib/python3.11/dist-packages/matplotlib/backends/backend_agg.py\u001b[0m in \u001b[0;36mdraw\u001b[0;34m(self)\u001b[0m\n\u001b[1;32m    380\u001b[0m         with (self.toolbar._wait_cursor_for_draw_cm() if self.toolbar\n\u001b[1;32m    381\u001b[0m               else nullcontext()):\n\u001b[0;32m--> 382\u001b[0;31m             \u001b[0mself\u001b[0m\u001b[0;34m.\u001b[0m\u001b[0mfigure\u001b[0m\u001b[0;34m.\u001b[0m\u001b[0mdraw\u001b[0m\u001b[0;34m(\u001b[0m\u001b[0mself\u001b[0m\u001b[0;34m.\u001b[0m\u001b[0mrenderer\u001b[0m\u001b[0;34m)\u001b[0m\u001b[0;34m\u001b[0m\u001b[0;34m\u001b[0m\u001b[0m\n\u001b[0m\u001b[1;32m    383\u001b[0m             \u001b[0;31m# A GUI class may be need to update a window using this draw, so\u001b[0m\u001b[0;34m\u001b[0m\u001b[0;34m\u001b[0m\u001b[0m\n\u001b[1;32m    384\u001b[0m             \u001b[0;31m# don't forget to call the superclass.\u001b[0m\u001b[0;34m\u001b[0m\u001b[0;34m\u001b[0m\u001b[0m\n",
            "\u001b[0;32m/usr/local/lib/python3.11/dist-packages/matplotlib/artist.py\u001b[0m in \u001b[0;36mdraw_wrapper\u001b[0;34m(artist, renderer, *args, **kwargs)\u001b[0m\n\u001b[1;32m     92\u001b[0m     \u001b[0;34m@\u001b[0m\u001b[0mwraps\u001b[0m\u001b[0;34m(\u001b[0m\u001b[0mdraw\u001b[0m\u001b[0;34m)\u001b[0m\u001b[0;34m\u001b[0m\u001b[0;34m\u001b[0m\u001b[0m\n\u001b[1;32m     93\u001b[0m     \u001b[0;32mdef\u001b[0m \u001b[0mdraw_wrapper\u001b[0m\u001b[0;34m(\u001b[0m\u001b[0martist\u001b[0m\u001b[0;34m,\u001b[0m \u001b[0mrenderer\u001b[0m\u001b[0;34m,\u001b[0m \u001b[0;34m*\u001b[0m\u001b[0margs\u001b[0m\u001b[0;34m,\u001b[0m \u001b[0;34m**\u001b[0m\u001b[0mkwargs\u001b[0m\u001b[0;34m)\u001b[0m\u001b[0;34m:\u001b[0m\u001b[0;34m\u001b[0m\u001b[0;34m\u001b[0m\u001b[0m\n\u001b[0;32m---> 94\u001b[0;31m         \u001b[0mresult\u001b[0m \u001b[0;34m=\u001b[0m \u001b[0mdraw\u001b[0m\u001b[0;34m(\u001b[0m\u001b[0martist\u001b[0m\u001b[0;34m,\u001b[0m \u001b[0mrenderer\u001b[0m\u001b[0;34m,\u001b[0m \u001b[0;34m*\u001b[0m\u001b[0margs\u001b[0m\u001b[0;34m,\u001b[0m \u001b[0;34m**\u001b[0m\u001b[0mkwargs\u001b[0m\u001b[0;34m)\u001b[0m\u001b[0;34m\u001b[0m\u001b[0;34m\u001b[0m\u001b[0m\n\u001b[0m\u001b[1;32m     95\u001b[0m         \u001b[0;32mif\u001b[0m \u001b[0mrenderer\u001b[0m\u001b[0;34m.\u001b[0m\u001b[0m_rasterizing\u001b[0m\u001b[0;34m:\u001b[0m\u001b[0;34m\u001b[0m\u001b[0;34m\u001b[0m\u001b[0m\n\u001b[1;32m     96\u001b[0m             \u001b[0mrenderer\u001b[0m\u001b[0;34m.\u001b[0m\u001b[0mstop_rasterizing\u001b[0m\u001b[0;34m(\u001b[0m\u001b[0;34m)\u001b[0m\u001b[0;34m\u001b[0m\u001b[0;34m\u001b[0m\u001b[0m\n",
            "\u001b[0;32m/usr/local/lib/python3.11/dist-packages/matplotlib/artist.py\u001b[0m in \u001b[0;36mdraw_wrapper\u001b[0;34m(artist, renderer)\u001b[0m\n\u001b[1;32m     69\u001b[0m                 \u001b[0mrenderer\u001b[0m\u001b[0;34m.\u001b[0m\u001b[0mstart_filter\u001b[0m\u001b[0;34m(\u001b[0m\u001b[0;34m)\u001b[0m\u001b[0;34m\u001b[0m\u001b[0;34m\u001b[0m\u001b[0m\n\u001b[1;32m     70\u001b[0m \u001b[0;34m\u001b[0m\u001b[0m\n\u001b[0;32m---> 71\u001b[0;31m             \u001b[0;32mreturn\u001b[0m \u001b[0mdraw\u001b[0m\u001b[0;34m(\u001b[0m\u001b[0martist\u001b[0m\u001b[0;34m,\u001b[0m \u001b[0mrenderer\u001b[0m\u001b[0;34m)\u001b[0m\u001b[0;34m\u001b[0m\u001b[0;34m\u001b[0m\u001b[0m\n\u001b[0m\u001b[1;32m     72\u001b[0m         \u001b[0;32mfinally\u001b[0m\u001b[0;34m:\u001b[0m\u001b[0;34m\u001b[0m\u001b[0;34m\u001b[0m\u001b[0m\n\u001b[1;32m     73\u001b[0m             \u001b[0;32mif\u001b[0m \u001b[0martist\u001b[0m\u001b[0;34m.\u001b[0m\u001b[0mget_agg_filter\u001b[0m\u001b[0;34m(\u001b[0m\u001b[0;34m)\u001b[0m \u001b[0;32mis\u001b[0m \u001b[0;32mnot\u001b[0m \u001b[0;32mNone\u001b[0m\u001b[0;34m:\u001b[0m\u001b[0;34m\u001b[0m\u001b[0;34m\u001b[0m\u001b[0m\n",
            "\u001b[0;32m/usr/local/lib/python3.11/dist-packages/matplotlib/figure.py\u001b[0m in \u001b[0;36mdraw\u001b[0;34m(self, renderer)\u001b[0m\n\u001b[1;32m   3255\u001b[0m \u001b[0;34m\u001b[0m\u001b[0m\n\u001b[1;32m   3256\u001b[0m                 \u001b[0mself\u001b[0m\u001b[0;34m.\u001b[0m\u001b[0mpatch\u001b[0m\u001b[0;34m.\u001b[0m\u001b[0mdraw\u001b[0m\u001b[0;34m(\u001b[0m\u001b[0mrenderer\u001b[0m\u001b[0;34m)\u001b[0m\u001b[0;34m\u001b[0m\u001b[0;34m\u001b[0m\u001b[0m\n\u001b[0;32m-> 3257\u001b[0;31m                 mimage._draw_list_compositing_images(\n\u001b[0m\u001b[1;32m   3258\u001b[0m                     renderer, self, artists, self.suppressComposite)\n\u001b[1;32m   3259\u001b[0m \u001b[0;34m\u001b[0m\u001b[0m\n",
            "\u001b[0;32m/usr/local/lib/python3.11/dist-packages/matplotlib/image.py\u001b[0m in \u001b[0;36m_draw_list_compositing_images\u001b[0;34m(renderer, parent, artists, suppress_composite)\u001b[0m\n\u001b[1;32m    132\u001b[0m     \u001b[0;32mif\u001b[0m \u001b[0mnot_composite\u001b[0m \u001b[0;32mor\u001b[0m \u001b[0;32mnot\u001b[0m \u001b[0mhas_images\u001b[0m\u001b[0;34m:\u001b[0m\u001b[0;34m\u001b[0m\u001b[0;34m\u001b[0m\u001b[0m\n\u001b[1;32m    133\u001b[0m         \u001b[0;32mfor\u001b[0m \u001b[0ma\u001b[0m \u001b[0;32min\u001b[0m \u001b[0martists\u001b[0m\u001b[0;34m:\u001b[0m\u001b[0;34m\u001b[0m\u001b[0;34m\u001b[0m\u001b[0m\n\u001b[0;32m--> 134\u001b[0;31m             \u001b[0ma\u001b[0m\u001b[0;34m.\u001b[0m\u001b[0mdraw\u001b[0m\u001b[0;34m(\u001b[0m\u001b[0mrenderer\u001b[0m\u001b[0;34m)\u001b[0m\u001b[0;34m\u001b[0m\u001b[0;34m\u001b[0m\u001b[0m\n\u001b[0m\u001b[1;32m    135\u001b[0m     \u001b[0;32melse\u001b[0m\u001b[0;34m:\u001b[0m\u001b[0;34m\u001b[0m\u001b[0;34m\u001b[0m\u001b[0m\n\u001b[1;32m    136\u001b[0m         \u001b[0;31m# Composite any adjacent images together\u001b[0m\u001b[0;34m\u001b[0m\u001b[0;34m\u001b[0m\u001b[0m\n",
            "\u001b[0;32m/usr/local/lib/python3.11/dist-packages/matplotlib/artist.py\u001b[0m in \u001b[0;36mdraw_wrapper\u001b[0;34m(artist, renderer)\u001b[0m\n\u001b[1;32m     69\u001b[0m                 \u001b[0mrenderer\u001b[0m\u001b[0;34m.\u001b[0m\u001b[0mstart_filter\u001b[0m\u001b[0;34m(\u001b[0m\u001b[0;34m)\u001b[0m\u001b[0;34m\u001b[0m\u001b[0;34m\u001b[0m\u001b[0m\n\u001b[1;32m     70\u001b[0m \u001b[0;34m\u001b[0m\u001b[0m\n\u001b[0;32m---> 71\u001b[0;31m             \u001b[0;32mreturn\u001b[0m \u001b[0mdraw\u001b[0m\u001b[0;34m(\u001b[0m\u001b[0martist\u001b[0m\u001b[0;34m,\u001b[0m \u001b[0mrenderer\u001b[0m\u001b[0;34m)\u001b[0m\u001b[0;34m\u001b[0m\u001b[0;34m\u001b[0m\u001b[0m\n\u001b[0m\u001b[1;32m     72\u001b[0m         \u001b[0;32mfinally\u001b[0m\u001b[0;34m:\u001b[0m\u001b[0;34m\u001b[0m\u001b[0;34m\u001b[0m\u001b[0m\n\u001b[1;32m     73\u001b[0m             \u001b[0;32mif\u001b[0m \u001b[0martist\u001b[0m\u001b[0;34m.\u001b[0m\u001b[0mget_agg_filter\u001b[0m\u001b[0;34m(\u001b[0m\u001b[0;34m)\u001b[0m \u001b[0;32mis\u001b[0m \u001b[0;32mnot\u001b[0m \u001b[0;32mNone\u001b[0m\u001b[0;34m:\u001b[0m\u001b[0;34m\u001b[0m\u001b[0;34m\u001b[0m\u001b[0m\n",
            "\u001b[0;32m/usr/local/lib/python3.11/dist-packages/mpl_toolkits/mplot3d/axes3d.py\u001b[0m in \u001b[0;36mdraw\u001b[0;34m(self, renderer)\u001b[0m\n\u001b[1;32m    443\u001b[0m             \u001b[0mcollection_zorder\u001b[0m \u001b[0;34m=\u001b[0m \u001b[0mpatch_zorder\u001b[0m \u001b[0;34m=\u001b[0m \u001b[0mzorder_offset\u001b[0m\u001b[0;34m\u001b[0m\u001b[0;34m\u001b[0m\u001b[0m\n\u001b[1;32m    444\u001b[0m \u001b[0;34m\u001b[0m\u001b[0m\n\u001b[0;32m--> 445\u001b[0;31m             for artist in sorted(collections_and_patches,\n\u001b[0m\u001b[1;32m    446\u001b[0m                                  \u001b[0mkey\u001b[0m\u001b[0;34m=\u001b[0m\u001b[0;32mlambda\u001b[0m \u001b[0martist\u001b[0m\u001b[0;34m:\u001b[0m \u001b[0martist\u001b[0m\u001b[0;34m.\u001b[0m\u001b[0mdo_3d_projection\u001b[0m\u001b[0;34m(\u001b[0m\u001b[0;34m)\u001b[0m\u001b[0;34m,\u001b[0m\u001b[0;34m\u001b[0m\u001b[0;34m\u001b[0m\u001b[0m\n\u001b[1;32m    447\u001b[0m                                  reverse=True):\n",
            "\u001b[0;31mTypeError\u001b[0m: '<' not supported between instances of 'NoneType' and 'NoneType'"
          ]
        },
        {
          "output_type": "error",
          "ename": "TypeError",
          "evalue": "'<' not supported between instances of 'NoneType' and 'NoneType'",
          "traceback": [
            "\u001b[0;31m---------------------------------------------------------------------------\u001b[0m",
            "\u001b[0;31mTypeError\u001b[0m                                 Traceback (most recent call last)",
            "\u001b[0;32m/usr/local/lib/python3.11/dist-packages/IPython/core/formatters.py\u001b[0m in \u001b[0;36m__call__\u001b[0;34m(self, obj)\u001b[0m\n\u001b[1;32m    339\u001b[0m                 \u001b[0;32mpass\u001b[0m\u001b[0;34m\u001b[0m\u001b[0;34m\u001b[0m\u001b[0m\n\u001b[1;32m    340\u001b[0m             \u001b[0;32melse\u001b[0m\u001b[0;34m:\u001b[0m\u001b[0;34m\u001b[0m\u001b[0;34m\u001b[0m\u001b[0m\n\u001b[0;32m--> 341\u001b[0;31m                 \u001b[0;32mreturn\u001b[0m \u001b[0mprinter\u001b[0m\u001b[0;34m(\u001b[0m\u001b[0mobj\u001b[0m\u001b[0;34m)\u001b[0m\u001b[0;34m\u001b[0m\u001b[0;34m\u001b[0m\u001b[0m\n\u001b[0m\u001b[1;32m    342\u001b[0m             \u001b[0;31m# Finally look for special method names\u001b[0m\u001b[0;34m\u001b[0m\u001b[0;34m\u001b[0m\u001b[0m\n\u001b[1;32m    343\u001b[0m             \u001b[0mmethod\u001b[0m \u001b[0;34m=\u001b[0m \u001b[0mget_real_method\u001b[0m\u001b[0;34m(\u001b[0m\u001b[0mobj\u001b[0m\u001b[0;34m,\u001b[0m \u001b[0mself\u001b[0m\u001b[0;34m.\u001b[0m\u001b[0mprint_method\u001b[0m\u001b[0;34m)\u001b[0m\u001b[0;34m\u001b[0m\u001b[0;34m\u001b[0m\u001b[0m\n",
            "\u001b[0;32m/usr/local/lib/python3.11/dist-packages/IPython/core/pylabtools.py\u001b[0m in \u001b[0;36mretina_figure\u001b[0;34m(fig, base64, **kwargs)\u001b[0m\n\u001b[1;32m    166\u001b[0m         \u001b[0mbase64\u001b[0m \u001b[0margument\u001b[0m\u001b[0;34m\u001b[0m\u001b[0;34m\u001b[0m\u001b[0m\n\u001b[1;32m    167\u001b[0m     \"\"\"\n\u001b[0;32m--> 168\u001b[0;31m     \u001b[0mpngdata\u001b[0m \u001b[0;34m=\u001b[0m \u001b[0mprint_figure\u001b[0m\u001b[0;34m(\u001b[0m\u001b[0mfig\u001b[0m\u001b[0;34m,\u001b[0m \u001b[0mfmt\u001b[0m\u001b[0;34m=\u001b[0m\u001b[0;34m\"retina\"\u001b[0m\u001b[0;34m,\u001b[0m \u001b[0mbase64\u001b[0m\u001b[0;34m=\u001b[0m\u001b[0;32mFalse\u001b[0m\u001b[0;34m,\u001b[0m \u001b[0;34m**\u001b[0m\u001b[0mkwargs\u001b[0m\u001b[0;34m)\u001b[0m\u001b[0;34m\u001b[0m\u001b[0;34m\u001b[0m\u001b[0m\n\u001b[0m\u001b[1;32m    169\u001b[0m     \u001b[0;31m# Make sure that retina_figure acts just like print_figure and returns\u001b[0m\u001b[0;34m\u001b[0m\u001b[0;34m\u001b[0m\u001b[0m\n\u001b[1;32m    170\u001b[0m     \u001b[0;31m# None when the figure is empty.\u001b[0m\u001b[0;34m\u001b[0m\u001b[0;34m\u001b[0m\u001b[0m\n",
            "\u001b[0;32m/usr/local/lib/python3.11/dist-packages/IPython/core/pylabtools.py\u001b[0m in \u001b[0;36mprint_figure\u001b[0;34m(fig, fmt, bbox_inches, base64, **kwargs)\u001b[0m\n\u001b[1;32m    149\u001b[0m         \u001b[0mFigureCanvasBase\u001b[0m\u001b[0;34m(\u001b[0m\u001b[0mfig\u001b[0m\u001b[0;34m)\u001b[0m\u001b[0;34m\u001b[0m\u001b[0;34m\u001b[0m\u001b[0m\n\u001b[1;32m    150\u001b[0m \u001b[0;34m\u001b[0m\u001b[0m\n\u001b[0;32m--> 151\u001b[0;31m     \u001b[0mfig\u001b[0m\u001b[0;34m.\u001b[0m\u001b[0mcanvas\u001b[0m\u001b[0;34m.\u001b[0m\u001b[0mprint_figure\u001b[0m\u001b[0;34m(\u001b[0m\u001b[0mbytes_io\u001b[0m\u001b[0;34m,\u001b[0m \u001b[0;34m**\u001b[0m\u001b[0mkw\u001b[0m\u001b[0;34m)\u001b[0m\u001b[0;34m\u001b[0m\u001b[0;34m\u001b[0m\u001b[0m\n\u001b[0m\u001b[1;32m    152\u001b[0m     \u001b[0mdata\u001b[0m \u001b[0;34m=\u001b[0m \u001b[0mbytes_io\u001b[0m\u001b[0;34m.\u001b[0m\u001b[0mgetvalue\u001b[0m\u001b[0;34m(\u001b[0m\u001b[0;34m)\u001b[0m\u001b[0;34m\u001b[0m\u001b[0;34m\u001b[0m\u001b[0m\n\u001b[1;32m    153\u001b[0m     \u001b[0;32mif\u001b[0m \u001b[0mfmt\u001b[0m \u001b[0;34m==\u001b[0m \u001b[0;34m'svg'\u001b[0m\u001b[0;34m:\u001b[0m\u001b[0;34m\u001b[0m\u001b[0;34m\u001b[0m\u001b[0m\n",
            "\u001b[0;32m/usr/local/lib/python3.11/dist-packages/matplotlib/backend_bases.py\u001b[0m in \u001b[0;36mprint_figure\u001b[0;34m(self, filename, dpi, facecolor, edgecolor, orientation, format, bbox_inches, pad_inches, bbox_extra_artists, backend, **kwargs)\u001b[0m\n\u001b[1;32m   2153\u001b[0m                 \u001b[0;31m# so that we can inject the orientation\u001b[0m\u001b[0;34m\u001b[0m\u001b[0;34m\u001b[0m\u001b[0m\n\u001b[1;32m   2154\u001b[0m                 \u001b[0;32mwith\u001b[0m \u001b[0mgetattr\u001b[0m\u001b[0;34m(\u001b[0m\u001b[0mrenderer\u001b[0m\u001b[0;34m,\u001b[0m \u001b[0;34m\"_draw_disabled\"\u001b[0m\u001b[0;34m,\u001b[0m \u001b[0mnullcontext\u001b[0m\u001b[0;34m)\u001b[0m\u001b[0;34m(\u001b[0m\u001b[0;34m)\u001b[0m\u001b[0;34m:\u001b[0m\u001b[0;34m\u001b[0m\u001b[0;34m\u001b[0m\u001b[0m\n\u001b[0;32m-> 2155\u001b[0;31m                     \u001b[0mself\u001b[0m\u001b[0;34m.\u001b[0m\u001b[0mfigure\u001b[0m\u001b[0;34m.\u001b[0m\u001b[0mdraw\u001b[0m\u001b[0;34m(\u001b[0m\u001b[0mrenderer\u001b[0m\u001b[0;34m)\u001b[0m\u001b[0;34m\u001b[0m\u001b[0;34m\u001b[0m\u001b[0m\n\u001b[0m\u001b[1;32m   2156\u001b[0m             \u001b[0;32mif\u001b[0m \u001b[0mbbox_inches\u001b[0m\u001b[0;34m:\u001b[0m\u001b[0;34m\u001b[0m\u001b[0;34m\u001b[0m\u001b[0m\n\u001b[1;32m   2157\u001b[0m                 \u001b[0;32mif\u001b[0m \u001b[0mbbox_inches\u001b[0m \u001b[0;34m==\u001b[0m \u001b[0;34m\"tight\"\u001b[0m\u001b[0;34m:\u001b[0m\u001b[0;34m\u001b[0m\u001b[0;34m\u001b[0m\u001b[0m\n",
            "\u001b[0;32m/usr/local/lib/python3.11/dist-packages/matplotlib/artist.py\u001b[0m in \u001b[0;36mdraw_wrapper\u001b[0;34m(artist, renderer, *args, **kwargs)\u001b[0m\n\u001b[1;32m     92\u001b[0m     \u001b[0;34m@\u001b[0m\u001b[0mwraps\u001b[0m\u001b[0;34m(\u001b[0m\u001b[0mdraw\u001b[0m\u001b[0;34m)\u001b[0m\u001b[0;34m\u001b[0m\u001b[0;34m\u001b[0m\u001b[0m\n\u001b[1;32m     93\u001b[0m     \u001b[0;32mdef\u001b[0m \u001b[0mdraw_wrapper\u001b[0m\u001b[0;34m(\u001b[0m\u001b[0martist\u001b[0m\u001b[0;34m,\u001b[0m \u001b[0mrenderer\u001b[0m\u001b[0;34m,\u001b[0m \u001b[0;34m*\u001b[0m\u001b[0margs\u001b[0m\u001b[0;34m,\u001b[0m \u001b[0;34m**\u001b[0m\u001b[0mkwargs\u001b[0m\u001b[0;34m)\u001b[0m\u001b[0;34m:\u001b[0m\u001b[0;34m\u001b[0m\u001b[0;34m\u001b[0m\u001b[0m\n\u001b[0;32m---> 94\u001b[0;31m         \u001b[0mresult\u001b[0m \u001b[0;34m=\u001b[0m \u001b[0mdraw\u001b[0m\u001b[0;34m(\u001b[0m\u001b[0martist\u001b[0m\u001b[0;34m,\u001b[0m \u001b[0mrenderer\u001b[0m\u001b[0;34m,\u001b[0m \u001b[0;34m*\u001b[0m\u001b[0margs\u001b[0m\u001b[0;34m,\u001b[0m \u001b[0;34m**\u001b[0m\u001b[0mkwargs\u001b[0m\u001b[0;34m)\u001b[0m\u001b[0;34m\u001b[0m\u001b[0;34m\u001b[0m\u001b[0m\n\u001b[0m\u001b[1;32m     95\u001b[0m         \u001b[0;32mif\u001b[0m \u001b[0mrenderer\u001b[0m\u001b[0;34m.\u001b[0m\u001b[0m_rasterizing\u001b[0m\u001b[0;34m:\u001b[0m\u001b[0;34m\u001b[0m\u001b[0;34m\u001b[0m\u001b[0m\n\u001b[1;32m     96\u001b[0m             \u001b[0mrenderer\u001b[0m\u001b[0;34m.\u001b[0m\u001b[0mstop_rasterizing\u001b[0m\u001b[0;34m(\u001b[0m\u001b[0;34m)\u001b[0m\u001b[0;34m\u001b[0m\u001b[0;34m\u001b[0m\u001b[0m\n",
            "\u001b[0;32m/usr/local/lib/python3.11/dist-packages/matplotlib/artist.py\u001b[0m in \u001b[0;36mdraw_wrapper\u001b[0;34m(artist, renderer)\u001b[0m\n\u001b[1;32m     69\u001b[0m                 \u001b[0mrenderer\u001b[0m\u001b[0;34m.\u001b[0m\u001b[0mstart_filter\u001b[0m\u001b[0;34m(\u001b[0m\u001b[0;34m)\u001b[0m\u001b[0;34m\u001b[0m\u001b[0;34m\u001b[0m\u001b[0m\n\u001b[1;32m     70\u001b[0m \u001b[0;34m\u001b[0m\u001b[0m\n\u001b[0;32m---> 71\u001b[0;31m             \u001b[0;32mreturn\u001b[0m \u001b[0mdraw\u001b[0m\u001b[0;34m(\u001b[0m\u001b[0martist\u001b[0m\u001b[0;34m,\u001b[0m \u001b[0mrenderer\u001b[0m\u001b[0;34m)\u001b[0m\u001b[0;34m\u001b[0m\u001b[0;34m\u001b[0m\u001b[0m\n\u001b[0m\u001b[1;32m     72\u001b[0m         \u001b[0;32mfinally\u001b[0m\u001b[0;34m:\u001b[0m\u001b[0;34m\u001b[0m\u001b[0;34m\u001b[0m\u001b[0m\n\u001b[1;32m     73\u001b[0m             \u001b[0;32mif\u001b[0m \u001b[0martist\u001b[0m\u001b[0;34m.\u001b[0m\u001b[0mget_agg_filter\u001b[0m\u001b[0;34m(\u001b[0m\u001b[0;34m)\u001b[0m \u001b[0;32mis\u001b[0m \u001b[0;32mnot\u001b[0m \u001b[0;32mNone\u001b[0m\u001b[0;34m:\u001b[0m\u001b[0;34m\u001b[0m\u001b[0;34m\u001b[0m\u001b[0m\n",
            "\u001b[0;32m/usr/local/lib/python3.11/dist-packages/matplotlib/figure.py\u001b[0m in \u001b[0;36mdraw\u001b[0;34m(self, renderer)\u001b[0m\n\u001b[1;32m   3255\u001b[0m \u001b[0;34m\u001b[0m\u001b[0m\n\u001b[1;32m   3256\u001b[0m                 \u001b[0mself\u001b[0m\u001b[0;34m.\u001b[0m\u001b[0mpatch\u001b[0m\u001b[0;34m.\u001b[0m\u001b[0mdraw\u001b[0m\u001b[0;34m(\u001b[0m\u001b[0mrenderer\u001b[0m\u001b[0;34m)\u001b[0m\u001b[0;34m\u001b[0m\u001b[0;34m\u001b[0m\u001b[0m\n\u001b[0;32m-> 3257\u001b[0;31m                 mimage._draw_list_compositing_images(\n\u001b[0m\u001b[1;32m   3258\u001b[0m                     renderer, self, artists, self.suppressComposite)\n\u001b[1;32m   3259\u001b[0m \u001b[0;34m\u001b[0m\u001b[0m\n",
            "\u001b[0;32m/usr/local/lib/python3.11/dist-packages/matplotlib/image.py\u001b[0m in \u001b[0;36m_draw_list_compositing_images\u001b[0;34m(renderer, parent, artists, suppress_composite)\u001b[0m\n\u001b[1;32m    132\u001b[0m     \u001b[0;32mif\u001b[0m \u001b[0mnot_composite\u001b[0m \u001b[0;32mor\u001b[0m \u001b[0;32mnot\u001b[0m \u001b[0mhas_images\u001b[0m\u001b[0;34m:\u001b[0m\u001b[0;34m\u001b[0m\u001b[0;34m\u001b[0m\u001b[0m\n\u001b[1;32m    133\u001b[0m         \u001b[0;32mfor\u001b[0m \u001b[0ma\u001b[0m \u001b[0;32min\u001b[0m \u001b[0martists\u001b[0m\u001b[0;34m:\u001b[0m\u001b[0;34m\u001b[0m\u001b[0;34m\u001b[0m\u001b[0m\n\u001b[0;32m--> 134\u001b[0;31m             \u001b[0ma\u001b[0m\u001b[0;34m.\u001b[0m\u001b[0mdraw\u001b[0m\u001b[0;34m(\u001b[0m\u001b[0mrenderer\u001b[0m\u001b[0;34m)\u001b[0m\u001b[0;34m\u001b[0m\u001b[0;34m\u001b[0m\u001b[0m\n\u001b[0m\u001b[1;32m    135\u001b[0m     \u001b[0;32melse\u001b[0m\u001b[0;34m:\u001b[0m\u001b[0;34m\u001b[0m\u001b[0;34m\u001b[0m\u001b[0m\n\u001b[1;32m    136\u001b[0m         \u001b[0;31m# Composite any adjacent images together\u001b[0m\u001b[0;34m\u001b[0m\u001b[0;34m\u001b[0m\u001b[0m\n",
            "\u001b[0;32m/usr/local/lib/python3.11/dist-packages/matplotlib/artist.py\u001b[0m in \u001b[0;36mdraw_wrapper\u001b[0;34m(artist, renderer)\u001b[0m\n\u001b[1;32m     69\u001b[0m                 \u001b[0mrenderer\u001b[0m\u001b[0;34m.\u001b[0m\u001b[0mstart_filter\u001b[0m\u001b[0;34m(\u001b[0m\u001b[0;34m)\u001b[0m\u001b[0;34m\u001b[0m\u001b[0;34m\u001b[0m\u001b[0m\n\u001b[1;32m     70\u001b[0m \u001b[0;34m\u001b[0m\u001b[0m\n\u001b[0;32m---> 71\u001b[0;31m             \u001b[0;32mreturn\u001b[0m \u001b[0mdraw\u001b[0m\u001b[0;34m(\u001b[0m\u001b[0martist\u001b[0m\u001b[0;34m,\u001b[0m \u001b[0mrenderer\u001b[0m\u001b[0;34m)\u001b[0m\u001b[0;34m\u001b[0m\u001b[0;34m\u001b[0m\u001b[0m\n\u001b[0m\u001b[1;32m     72\u001b[0m         \u001b[0;32mfinally\u001b[0m\u001b[0;34m:\u001b[0m\u001b[0;34m\u001b[0m\u001b[0;34m\u001b[0m\u001b[0m\n\u001b[1;32m     73\u001b[0m             \u001b[0;32mif\u001b[0m \u001b[0martist\u001b[0m\u001b[0;34m.\u001b[0m\u001b[0mget_agg_filter\u001b[0m\u001b[0;34m(\u001b[0m\u001b[0;34m)\u001b[0m \u001b[0;32mis\u001b[0m \u001b[0;32mnot\u001b[0m \u001b[0;32mNone\u001b[0m\u001b[0;34m:\u001b[0m\u001b[0;34m\u001b[0m\u001b[0;34m\u001b[0m\u001b[0m\n",
            "\u001b[0;32m/usr/local/lib/python3.11/dist-packages/mpl_toolkits/mplot3d/axes3d.py\u001b[0m in \u001b[0;36mdraw\u001b[0;34m(self, renderer)\u001b[0m\n\u001b[1;32m    443\u001b[0m             \u001b[0mcollection_zorder\u001b[0m \u001b[0;34m=\u001b[0m \u001b[0mpatch_zorder\u001b[0m \u001b[0;34m=\u001b[0m \u001b[0mzorder_offset\u001b[0m\u001b[0;34m\u001b[0m\u001b[0;34m\u001b[0m\u001b[0m\n\u001b[1;32m    444\u001b[0m \u001b[0;34m\u001b[0m\u001b[0m\n\u001b[0;32m--> 445\u001b[0;31m             for artist in sorted(collections_and_patches,\n\u001b[0m\u001b[1;32m    446\u001b[0m                                  \u001b[0mkey\u001b[0m\u001b[0;34m=\u001b[0m\u001b[0;32mlambda\u001b[0m \u001b[0martist\u001b[0m\u001b[0;34m:\u001b[0m \u001b[0martist\u001b[0m\u001b[0;34m.\u001b[0m\u001b[0mdo_3d_projection\u001b[0m\u001b[0;34m(\u001b[0m\u001b[0;34m)\u001b[0m\u001b[0;34m,\u001b[0m\u001b[0;34m\u001b[0m\u001b[0;34m\u001b[0m\u001b[0m\n\u001b[1;32m    447\u001b[0m                                  reverse=True):\n",
            "\u001b[0;31mTypeError\u001b[0m: '<' not supported between instances of 'NoneType' and 'NoneType'"
          ]
        },
        {
          "output_type": "display_data",
          "data": {
            "text/plain": [
              "<Figure size 800x600 with 1 Axes>"
            ]
          },
          "metadata": {}
        }
      ],
      "source": [
        "# @markdown Execute this cell to visualize vectors\n",
        "\n",
        "fig = plt.figure()\n",
        "ax = fig.add_subplot(111, projection='3d')\n",
        "a = Arrow3D([0, 4], [0, 2],\n",
        "                [0, 0], mutation_scale=20,\n",
        "                lw=3, arrowstyle=\"-|>\", color=\"#648FFF\")\n",
        "\n",
        "ax.add_artist(a)\n",
        "b = Arrow3D([0, 1], [0, 0],\n",
        "                [0, 3], mutation_scale=20,\n",
        "                lw=3, arrowstyle=\"-|>\", color=\"#785EF0\")\n",
        "\n",
        "ax.add_artist(b)\n",
        "c = Arrow3D([0, 5], [0, 2],\n",
        "                [0, 3], mutation_scale=20,\n",
        "                lw=3, arrowstyle=\"-|>\", color=\"#DC267F\")\n",
        "\n",
        "ax.add_artist(c)\n",
        "d = Arrow3D([0, 3], [0, 3],\n",
        "                [0, 2], mutation_scale=20,\n",
        "                lw=3, arrowstyle=\"-|>\", color=\"#FFB000\")\n",
        "\n",
        "ax.add_artist(d)\n",
        "\n",
        "leg = ax.legend([a, b, c, d], ['a', 'b', 'c', 'd'], handlelength = 0, fontsize = 20, loc = 'upper left')\n",
        "for handle, label in zip(leg.legendHandles, leg.texts):\n",
        "  label.set_color(handle.get_facecolor())\n",
        "  handle.set_visible(False)\n",
        "ax.set(xlim = [0, 5], ylim = [5, 0], zlim = [0, 5]); #, xlabel = 'Neuron 1 Firing Rate',  ylabel = 'Neuron 2 Firing Rate', zlabel = 'Neuron 3 Firing Rate');"
      ]
    },
    {
      "cell_type": "markdown",
      "metadata": {
        "execution": {},
        "id": "hfF71DpthtNp"
      },
      "source": [
        "Check out this visualization prepared by Oğul Can Yurdakul to better see the vectors: https://www.geogebra.org/3d/hherq78z!"
      ]
    },
    {
      "cell_type": "markdown",
      "metadata": {
        "execution": {},
        "id": "1koJ_M7jhtNq"
      },
      "source": [
        "[*Click for solution*](https://github.com/NeuromatchAcademy/precourse/tree/main/tutorials/W0D3_LinearAlgebra/solutions/W0D3_Tutorial1_Solution_b89ad2ef.py)\n",
        "\n"
      ]
    },
    {
      "cell_type": "code",
      "execution_count": null,
      "metadata": {
        "cellView": "form",
        "execution": {},
        "id": "bw_9-yg6htNq"
      },
      "outputs": [],
      "source": [
        "# @title Submit your feedback\n",
        "content_review(f\"{feedback_prefix}_Determing_Dependence_Discussion\")"
      ]
    },
    {
      "cell_type": "markdown",
      "metadata": {
        "execution": {},
        "id": "hnHbUYMghtNq"
      },
      "source": [
        "## Section 2.2: Basis vectors\n",
        "\n",
        "*Estimated timing to here from start of tutorial: 50 min*\n"
      ]
    },
    {
      "cell_type": "code",
      "execution_count": null,
      "metadata": {
        "cellView": "form",
        "execution": {},
        "id": "h8d8zpWEhtN_"
      },
      "outputs": [],
      "source": [
        "# @title Video 5: Basis vectors\n",
        "from ipywidgets import widgets\n",
        "from IPython.display import YouTubeVideo\n",
        "from IPython.display import IFrame\n",
        "from IPython.display import display\n",
        "\n",
        "\n",
        "class PlayVideo(IFrame):\n",
        "  def __init__(self, id, source, page=1, width=400, height=300, **kwargs):\n",
        "    self.id = id\n",
        "    if source == 'Bilibili':\n",
        "      src = f'https://player.bilibili.com/player.html?bvid={id}&page={page}'\n",
        "    elif source == 'Osf':\n",
        "      src = f'https://mfr.ca-1.osf.io/render?url=https://osf.io/download/{id}/?direct%26mode=render'\n",
        "    super(PlayVideo, self).__init__(src, width, height, **kwargs)\n",
        "\n",
        "\n",
        "def display_videos(video_ids, W=400, H=300, fs=1):\n",
        "  tab_contents = []\n",
        "  for i, video_id in enumerate(video_ids):\n",
        "    out = widgets.Output()\n",
        "    with out:\n",
        "      if video_ids[i][0] == 'Youtube':\n",
        "        video = YouTubeVideo(id=video_ids[i][1], width=W,\n",
        "                             height=H, fs=fs, rel=0)\n",
        "        print(f'Video available at https://youtube.com/watch?v={video.id}')\n",
        "      else:\n",
        "        video = PlayVideo(id=video_ids[i][1], source=video_ids[i][0], width=W,\n",
        "                          height=H, fs=fs, autoplay=False)\n",
        "        if video_ids[i][0] == 'Bilibili':\n",
        "          print(f'Video available at https://www.bilibili.com/video/{video.id}')\n",
        "        elif video_ids[i][0] == 'Osf':\n",
        "          print(f'Video available at https://osf.io/{video.id}')\n",
        "      display(video)\n",
        "    tab_contents.append(out)\n",
        "  return tab_contents\n",
        "\n",
        "\n",
        "video_ids = [('Youtube', 'kgjwmHZH-So'), ('Bilibili', 'BV1Wh411h7qZ')]\n",
        "tab_contents = display_videos(video_ids, W=854, H=480)\n",
        "tabs = widgets.Tab()\n",
        "tabs.children = tab_contents\n",
        "for i in range(len(tab_contents)):\n",
        "  tabs.set_title(i, video_ids[i][0])\n",
        "display(tabs)"
      ]
    },
    {
      "cell_type": "code",
      "execution_count": null,
      "metadata": {
        "cellView": "form",
        "execution": {},
        "id": "WRQQOVq6htN_"
      },
      "outputs": [],
      "source": [
        "# @title Submit your feedback\n",
        "content_review(f\"{feedback_prefix}_Basis_vectors_Video\")"
      ]
    },
    {
      "cell_type": "markdown",
      "metadata": {
        "execution": {},
        "id": "-Bh3GV3nhtOA"
      },
      "source": [
        "This video covers what a basis is, the standard basis, and the properties of basis vectors.\n",
        "<details>\n",
        "<summary> <font color='blue'>Click here for text recap of video </font></summary>\n",
        "\n",
        "\n",
        "If a set of vectors spans 2D space are linearly independent, they form a **basis** for 2D space.  This means that we can identify all points in 2D space with reference to these two vectors, instead of to the traditional x-axis and y-axis coordinates. In fact, you've been using a basis all along when you identify points by their x-axis and y-axis coordinates: the **standard basis**! In 2D space, the standard basis vectors ($\\tilde{\\mathbf{e}}_1$ and $\\tilde{\\mathbf{e}}_2$) are the unit vectors corresponding to the x and y axes:\n",
        "\n",
        "\\begin{equation}\n",
        "\\tilde{\\mathbf{e}}_1 = \\begin{bmatrix} 1\\\\ 0\\\\ \\end{bmatrix},\n",
        "\\tilde{\\mathbf{e}}_2 = \\begin{bmatrix} 0\\\\ 1\\\\ \\end{bmatrix}\n",
        "\\end{equation}\n",
        "\n",
        "When you refer to a point on a 2D plot as (4, 2), you are really identifying the scalar multiples to get to that point as a linear combination of the standard basis. The standard basis is convenient - and what we're used to - but it is essential for a variety of applications of linear algebra (including some we'll encounter in this course) to be able to switch our frame of reference to a different basis. In this example, we can now refer to points as (a, b) where a and b are the scalar multiples to get to that point as a linear combination of $\\mathbf{x}$ and $\\mathbf{y}$.\n",
        "\n",
        "Let's return to this idea of linear independence of vectors.  \n",
        "\n",
        "I've been referring to 2D space a lot but there are lots of **vector spaces** for which we can use basis vectors. We'll leave the formal definition of vector spaces to the bonus material as it's a little unwieldy but basically it's a set of vectors where all linear combinations of all vectors are included in the set. 1D space (${\\rm I\\!R}^1$), 2D space (${\\rm I\\!R}^2$), 3D space (${\\rm I\\!R}^3$), and so on are all vector spaces. These are not the only ones though: subsets of these vector spaces can also be vector spaces themselves. For example, a 1D line through a 2D plane is a vector space.  And we have even more unusual vector spaces - I give an example of one in the bonus material.\n",
        "\n",
        "</details>"
      ]
    },
    {
      "cell_type": "markdown",
      "metadata": {
        "execution": {},
        "id": "mH8I2ybYhtOA"
      },
      "source": [
        "### Think! 2.2: Figuring out a basis\n",
        "\n",
        "Let's say we are looking at the firing rates of 3 neurons. We can represent their activity in a 3D plot, as below. It turns out that due to their tightly-linked interactions, they always fire in such a way that the point in 3D space falls along a 2D plane (that passes through the origin). Basically, every single data point we record of the firing rates of the 3 neurons falls on that plane. This is represented by the blue plane in the figure below. This 2D plane is a subspace of all of 3-D space (R3).\n",
        "\n",
        "1) How many basis vectors would you need for the 2D plane? How many components would each basic vector have?\n",
        "\n",
        "2) How many numbers would you need to be able to fully describe the state of the 3 neuron population at a given time?\n",
        "\n"
      ]
    },
    {
      "cell_type": "code",
      "execution_count": null,
      "metadata": {
        "cellView": "form",
        "execution": {},
        "id": "O5SIwk6xhtOA"
      },
      "outputs": [],
      "source": [
        "# @markdown Execute this cell to see figure\n",
        "\n",
        "fig = plt.figure()\n",
        "\n",
        "# add axes\n",
        "ax = fig.add_subplot(111,projection='3d')\n",
        "\n",
        "xx, yy = np.meshgrid(range(-4, 4), range(-4, 4))\n",
        "z = .7*xx + -.2*yy\n",
        "\n",
        "# plot the plane\n",
        "ax.plot_surface(xx, yy, z, alpha=0.5)\n",
        "\n",
        "ax.set(xlim = [0, 5], ylim = [5, 0], zlim = [0, 5], xlabel = 'Neuron 1 Firing Rate',  ylabel = 'Neuron 2 Firing Rate', zlabel = 'Neuron 3 Firing Rate');\n",
        "#ax.invert_xaxis()"
      ]
    },
    {
      "cell_type": "markdown",
      "metadata": {
        "execution": {},
        "id": "FpSWuYqChtOA"
      },
      "source": [
        "[*Click for solution*](https://github.com/NeuromatchAcademy/precourse/tree/main/tutorials/W0D3_LinearAlgebra/solutions/W0D3_Tutorial1_Solution_dbcf6af9.py)\n",
        "\n"
      ]
    },
    {
      "cell_type": "code",
      "execution_count": null,
      "metadata": {
        "cellView": "form",
        "execution": {},
        "id": "urYacX7rhtOA"
      },
      "outputs": [],
      "source": [
        "# @title Submit your feedback\n",
        "content_review(f\"{feedback_prefix}_Figuring_out_a_basis_Discussion\")"
      ]
    },
    {
      "cell_type": "markdown",
      "metadata": {
        "execution": {},
        "id": "_OBcllF3htOB"
      },
      "source": [
        "# Section 3: The dot product"
      ]
    },
    {
      "cell_type": "markdown",
      "metadata": {
        "execution": {},
        "id": "fhbb6txLhtOB"
      },
      "source": [
        "## Section 3.1: Neural modeling using the dot product\n",
        "\n",
        "*Estimated timing to here from start of tutorial: 1 hr, 10 min*"
      ]
    },
    {
      "cell_type": "code",
      "execution_count": null,
      "metadata": {
        "cellView": "form",
        "execution": {},
        "id": "-ev9-DBlhtOB"
      },
      "outputs": [],
      "source": [
        "# @title Video 6: The dot product\n",
        "from ipywidgets import widgets\n",
        "from IPython.display import YouTubeVideo\n",
        "from IPython.display import IFrame\n",
        "from IPython.display import display\n",
        "\n",
        "\n",
        "class PlayVideo(IFrame):\n",
        "  def __init__(self, id, source, page=1, width=400, height=300, **kwargs):\n",
        "    self.id = id\n",
        "    if source == 'Bilibili':\n",
        "      src = f'https://player.bilibili.com/player.html?bvid={id}&page={page}'\n",
        "    elif source == 'Osf':\n",
        "      src = f'https://mfr.ca-1.osf.io/render?url=https://osf.io/download/{id}/?direct%26mode=render'\n",
        "    super(PlayVideo, self).__init__(src, width, height, **kwargs)\n",
        "\n",
        "\n",
        "def display_videos(video_ids, W=400, H=300, fs=1):\n",
        "  tab_contents = []\n",
        "  for i, video_id in enumerate(video_ids):\n",
        "    out = widgets.Output()\n",
        "    with out:\n",
        "      if video_ids[i][0] == 'Youtube':\n",
        "        video = YouTubeVideo(id=video_ids[i][1], width=W,\n",
        "                             height=H, fs=fs, rel=0)\n",
        "        print(f'Video available at https://youtube.com/watch?v={video.id}')\n",
        "      else:\n",
        "        video = PlayVideo(id=video_ids[i][1], source=video_ids[i][0], width=W,\n",
        "                          height=H, fs=fs, autoplay=False)\n",
        "        if video_ids[i][0] == 'Bilibili':\n",
        "          print(f'Video available at https://www.bilibili.com/video/{video.id}')\n",
        "        elif video_ids[i][0] == 'Osf':\n",
        "          print(f'Video available at https://osf.io/{video.id}')\n",
        "      display(video)\n",
        "    tab_contents.append(out)\n",
        "  return tab_contents\n",
        "\n",
        "\n",
        "video_ids = [('Youtube', 'Ene_TYyTdNM'), ('Bilibili', 'BV1Wh411h7KM')]\n",
        "tab_contents = display_videos(video_ids, W=854, H=480)\n",
        "tabs = widgets.Tab()\n",
        "tabs.children = tab_contents\n",
        "for i in range(len(tab_contents)):\n",
        "  tabs.set_title(i, video_ids[i][0])\n",
        "display(tabs)"
      ]
    },
    {
      "cell_type": "code",
      "execution_count": null,
      "metadata": {
        "cellView": "form",
        "execution": {},
        "id": "DsgSuKRohtOB"
      },
      "outputs": [],
      "source": [
        "# @title Submit your feedback\n",
        "content_review(f\"{feedback_prefix}_The_dot_product_Video\")"
      ]
    },
    {
      "cell_type": "markdown",
      "metadata": {
        "execution": {},
        "id": "emaf1jBVhtOB"
      },
      "source": [
        "This video covers the dot product by setting up a simple neural model of an LGN neuron where the activity is the dot product of a weights vector and a retinal firing rates vector.\n",
        "\n",
        "<details>\n",
        "<summary> <font color='blue'>Click here for text recap of video </font></summary>\n",
        "\n",
        "The dot product between two vectors is a scalar value computed as the sum of element-wise multiplication of vector components.\n",
        "\n",
        "\\begin{equation}\n",
        "\\text{Dot product of } \\mathbf{x} \\text{ and } \\mathbf{y} = \\mathbf{x} \\cdot \\mathbf{y} = \\sum_{i=1}^{N} \\mathbf{x}_i\\mathbf{y}_i\n",
        "\\end{equation}\n",
        "\n",
        "If we have vector $\\mathbf{x} = \\begin{bmatrix}2\\\\ 3\\\\\\end{bmatrix}$ and $\\mathbf{y} = \\begin{bmatrix}1\\\\ 4\\\\\\end{bmatrix}$, then:\n",
        "\n",
        "\\begin{equation}\n",
        "\\mathbf{x} \\cdot \\mathbf{y} = 2*1 + 3*4 = 14\\text{.}\n",
        "\\end{equation}\n",
        "\n",
        "We will discuss more about what the dot product represents geometrically after the next demo.\n",
        "\n",
        "\n",
        "We are using the dot product to model neural firing. Specifically, we have multiple retinal neurons connected to a LGN neuron. The LGN neuron response is a weighted sum of the retinal firing rates (where the weights are the strengths of the synapses). We can capture this as the dot product between a vector of retinal firing rates and a vector of weights from each retinal neuron.\n",
        "\n",
        "</details>\n",
        "\n",
        "In code, we can compute the dot product between two vectors represented by numpy arrays using `np.dot`:\n",
        "\n",
        "```python\n",
        "x = np.array([2, 3])\n",
        "y = np.array([1, 4])\n",
        "dot_prod = np.dot(x, y)\n",
        "```\n",
        "\n",
        "In the following demo, we have two retinal neurons with varying firing rates ($r_1$ and $r_2$). We will allow our firing rates to be negative in this example. We can represent our retinal firing rates with the vector $\\mathbf{r} = \\begin{bmatrix} r_1\\\\ r_2\\\\ \\end{bmatrix}$.\n",
        "\n",
        "We have weights from each of these to an LGN neuron: the weight of the connection from the first retinal neuron is 1 and the weight from the second is 2. See the circuit below. We can represent our weights with the vector $\\mathbf{w} = \\begin{bmatrix} 1\\\\ 2\\\\ \\end{bmatrix}$.\n",
        "\n",
        "The LGN firing rate is the dot product of the retinal firing rate vector and the weight vector:\n",
        "\n",
        "\\begin{equation}\n",
        "g = \\mathbf{w}\\cdot\\mathbf{r} = w_1r_1 + w_2r_2\n",
        "\\end{equation}"
      ]
    },
    {
      "cell_type": "markdown",
      "metadata": {
        "execution": {},
        "id": "2cg5_anZhtOB"
      },
      "source": [
        "<figure>\n",
        "<img src=\"https://raw.githubusercontent.com/NeuromatchAcademy/precourse/main/tutorials/W0D3_LinearAlgebra/static/nodes.png\">\n",
        "</figure>"
      ]
    },
    {
      "cell_type": "markdown",
      "metadata": {
        "execution": {},
        "id": "AFHBOvvphtOC"
      },
      "source": [
        "### Interactive Demo 3.1: LGN firing\n",
        "\n",
        "\n",
        "In the following demo you will try various combinations of firing rates of the retinal neurons (thus moving the vector that corresponds to the firing rates).  When you move the retinal firing rates around, you will see the heatmap in that area appear, which shows the corresponding LGN neuron firing rate (for that combo of retina firing). Remember that this value is computed as the dot product between the retinal firing rate vector and the weight vector.\n",
        "\n",
        "Play with the following demo and then discuss these questions:\n",
        "\n",
        "\n",
        "1.   For a given length of the retinal firing rate vector, what direction maximally excites the LGN neuron (highest postsynaptic firing rate)? How does it relate to the weights vector?\n",
        "2.   For a given length of the retinal firing rate vector, what direction minimally excites the LGN neuron?\n",
        "3.   When does the LGN neuron have 0 firing rate? What is the relationship between the weights and retinal firing rate vector?\n",
        "4.   For a given direction, how does the LGN firing rate vary with length of the retinal firing rate vector?\n",
        "5.   Let's say the retinal neurons are tightly linked and the length of the retinal firing rate vector has to be 1. In other words, it has to be a unit vector. How would you find the retinal firing rates that maximally excite the LGN neuron?"
      ]
    },
    {
      "cell_type": "code",
      "execution_count": null,
      "metadata": {
        "cellView": "form",
        "execution": {},
        "id": "T1RVGpQKhtOC"
      },
      "outputs": [],
      "source": [
        "#@markdown Make sure you execute this cell to enable the widget!\n",
        "\n",
        "step = .1\n",
        "x_vec = np.arange(-4, 4.001, step)\n",
        "y_vec = np.arange(-4, 4.001, step)\n",
        "n_pixels = x_vec.shape[0]\n",
        "\n",
        "\n",
        "heatmap = np.zeros((n_pixels, n_pixels))\n",
        "y = np.array([1, 3])\n",
        "for i, coord1 in enumerate(x_vec):\n",
        "  for j, coord2 in enumerate(x_vec):\n",
        "    heatmap[i, j] = np.dot(np.array([coord1, coord2]), y)\n",
        "circle_mask = np.zeros((n_pixels, n_pixels))\n",
        "\n",
        "for i, coord_i in enumerate(x_vec):\n",
        "  for j, coord_j in enumerate(y_vec):\n",
        "    circle_mask[i, j] = np.sqrt(coord_i**2 + coord_j**2)\n",
        "\n",
        "circle_mask = circle_mask < 4\n",
        "\n",
        "heatmap = heatmap * circle_mask\n",
        "mask = np.zeros((n_pixels, n_pixels))\n",
        "\n",
        "def plot_heatmap(x, y, mask):\n",
        "\n",
        "  fig, ax = plt.subplots()\n",
        "\n",
        "  ax.spines['top'].set_color('none')\n",
        "  ax.spines['bottom'].set_position('zero')\n",
        "  ax.spines['left'].set_position('zero')\n",
        "  ax.spines['right'].set_color('none')\n",
        "\n",
        "  heatmap[np.where(x_vec == x[0])[0], np.where(x_vec == x[1])[0]] = np.dot(x, y)\n",
        "\n",
        "  masked_x = np.abs(x_vec - x[0]) < 1\n",
        "  masked_y = np.abs(y_vec - x[1]) < 1\n",
        "  mask += np.outer(masked_x, masked_y)\n",
        "  mask = np.minimum(mask, 1)\n",
        "\n",
        "  im = ax.imshow((heatmap * mask).T, vmin = -15, vmax = 15, origin = 'lower', alpha = .5, extent=[-n_pixels/2., n_pixels/2., -n_pixels/2., n_pixels/2. ], cmap = 'bwr')\n",
        "  cbar = plt.colorbar(im, ax = ax)\n",
        "  cbar.set_label('Response of LGN neuron (g)', rotation=270, labelpad=20)\n",
        "  ax.set(xticklabels = [], yticklabels = [], xlabel = '$\\mathbf{r}_1$')\n",
        "  ax.set_ylabel('$\\mathbf{r}_2$', rotation=0)\n",
        "\n",
        "  ax.xaxis.set_label_coords(0, .45)\n",
        "  ax.yaxis.set_label_coords(.5, 1)\n",
        "  fr_arr = ax.arrow(0, 0, (1/step)*x[0], (1/step)*x[1], width=.5, color='#40B0A6', length_includes_head = True);\n",
        "  we_arr = ax.arrow(0, 0, (1/step)*y[0], (1/step)*y[1], width=.5, color='k', length_includes_head = True);\n",
        "\n",
        "\n",
        "  leg = ax.legend([fr_arr, we_arr], ['Retina firing rate vector', 'Weight vector'],\n",
        "                  handlelength = 0, frameon=False, fontsize = 17,loc = 'center',\n",
        "                  bbox_to_anchor=(.5, -.1))\n",
        "  for handle, label in zip(leg.legendHandles, leg.texts):\n",
        "        label.set_color(handle.get_facecolor())\n",
        "        handle.set_visible(False)\n",
        "\n",
        "  return mask\n",
        "\n",
        "style = {'description_width': 'initial'}\n",
        "\n",
        "@widgets.interact(neuron1_firing = widgets.FloatSlider(value=1.0, min=-4, max=4, step=1, style=style), neuron2_firing = widgets.FloatSlider(value=1.0, min=-4, max=4, step=1, style=style), mask = fixed(mask),  heatmap = fixed(heatmap))\n",
        "def plot_linear_combination(neuron1_firing, neuron2_firing, mask):\n",
        "  firing_rates = np.array([neuron1_firing, neuron2_firing])\n",
        "  weights = np.array([1, 2])\n",
        "  mask = plot_heatmap(firing_rates, weights, mask)"
      ]
    },
    {
      "cell_type": "markdown",
      "metadata": {
        "execution": {},
        "id": "Gx6MHpp6htOD"
      },
      "source": [
        "[*Click for solution*](https://github.com/NeuromatchAcademy/precourse/tree/main/tutorials/W0D3_LinearAlgebra/solutions/W0D3_Tutorial1_Solution_35f26c32.py)\n",
        "\n"
      ]
    },
    {
      "cell_type": "code",
      "execution_count": null,
      "metadata": {
        "cellView": "form",
        "execution": {},
        "id": "7Z4Yd0iohtOD"
      },
      "outputs": [],
      "source": [
        "# @title Submit your feedback\n",
        "content_review(f\"{feedback_prefix}_LGN_firing_Interactive_Demo\")"
      ]
    },
    {
      "cell_type": "markdown",
      "metadata": {
        "execution": {},
        "id": "H7BZSRJfhtOE"
      },
      "source": [
        "## Section 3.2: The geometry of the dot product\n",
        "\n",
        "*Estimated timing to here from start of tutorial: 1 hr, 20 min*"
      ]
    },
    {
      "cell_type": "code",
      "execution_count": null,
      "metadata": {
        "cellView": "form",
        "execution": {},
        "id": "jLkit43_htOE"
      },
      "outputs": [],
      "source": [
        "# @title Video 7: The geometry of the dot product\n",
        "from ipywidgets import widgets\n",
        "from IPython.display import YouTubeVideo\n",
        "from IPython.display import IFrame\n",
        "from IPython.display import display\n",
        "\n",
        "\n",
        "class PlayVideo(IFrame):\n",
        "  def __init__(self, id, source, page=1, width=400, height=300, **kwargs):\n",
        "    self.id = id\n",
        "    if source == 'Bilibili':\n",
        "      src = f'https://player.bilibili.com/player.html?bvid={id}&page={page}'\n",
        "    elif source == 'Osf':\n",
        "      src = f'https://mfr.ca-1.osf.io/render?url=https://osf.io/download/{id}/?direct%26mode=render'\n",
        "    super(PlayVideo, self).__init__(src, width, height, **kwargs)\n",
        "\n",
        "\n",
        "def display_videos(video_ids, W=400, H=300, fs=1):\n",
        "  tab_contents = []\n",
        "  for i, video_id in enumerate(video_ids):\n",
        "    out = widgets.Output()\n",
        "    with out:\n",
        "      if video_ids[i][0] == 'Youtube':\n",
        "        video = YouTubeVideo(id=video_ids[i][1], width=W,\n",
        "                             height=H, fs=fs, rel=0)\n",
        "        print(f'Video available at https://youtube.com/watch?v={video.id}')\n",
        "      else:\n",
        "        video = PlayVideo(id=video_ids[i][1], source=video_ids[i][0], width=W,\n",
        "                          height=H, fs=fs, autoplay=False)\n",
        "        if video_ids[i][0] == 'Bilibili':\n",
        "          print(f'Video available at https://www.bilibili.com/video/{video.id}')\n",
        "        elif video_ids[i][0] == 'Osf':\n",
        "          print(f'Video available at https://osf.io/{video.id}')\n",
        "      display(video)\n",
        "    tab_contents.append(out)\n",
        "  return tab_contents\n",
        "\n",
        "\n",
        "video_ids = [('Youtube', 'S2wKFY5iWUM'), ('Bilibili', 'BV1bo4y1C7JL')]\n",
        "tab_contents = display_videos(video_ids, W=854, H=480)\n",
        "tabs = widgets.Tab()\n",
        "tabs.children = tab_contents\n",
        "for i in range(len(tab_contents)):\n",
        "  tabs.set_title(i, video_ids[i][0])\n",
        "display(tabs)"
      ]
    },
    {
      "cell_type": "code",
      "execution_count": null,
      "metadata": {
        "cellView": "form",
        "execution": {},
        "id": "j9SKPDjYhtOE"
      },
      "outputs": [],
      "source": [
        "# @title Submit your feedback\n",
        "content_review(f\"{feedback_prefix}_The_geometry_of_the_dot_product_Video\")"
      ]
    },
    {
      "cell_type": "markdown",
      "metadata": {
        "execution": {},
        "id": "alfR949whtOF"
      },
      "source": [
        "This video covers the geometry of the dot product: how it relates to the length of the vectors and the angle between them.\n",
        "\n",
        "<details>\n",
        "<summary> <font color='blue'>Click here for text recap of video </font></summary>\n",
        "\n",
        "An alternate way of defining the dot product is as the multiple of the lengths of the two vectors and the angle between them $\\theta$:\n",
        "\n",
        "\\begin{equation}\n",
        "\\mathbf{x} \\cdot \\mathbf{y} = ||\\mathbf{x}|| \\cdot ||\\mathbf{y}|| \\cdot \\text{cos}\\theta\n",
        "\\end{equation}\n",
        "\n",
        "This means that:\n",
        "\n",
        "- the dot product is largest when the vectors are the same direction (angle $0^{\\text{o}}$)\n",
        "\n",
        "- the dot product is smallest when the vectors are the opposite direction (angle $180^{\\text{o}}$)\n",
        "\n",
        "- the dot product is 0 when the vectors are perpendicular (angle $90^{\\text{o}}$)\n",
        "\n",
        "- for fixed vector lengths, the dot product is a measure of similarity between the vectors"
      ]
    },
    {
      "cell_type": "markdown",
      "metadata": {
        "execution": {},
        "id": "wZoUTfmuhtOF"
      },
      "source": [
        "---\n",
        "# Summary\n",
        "\n",
        "*Estimated timing of tutorial: 1 hour, 25 minutes*\n",
        "\n",
        "Hopefully, this tutorial has helped you better understand the world of vectors. Specifically, you learned:\n",
        "\n",
        "* A geometrical view of vectors, their properties, and their operations\n",
        "\n",
        "* How we can define space in terms of basis vectors\n",
        "\n",
        "We will build on this knowledge in the next tutorial when we tackle matrices.\n"
      ]
    },
    {
      "cell_type": "markdown",
      "metadata": {
        "execution": {},
        "id": "UzJDg1V-htOF"
      },
      "source": [
        "---\n",
        "# Bonus\n"
      ]
    },
    {
      "cell_type": "markdown",
      "metadata": {
        "execution": {},
        "id": "j-J8dOAbhtOF"
      },
      "source": [
        "---\n",
        "## Bonus Section 1: Vector space"
      ]
    },
    {
      "cell_type": "markdown",
      "metadata": {
        "execution": {},
        "id": "UoLrsls7htOF"
      },
      "source": [
        "## Bonus Section 1.1: Definition of vector space\n",
        "\n",
        "A vector space is formally defined as a collection of vectors that satisfy the below axioms for every vector.\n",
        "\n",
        "Let $\\mathbf{x}$, $\\mathbf{y}$, and $\\mathbf{z}$ be vectors in a vector space $V$, and $c$ and $d$ scalars.\n",
        "\n",
        "1. $\\mathbf{x}$ + $\\mathbf{y}$ in $V$\n",
        "2. $\\mathbf{x}$ + $\\mathbf{y}$ = $\\mathbf{y}$ + $\\mathbf{x}$\n",
        "3. ($\\mathbf{x}$ + $\\mathbf{y}$) + $\\mathbf{z}$ = $\\mathbf{x}$ + ($\\mathbf{y}$ + $\\mathbf{z}$)\n",
        "4. Zero vector ($\\mathbf{0}$) exists in $V$ such that $\\mathbf{x} + \\mathbf{0} = \\mathbf{x}$\n",
        "5. Inverse $-\\mathbf{x}$ exists in $V$ such that $\\mathbf{x} + -\\mathbf{x} = \\mathbf{0}$\n",
        "6. $c\\mathbf{x}$ in $V$\n",
        "7. $c(\\mathbf{x}+\\mathbf{y}) = c\\mathbf{x} + c\\mathbf{y})$\n",
        "8. $(c + d)\\mathbf{x} = c\\mathbf{x}+d\\mathbf{x}$\n",
        "9. $c(d\\mathbf{x}) = (cd)\\mathbf{x}$\n",
        "10. $1\\mathbf{x} = \\mathbf{x}$"
      ]
    },
    {
      "cell_type": "markdown",
      "metadata": {
        "execution": {},
        "id": "8pDocqwRhtOF"
      },
      "source": [
        "## Bonus Section 1.2: Polynomial vector space example\n",
        "\n",
        "We will mostly work with the vector spaces you've seen in this tutorial: different N-dimensional spaces of real numbers or subspaces within those. Other things can also be vector spaces though! As an example, one vector space is the set of all polynomials of degree 3 ($P_3$).\n",
        "\n",
        "Remember that a polynomial of degree 3 is:\n",
        "\n",
        "\\begin{equation}\n",
        "p(x) = c_o + c_1x + c_2x^2 + c_3x^3\n",
        "\\end{equation}\n",
        "\n",
        "We can have the basis for this vector space be:\n",
        "\n",
        "\\begin{equation}\n",
        "\\text{Basis: } \\{ 1, x, x^2, x^3 \\}\n",
        "\\end{equation}\n",
        "\n",
        "The components of a vector representing a specific polynomial would then be:\n",
        "\n",
        "\\begin{equation}\n",
        "\\mathbf{x} = \\begin{bmatrix} c_0 \\\\c_1\\\\ c_2\\\\ c_3 \\end{bmatrix}\n",
        "\\end{equation}\n",
        "\n",
        "These vectors obey all of the axioms in the previous section as you add polynomials, multiple them with a scalar, etc.!"
      ]
    },
    {
      "cell_type": "markdown",
      "metadata": {
        "execution": {},
        "id": "X_nfCsUIhtOF"
      },
      "source": [
        "---\n",
        "## Bonus Section 2: Proof of dot product equivalent definitions\n",
        "\n",
        "Let's prove that our two definitions of a dot product are equivalent:\n",
        "\n",
        "\\begin{align}\n",
        "\\mathbf{x}\\cdot\\mathbf{y} &= \\sum_{i=1}^N \\mathbf{x}_i\\mathbf{y}_i \\\\\n",
        "&= ||\\mathbf{x}||||\\mathbf{y}||cos(\\theta)\n",
        "\\end{align}\n",
        "\n",
        "where $\\mathbf{x}$ and $\\mathbf{y}$ are vectors, and $\\theta$ is the angle between them."
      ]
    },
    {
      "cell_type": "markdown",
      "metadata": {
        "execution": {},
        "id": "rEIng_m-htOG"
      },
      "source": [
        "<figure>\n",
        "<img src=\"https://raw.githubusercontent.com/NeuromatchAcademy/precourse/main/tutorials/W0D3_LinearAlgebra/static/vector_diagram.png\">\n",
        "</figure>"
      ]
    },
    {
      "cell_type": "markdown",
      "metadata": {
        "execution": {},
        "id": "JFqwerhWhtOG"
      },
      "source": [
        "We start by using the law of cosines to write out the formula for $||\\mathbf{a}||$, where $\\mathbf{a}$ is defined in the figure above.\n",
        "\n",
        "\\begin{equation}\n",
        "\\|\\mathbf{a}\\|^2 = \\color{blue}{\\|\\mathbf{x}\\|^2 + \\|\\mathbf{y}\\|^2 -2\\|\\mathbf{x}\\|\\|\\mathbf{y}\\|cos(\\theta)}\n",
        "\\end{equation}\n",
        "\n",
        "<br>\n",
        "We can then write $\\mathbf{a}$ as a vector subtraction of $\\mathbf{x}$ and $\\mathbf{y}$. Technically, $\\mathbf{a}$ is pictured above not starting at the origin but we ultimately only care about it's length and direction.\n",
        "\n",
        "\\begin{align*}\n",
        "\\mathbf{a} &= \\mathbf{y} - \\mathbf{x} \\\\\n",
        "\\|\\mathbf{a}\\| &= \\|\\mathbf{y} - \\mathbf{x}\\| \\\\\n",
        "\\end{align*}\n",
        "\n",
        "One key fact we will use is that the squared length of a vector is the sum of each component squared, which is equivalent to the dot product of a vector with itself. We can now write $||a||^2$ in terms of the dot product. We can substitute in our definition from above for $\\mathbf{a}$ in terms of $\\mathbf{x}$ and $\\mathbf{y}$.\n",
        "\n",
        "\\begin{align*}\n",
        " \\|\\mathbf{a}\\|^2 &= \\mathbf{a}\\cdot\\mathbf{a} \\\\\n",
        " &= (\\mathbf{y} - \\mathbf{x})\\cdot(\\mathbf{y} - \\mathbf{x}) \\\\\n",
        " &= \\mathbf{y}\\cdot\\mathbf{y} - 2(\\mathbf{x}\\cdot\\mathbf{y}) + \\mathbf{x}\\cdot\\mathbf{x} \\\\\n",
        "&= \\color{green}{\\|\\mathbf{y}\\|^2 - 2(\\mathbf{x}\\cdot\\mathbf{y}) + \\|\\mathbf{x}\\|^2}\\\\\n",
        "\\end{align*}\n",
        "\n",
        "We can now equate our two definitions for $||a||^2$ from above and solve for the dot product!\n",
        "\n",
        "\\begin{align*}\n",
        "\\color{blue}{\\|\\mathbf{x}\\|^2 + \\|\\mathbf{y}\\|^2 -2\\|\\mathbf{x}\\|\\|\\mathbf{y}\\|cos(\\theta)} &= \\color{green}{\\|\\mathbf{y}\\|^2 - 2(\\mathbf{x}\\cdot\\mathbf{y}) + \\|\\mathbf{x}\\|^2}\\\\\n",
        " -2\\|\\mathbf{x}\\|\\|\\mathbf{y}\\|cos(\\theta) &= - 2(\\mathbf{x}\\cdot\\mathbf{y}) \\\\\n",
        "\\|\\mathbf{x}\\|\\|\\mathbf{y}\\|cos(\\theta) &= \\mathbf{x}\\cdot\\mathbf{y} \\\\\n",
        "\\end{align*}\n",
        "\n",
        "We see our geometrical definition of the dot product!"
      ]
    }
  ],
  "metadata": {
    "colab": {
      "name": "W0D3_Tutorial1",
      "provenance": [],
      "toc_visible": true,
      "include_colab_link": true
    },
    "kernel": {
      "display_name": "Python 3",
      "language": "python",
      "name": "python3"
    },
    "kernelspec": {
      "display_name": "Python 3",
      "name": "python3"
    },
    "language_info": {
      "codemirror_mode": {
        "name": "ipython",
        "version": 3
      },
      "file_extension": ".py",
      "mimetype": "text/x-python",
      "name": "python",
      "nbconvert_exporter": "python",
      "pygments_lexer": "ipython3",
      "version": "3.9.17"
    },
    "widgets": {
      "application/vnd.jupyter.widget-state+json": {
        "bac2e220a466470b82902e53893aa586": {
          "model_module": "@jupyter-widgets/controls",
          "model_name": "TabModel",
          "model_module_version": "1.5.0",
          "state": {
            "_dom_classes": [],
            "_model_module": "@jupyter-widgets/controls",
            "_model_module_version": "1.5.0",
            "_model_name": "TabModel",
            "_titles": {
              "0": "Youtube",
              "1": "Bilibili"
            },
            "_view_count": null,
            "_view_module": "@jupyter-widgets/controls",
            "_view_module_version": "1.5.0",
            "_view_name": "TabView",
            "box_style": "",
            "children": [
              "IPY_MODEL_e2c5ac7f64cd44d98d9fa7c62878013a",
              "IPY_MODEL_c12271991b814340af372572efa5f8f2"
            ],
            "layout": "IPY_MODEL_504152a626ab4acbbcd3d277fd8d0425",
            "selected_index": 0
          }
        },
        "e2c5ac7f64cd44d98d9fa7c62878013a": {
          "model_module": "@jupyter-widgets/output",
          "model_name": "OutputModel",
          "model_module_version": "1.0.0",
          "state": {
            "_dom_classes": [],
            "_model_module": "@jupyter-widgets/output",
            "_model_module_version": "1.0.0",
            "_model_name": "OutputModel",
            "_view_count": null,
            "_view_module": "@jupyter-widgets/output",
            "_view_module_version": "1.0.0",
            "_view_name": "OutputView",
            "layout": "IPY_MODEL_e0c868b96f984f598f2e46797e7fa234",
            "msg_id": "",
            "outputs": [
              {
                "output_type": "stream",
                "name": "stdout",
                "text": [
                  "Video available at https://youtube.com/watch?v=Vi6L9fBk2Uc\n"
                ]
              },
              {
                "output_type": "display_data",
                "data": {
                  "text/plain": "<IPython.lib.display.YouTubeVideo at 0x7abd784219d0>",
                  "text/html": "\n        <iframe\n            width=\"854\"\n            height=\"480\"\n            src=\"https://www.youtube.com/embed/Vi6L9fBk2Uc?fs=1&rel=0\"\n            frameborder=\"0\"\n            allowfullscreen\n            \n        ></iframe>\n        ",
                  "image/jpeg": "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\n"
                },
                "metadata": {}
              }
            ]
          }
        },
        "c12271991b814340af372572efa5f8f2": {
          "model_module": "@jupyter-widgets/output",
          "model_name": "OutputModel",
          "model_module_version": "1.0.0",
          "state": {
            "_dom_classes": [],
            "_model_module": "@jupyter-widgets/output",
            "_model_module_version": "1.0.0",
            "_model_name": "OutputModel",
            "_view_count": null,
            "_view_module": "@jupyter-widgets/output",
            "_view_module_version": "1.0.0",
            "_view_name": "OutputView",
            "layout": "IPY_MODEL_c5bf8e5b9da04a4a91ad549a4049e1d5",
            "msg_id": "",
            "outputs": [
              {
                "output_type": "stream",
                "name": "stdout",
                "text": [
                  "Video available at https://www.bilibili.com/video/BV1sX4y1P7wT\n"
                ]
              },
              {
                "output_type": "display_data",
                "data": {
                  "text/plain": "<__main__.PlayVideo at 0x7abd78437b10>",
                  "text/html": "\n        <iframe\n            width=\"854\"\n            height=\"480\"\n            src=\"https://player.bilibili.com/player.html?bvid=BV1sX4y1P7wT&page=1?fs=1&autoplay=False\"\n            frameborder=\"0\"\n            allowfullscreen\n            \n        ></iframe>\n        "
                },
                "metadata": {}
              }
            ]
          }
        },
        "504152a626ab4acbbcd3d277fd8d0425": {
          "model_module": "@jupyter-widgets/base",
          "model_name": "LayoutModel",
          "model_module_version": "1.2.0",
          "state": {
            "_model_module": "@jupyter-widgets/base",
            "_model_module_version": "1.2.0",
            "_model_name": "LayoutModel",
            "_view_count": null,
            "_view_module": "@jupyter-widgets/base",
            "_view_module_version": "1.2.0",
            "_view_name": "LayoutView",
            "align_content": null,
            "align_items": null,
            "align_self": null,
            "border": null,
            "bottom": null,
            "display": null,
            "flex": null,
            "flex_flow": null,
            "grid_area": null,
            "grid_auto_columns": null,
            "grid_auto_flow": null,
            "grid_auto_rows": null,
            "grid_column": null,
            "grid_gap": null,
            "grid_row": null,
            "grid_template_areas": null,
            "grid_template_columns": null,
            "grid_template_rows": null,
            "height": null,
            "justify_content": null,
            "justify_items": null,
            "left": null,
            "margin": null,
            "max_height": null,
            "max_width": null,
            "min_height": null,
            "min_width": null,
            "object_fit": null,
            "object_position": null,
            "order": null,
            "overflow": null,
            "overflow_x": null,
            "overflow_y": null,
            "padding": null,
            "right": null,
            "top": null,
            "visibility": null,
            "width": null
          }
        },
        "e0c868b96f984f598f2e46797e7fa234": {
          "model_module": "@jupyter-widgets/base",
          "model_name": "LayoutModel",
          "model_module_version": "1.2.0",
          "state": {
            "_model_module": "@jupyter-widgets/base",
            "_model_module_version": "1.2.0",
            "_model_name": "LayoutModel",
            "_view_count": null,
            "_view_module": "@jupyter-widgets/base",
            "_view_module_version": "1.2.0",
            "_view_name": "LayoutView",
            "align_content": null,
            "align_items": null,
            "align_self": null,
            "border": null,
            "bottom": null,
            "display": null,
            "flex": null,
            "flex_flow": null,
            "grid_area": null,
            "grid_auto_columns": null,
            "grid_auto_flow": null,
            "grid_auto_rows": null,
            "grid_column": null,
            "grid_gap": null,
            "grid_row": null,
            "grid_template_areas": null,
            "grid_template_columns": null,
            "grid_template_rows": null,
            "height": null,
            "justify_content": null,
            "justify_items": null,
            "left": null,
            "margin": null,
            "max_height": null,
            "max_width": null,
            "min_height": null,
            "min_width": null,
            "object_fit": null,
            "object_position": null,
            "order": null,
            "overflow": null,
            "overflow_x": null,
            "overflow_y": null,
            "padding": null,
            "right": null,
            "top": null,
            "visibility": null,
            "width": null
          }
        },
        "c5bf8e5b9da04a4a91ad549a4049e1d5": {
          "model_module": "@jupyter-widgets/base",
          "model_name": "LayoutModel",
          "model_module_version": "1.2.0",
          "state": {
            "_model_module": "@jupyter-widgets/base",
            "_model_module_version": "1.2.0",
            "_model_name": "LayoutModel",
            "_view_count": null,
            "_view_module": "@jupyter-widgets/base",
            "_view_module_version": "1.2.0",
            "_view_name": "LayoutView",
            "align_content": null,
            "align_items": null,
            "align_self": null,
            "border": null,
            "bottom": null,
            "display": null,
            "flex": null,
            "flex_flow": null,
            "grid_area": null,
            "grid_auto_columns": null,
            "grid_auto_flow": null,
            "grid_auto_rows": null,
            "grid_column": null,
            "grid_gap": null,
            "grid_row": null,
            "grid_template_areas": null,
            "grid_template_columns": null,
            "grid_template_rows": null,
            "height": null,
            "justify_content": null,
            "justify_items": null,
            "left": null,
            "margin": null,
            "max_height": null,
            "max_width": null,
            "min_height": null,
            "min_width": null,
            "object_fit": null,
            "object_position": null,
            "order": null,
            "overflow": null,
            "overflow_x": null,
            "overflow_y": null,
            "padding": null,
            "right": null,
            "top": null,
            "visibility": null,
            "width": null
          }
        },
        "b4e0914b2596476c834c93ec672178cc": {
          "model_module": "@jupyter-widgets/controls",
          "model_name": "TabModel",
          "model_module_version": "1.5.0",
          "state": {
            "_dom_classes": [],
            "_model_module": "@jupyter-widgets/controls",
            "_model_module_version": "1.5.0",
            "_model_name": "TabModel",
            "_titles": {
              "0": "Youtube",
              "1": "Bilibili"
            },
            "_view_count": null,
            "_view_module": "@jupyter-widgets/controls",
            "_view_module_version": "1.5.0",
            "_view_name": "TabView",
            "box_style": "",
            "children": [
              "IPY_MODEL_12b6d76e17e348f8a331d33fa33f1c2e",
              "IPY_MODEL_5cde4e7423f64f30a11aa9ac54f2ad8a"
            ],
            "layout": "IPY_MODEL_4bd07fa74448450885066f4cae4f01c2",
            "selected_index": 0
          }
        },
        "12b6d76e17e348f8a331d33fa33f1c2e": {
          "model_module": "@jupyter-widgets/output",
          "model_name": "OutputModel",
          "model_module_version": "1.0.0",
          "state": {
            "_dom_classes": [],
            "_model_module": "@jupyter-widgets/output",
            "_model_module_version": "1.0.0",
            "_model_name": "OutputModel",
            "_view_count": null,
            "_view_module": "@jupyter-widgets/output",
            "_view_module_version": "1.0.0",
            "_view_name": "OutputView",
            "layout": "IPY_MODEL_7f0f241dd56445de94b56b7b348ca84d",
            "msg_id": "",
            "outputs": [
              {
                "output_type": "stream",
                "name": "stdout",
                "text": [
                  "Video available at https://youtube.com/watch?v=g7DoHnZkUlw\n"
                ]
              },
              {
                "output_type": "display_data",
                "data": {
                  "text/plain": "<IPython.lib.display.YouTubeVideo at 0x7abd78401090>",
                  "text/html": "\n        <iframe\n            width=\"854\"\n            height=\"480\"\n            src=\"https://www.youtube.com/embed/g7DoHnZkUlw?fs=1&rel=0\"\n            frameborder=\"0\"\n            allowfullscreen\n            \n        ></iframe>\n        ",
                  "image/jpeg": "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\n"
                },
                "metadata": {}
              }
            ]
          }
        },
        "5cde4e7423f64f30a11aa9ac54f2ad8a": {
          "model_module": "@jupyter-widgets/output",
          "model_name": "OutputModel",
          "model_module_version": "1.0.0",
          "state": {
            "_dom_classes": [],
            "_model_module": "@jupyter-widgets/output",
            "_model_module_version": "1.0.0",
            "_model_name": "OutputModel",
            "_view_count": null,
            "_view_module": "@jupyter-widgets/output",
            "_view_module_version": "1.0.0",
            "_view_name": "OutputView",
            "layout": "IPY_MODEL_ee407d06ca1b4aa6b7acd684718c6fca",
            "msg_id": "",
            "outputs": [
              {
                "output_type": "stream",
                "name": "stdout",
                "text": [
                  "Video available at https://www.bilibili.com/video/BV1iv411H7bK\n"
                ]
              },
              {
                "output_type": "display_data",
                "data": {
                  "text/plain": "<__main__.PlayVideo at 0x7abd784033d0>",
                  "text/html": "\n        <iframe\n            width=\"854\"\n            height=\"480\"\n            src=\"https://player.bilibili.com/player.html?bvid=BV1iv411H7bK&page=1?fs=1&autoplay=False\"\n            frameborder=\"0\"\n            allowfullscreen\n            \n        ></iframe>\n        "
                },
                "metadata": {}
              }
            ]
          }
        },
        "4bd07fa74448450885066f4cae4f01c2": {
          "model_module": "@jupyter-widgets/base",
          "model_name": "LayoutModel",
          "model_module_version": "1.2.0",
          "state": {
            "_model_module": "@jupyter-widgets/base",
            "_model_module_version": "1.2.0",
            "_model_name": "LayoutModel",
            "_view_count": null,
            "_view_module": "@jupyter-widgets/base",
            "_view_module_version": "1.2.0",
            "_view_name": "LayoutView",
            "align_content": null,
            "align_items": null,
            "align_self": null,
            "border": null,
            "bottom": null,
            "display": null,
            "flex": null,
            "flex_flow": null,
            "grid_area": null,
            "grid_auto_columns": null,
            "grid_auto_flow": null,
            "grid_auto_rows": null,
            "grid_column": null,
            "grid_gap": null,
            "grid_row": null,
            "grid_template_areas": null,
            "grid_template_columns": null,
            "grid_template_rows": null,
            "height": null,
            "justify_content": null,
            "justify_items": null,
            "left": null,
            "margin": null,
            "max_height": null,
            "max_width": null,
            "min_height": null,
            "min_width": null,
            "object_fit": null,
            "object_position": null,
            "order": null,
            "overflow": null,
            "overflow_x": null,
            "overflow_y": null,
            "padding": null,
            "right": null,
            "top": null,
            "visibility": null,
            "width": null
          }
        },
        "7f0f241dd56445de94b56b7b348ca84d": {
          "model_module": "@jupyter-widgets/base",
          "model_name": "LayoutModel",
          "model_module_version": "1.2.0",
          "state": {
            "_model_module": "@jupyter-widgets/base",
            "_model_module_version": "1.2.0",
            "_model_name": "LayoutModel",
            "_view_count": null,
            "_view_module": "@jupyter-widgets/base",
            "_view_module_version": "1.2.0",
            "_view_name": "LayoutView",
            "align_content": null,
            "align_items": null,
            "align_self": null,
            "border": null,
            "bottom": null,
            "display": null,
            "flex": null,
            "flex_flow": null,
            "grid_area": null,
            "grid_auto_columns": null,
            "grid_auto_flow": null,
            "grid_auto_rows": null,
            "grid_column": null,
            "grid_gap": null,
            "grid_row": null,
            "grid_template_areas": null,
            "grid_template_columns": null,
            "grid_template_rows": null,
            "height": null,
            "justify_content": null,
            "justify_items": null,
            "left": null,
            "margin": null,
            "max_height": null,
            "max_width": null,
            "min_height": null,
            "min_width": null,
            "object_fit": null,
            "object_position": null,
            "order": null,
            "overflow": null,
            "overflow_x": null,
            "overflow_y": null,
            "padding": null,
            "right": null,
            "top": null,
            "visibility": null,
            "width": null
          }
        },
        "ee407d06ca1b4aa6b7acd684718c6fca": {
          "model_module": "@jupyter-widgets/base",
          "model_name": "LayoutModel",
          "model_module_version": "1.2.0",
          "state": {
            "_model_module": "@jupyter-widgets/base",
            "_model_module_version": "1.2.0",
            "_model_name": "LayoutModel",
            "_view_count": null,
            "_view_module": "@jupyter-widgets/base",
            "_view_module_version": "1.2.0",
            "_view_name": "LayoutView",
            "align_content": null,
            "align_items": null,
            "align_self": null,
            "border": null,
            "bottom": null,
            "display": null,
            "flex": null,
            "flex_flow": null,
            "grid_area": null,
            "grid_auto_columns": null,
            "grid_auto_flow": null,
            "grid_auto_rows": null,
            "grid_column": null,
            "grid_gap": null,
            "grid_row": null,
            "grid_template_areas": null,
            "grid_template_columns": null,
            "grid_template_rows": null,
            "height": null,
            "justify_content": null,
            "justify_items": null,
            "left": null,
            "margin": null,
            "max_height": null,
            "max_width": null,
            "min_height": null,
            "min_width": null,
            "object_fit": null,
            "object_position": null,
            "order": null,
            "overflow": null,
            "overflow_x": null,
            "overflow_y": null,
            "padding": null,
            "right": null,
            "top": null,
            "visibility": null,
            "width": null
          }
        }
      }
    }
  },
  "nbformat": 4,
  "nbformat_minor": 0
}